{
 "cells": [
  {
   "cell_type": "markdown",
   "metadata": {},
   "source": [
    "# PCA学习与实践"
   ]
  },
  {
   "cell_type": "markdown",
   "metadata": {},
   "source": [
    "降维是对数据高维度特征的一种预处理方法。降维是将高维度的数据保留下最重要的一些特征，去除噪声和不重要的特征，从而实现提升数据处理速度的目的。在实际的生产和应用中，降维在一定的信息损失范围内，可以为我们节省大量的时间和成本。降维也成为了应用非常广泛的数据预处理方法。\n",
    "\n",
    "降维具有如下一些优点：\n",
    "\n",
    "（1）使得数据集更易使用\n",
    "\n",
    "（2）降低算法的计算开销\n",
    "\n",
    "（3）去除噪声\n",
    "\n",
    "（4）使得结果容易理解"
   ]
  },
  {
   "cell_type": "markdown",
   "metadata": {},
   "source": [
    "### PCA(Principal Component Analysis)，即主成分分析方法\n",
    "是一种使用最广泛的数据降维算法，PCA的主要思想是将n维特征映射到k维上，这k维是全新的正交特征也被称为主成分，是在原有n维特征的基础上重新构造出来的k维特征。"
   ]
  },
  {
   "cell_type": "markdown",
   "metadata": {},
   "source": [
    "PCA的工作就是从原始的空间中顺序地找一组相互正交的坐标轴，新的坐标轴的选择与数据本身是密切相关的。其中，第一个新坐标轴选择是原始数据中方差最大的方向，第二个新坐标轴选取是与第一个坐标轴正交的平面中使得方差最大的，第三个轴是与第1,2个轴正交的平面中方差最大的。依次类推，可以得到n个这样的坐标轴。\n"
   ]
  },
  {
   "cell_type": "markdown",
   "metadata": {},
   "source": [
    "### PCA有两种通俗易懂的解释：\n",
    "(1)最大方差理论；(2)最小化降维造成的损失"
   ]
  },
  {
   "cell_type": "markdown",
   "metadata": {},
   "source": [
    "### 我们如何得到这些包含最大差异性的主成分方向\n",
    "事实上，通过计算数据矩阵的协方差矩阵，然后得到协方差矩阵的特征值特征向量，选择特征值最大(即方差最大)的k个特征所对应的特征向量组成的矩阵。这样就可以将数据矩阵转换到新的空间当中，实现数据特征的降维。"
   ]
  },
  {
   "cell_type": "markdown",
   "metadata": {},
   "source": [
    "#### 通过Python实现PCA "
   ]
  },
  {
   "cell_type": "code",
   "execution_count": 6,
   "metadata": {},
   "outputs": [
    {
     "data": {
      "text/plain": [
       "array([[-0.50917706],\n",
       "       [-2.40151069],\n",
       "       [-3.7751606 ],\n",
       "       [ 1.20075534],\n",
       "       [ 2.05572155],\n",
       "       [ 3.42937146]])"
      ]
     },
     "execution_count": 6,
     "metadata": {},
     "output_type": "execute_result"
    }
   ],
   "source": [
    "# implement PCA by Python\n",
    "import numpy as np\n",
    "\n",
    "def pca(X,k): \n",
    "  #k is the components you want\n",
    "  #mean of each feature\n",
    "  n_samples, n_features = X.shape\n",
    "  mean = np.array([np.mean(X[:, i]) for i in range(n_features)])\n",
    "  #normalization\n",
    "  norm_X = X - mean\n",
    "  #scatter matrix\n",
    "  scatter_matrix = np.dot(np.transpose(norm_X),norm_X)\n",
    "  #Calculate the eigenvectors and eigenvalues\n",
    "  eig_val, eig_vec = np.linalg.eig(scatter_matrix)\n",
    "  eig_pairs = [(np.abs(eig_val[i]), eig_vec[:,i]) for i in range(n_features)]\n",
    "  # sort eig_vec based on eig_val from highest to lowest\n",
    "  eig_pairs.sort(reverse=True)\n",
    "  # select the top k eig_vec\n",
    "  feature = np.array([ele[1] for ele in eig_pairs[:k]])\n",
    "  #get new data\n",
    "  data = np.dot(norm_X, np.transpose(feature))\n",
    "  return data\n",
    " \n",
    "X = np.array([[-1, 1], [-2, -1], [-3, -2], [1, 1], [2, 1], [3, 2]])\n",
    "pca(X, 1)"
   ]
  },
  {
   "cell_type": "markdown",
   "metadata": {},
   "source": [
    "#### 通过sklearn实现PCA，与Python实现的作对比"
   ]
  },
  {
   "cell_type": "code",
   "execution_count": 8,
   "metadata": {},
   "outputs": [
    {
     "name": "stdout",
     "output_type": "stream",
     "text": [
      "[[ 0.50917706]\n",
      " [ 2.40151069]\n",
      " [ 3.7751606 ]\n",
      " [-1.20075534]\n",
      " [-2.05572155]\n",
      " [-3.42937146]]\n"
     ]
    }
   ],
   "source": [
    "# implement PCA by sklearn\n",
    "from sklearn.decomposition import PCA\n",
    "import numpy as np\n",
    "\n",
    "X = np.array([[-1, 1], [-2, -1], [-3, -2], [1, 1], [2, 1], [3, 2]])\n",
    "pca = PCA(n_components = 1)\n",
    "pca.fit(X)\n",
    "print(pca.transform(X))"
   ]
  },
  {
   "cell_type": "markdown",
   "metadata": {},
   "source": [
    "#### sklearn与我们通过Python实现的PCA得到的结果不一致\n",
    "sklearn中的PCA是通过svd_flip函数实现的，sklearn对奇异值分解结果进行了一个处理，因为$ui*σi*vi=(-ui)*σi*(-vi)$，也就是u和v同时取反得到的结果是一样的，而这会导致通过PCA降维得到不一样的结果（虽然都是正确的）"
   ]
  }
 ],
 "metadata": {
  "kernelspec": {
   "display_name": "Python 3",
   "language": "python",
   "name": "python3"
  },
  "language_info": {
   "codemirror_mode": {
    "name": "ipython",
    "version": 3
   },
   "file_extension": ".py",
   "mimetype": "text/x-python",
   "name": "python",
   "nbconvert_exporter": "python",
   "pygments_lexer": "ipython3",
   "version": "3.6.4"
  }
 },
 "nbformat": 4,
 "nbformat_minor": 2
}
