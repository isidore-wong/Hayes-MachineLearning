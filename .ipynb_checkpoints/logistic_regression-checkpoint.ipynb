{
 "cells": [
  {
   "cell_type": "markdown",
   "metadata": {},
   "source": [
    "# Logistic Regression 逻辑回归\n",
    "\n",
    "LR是经典的分类方法,处理二分类问题"
   ]
  },
  {
   "cell_type": "markdown",
   "metadata": {},
   "source": [
    "回归模型sigmoid函数：$f(x) = \\frac{1}{1+e^{-wx}}$\n",
    "\n",
    "其中wx线性函数：$wx =w_0*x_0 + w_1*x_1 + w_2*x_2 +...+w_n*x_n,(x_0=1)$\n",
    "\n",
    "自变量x取值为任意值，f(x)值域为[0, 1]. 表示将任意的输入值映射到了[0,1]区间, 我们在线性回归中可以得到一个预测值, 再将该值映射到Sigmoid函数\n",
    "中, 这样就完成了由值到概率的转换，也就是分类任务\n",
    "\n",
    "因此二分类的概率常常用这个函数，事实上Logistic Regression采用这个函数很是因为有以下几个优点：\n",
    "\n",
    "（1）值域在0和1之间   （2）函数具有非常好的对称性  （3）采用sigmoid的输出的是事件概率，也就是当输出满足满足某一概率条件我们将其划分正类"
   ]
  },
  {
   "cell_type": "code",
   "execution_count": 7,
   "metadata": {},
   "outputs": [],
   "source": [
    "from math import exp\n",
    "import numpy as np \n",
    "import pandas as pd\n",
    "import matplotlib.pyplot as plt\n",
    "%matplotlib inline\n",
    "\n",
    "from sklearn.datasets import load_iris\n",
    "from sklearn.model_selection import train_test_split"
   ]
  },
  {
   "cell_type": "code",
   "execution_count": 4,
   "metadata": {},
   "outputs": [],
   "source": [
    "# loads iris data from the sklearn.datasets, return the data what we need\n",
    "def create_data():\n",
    "    iris = load_iris()\n",
    "    df = pd.DataFrame(iris.data, columns = iris.feature_names)\n",
    "    df['label'] = iris.target\n",
    "    df.columns = ['sepal length', 'sepal width ', 'petal length ', 'petal width ', 'label']\n",
    "    data = np.array(df.iloc[:100, [0, 1, -1]])\n",
    "    # print(data)\n",
    "    return data[:, :2], data[:, -1]"
   ]
  },
  {
   "cell_type": "code",
   "execution_count": 6,
   "metadata": {},
   "outputs": [],
   "source": [
    "# set the data of X, Y, and set the proportion of train and test\n",
    "X, y = create_data()\n",
    "X_train, X_test, y_train, y_test = train_test_split(X, y, test_size=0.3)"
   ]
  },
  {
   "cell_type": "code",
   "execution_count": null,
   "metadata": {},
   "outputs": [],
   "source": [
    "# logistic regression\n",
    "class LogisticReressionClassifier:\n",
    "    def __int__(self, max_iter = 200, learning_rate = 0.01):\n",
    "        self.max_iter =max_iter\n",
    "        self.learning_rate = learning_rate\n",
    "    \n",
    "    def sigmoid(self, x):\n",
    "        return 1 / (1 + exp(-x)) \n",
    "    \n",
    "    def data_matrix(self, X):\n",
    "        data_mat = []\n",
    "        for d in X:\n",
    "            data_mat.append([1.0, *d])\n",
    "        return data_mat\n",
    "    \n",
    "    def fit(self, X, y):\n",
    "        # wx=w0∗x0+w1∗x1+w2∗x2+...+wn∗xn,(x0=1)\n",
    "        data_mat = self.data_matrix(X)\n",
    "        self.weights = np.zeros((len(data_mat[0], 1)), dtype=np.float32)\n",
    "        \n",
    "        # gradient descent iteration\n",
    "        for iter_ in range(self.max_iter):\n",
    "            for i in range(len(X)):\n",
    "                result = self.sigmoid(np.dot(data_mat[i], slef.weights))\n",
    "                loss = y[i] - result\n",
    "                self_weights += self.learning_rate * loss * np.transpose([data_mat[i]])\n",
    "    \n",
    "    \n",
    "\n"
   ]
  },
  {
   "cell_type": "code",
   "execution_count": null,
   "metadata": {},
   "outputs": [],
   "source": []
  },
  {
   "cell_type": "code",
   "execution_count": null,
   "metadata": {},
   "outputs": [],
   "source": []
  },
  {
   "cell_type": "code",
   "execution_count": null,
   "metadata": {},
   "outputs": [],
   "source": []
  }
 ],
 "metadata": {
  "kernelspec": {
   "display_name": "Python 3",
   "language": "python",
   "name": "python3"
  },
  "language_info": {
   "codemirror_mode": {
    "name": "ipython",
    "version": 3
   },
   "file_extension": ".py",
   "mimetype": "text/x-python",
   "name": "python",
   "nbconvert_exporter": "python",
   "pygments_lexer": "ipython3",
   "version": "3.6.4"
  }
 },
 "nbformat": 4,
 "nbformat_minor": 2
}
