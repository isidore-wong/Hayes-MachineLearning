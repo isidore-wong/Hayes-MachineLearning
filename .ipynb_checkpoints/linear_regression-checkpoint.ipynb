{
 "cells": [
  {
   "cell_type": "code",
   "execution_count": 2,
   "metadata": {},
   "outputs": [
    {
     "name": "stdout",
     "output_type": "stream",
     "text": [
      "the optimal value of theta: [[0.51583286]\n",
      " [0.96992163]]\n",
      "the value of cost function: J($theta$) 405.98496249324046\n"
     ]
    }
   ],
   "source": [
    "import numpy as np\n",
    "\n",
    "# define the size of points dataset\n",
    "m = 20\n",
    "\n",
    "# the x-coordinate and dummy value(x0, x1) of the points\n",
    "X0 = np.ones((m, 1))\n",
    "X1 = np.arange(1, m+1).reshape(m, 1)\n",
    "X = np.hstack((X0, X1))\n",
    "\n",
    "# the y-coordinate of the points\n",
    "y = np.array([\n",
    "    3, 4, 5, 5, 2, 4, 7, 8, 11, 8, 12,\n",
    "    11, 13, 13, 16, 17, 18, 17, 19, 21\n",
    "]).reshape(m, 1)\n",
    "\n",
    "# the learning rate alpha\n",
    "alpha = 0.01\n",
    "\n",
    "# the cost function J definition\n",
    "def cost_funciton(theta, X, y):\n",
    "    diff = np.dot(X, theta) - y\n",
    "    return (1.0/2*m) * np.dot(np.transpose(diff), diff)\n",
    "\n",
    "# the gradient of cost function J definition\n",
    "def gradient_function(theta, X, y):\n",
    "    diff = np.dot(X, theta) - y\n",
    "    return (1./m) * np.dot(np.transpose(X), diff)\n",
    "\n",
    "# perform gradient descent\n",
    "def gradient_descent(X, y, alpha):\n",
    "    theta = np.array([1, 1]).reshape(2, 1)\n",
    "    gradient = gradient_function(theta, X, y)\n",
    "    while not np.all(np.absolute(gradient) <= 1e-5):\n",
    "        theta = theta - alpha * gradient\n",
    "        gradient = gradient_function(theta, X, y)\n",
    "    return theta\n",
    "\n",
    "optimal_theta = gradient_descent(X, y, alpha)\n",
    "\n",
    "print(\"the optimal value of theta:\", optimal_theta)\n",
    "print(\"the value of cost function:\", cost_funciton(optimal_theta, X, y)[0, 0])"
   ]
  }
 ],
 "metadata": {
  "kernelspec": {
   "display_name": "Python 3",
   "language": "python",
   "name": "python3"
  },
  "language_info": {
   "codemirror_mode": {
    "name": "ipython",
    "version": 3
   },
   "file_extension": ".py",
   "mimetype": "text/x-python",
   "name": "python",
   "nbconvert_exporter": "python",
   "pygments_lexer": "ipython3",
   "version": "3.6.4"
  }
 },
 "nbformat": 4,
 "nbformat_minor": 2
}
