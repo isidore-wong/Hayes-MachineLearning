{
 "cells": [
  {
   "cell_type": "markdown",
   "metadata": {},
   "source": [
    "### 二手车交易价格预测--T3：特征工程\n",
    "对二手车交易数据进行训练，预测其交易价格"
   ]
  },
  {
   "cell_type": "markdown",
   "metadata": {},
   "source": [
    "**常见的特征工程包括：**\n",
    "\n",
    "1. 异常处理：\n",
    "    - 通过箱线图（或 3-Sigma）分析删除异常值；\n",
    "    - BOX-COX 转换（处理有偏分布）；\n",
    "    - 长尾截断；\n",
    "2. 特征归一化/标准化：\n",
    "    - 标准化（转换为标准正态分布）；\n",
    "    - 归一化（抓换到[0,1]区间）；\n",
    "    - 针对幂律分布，可以采用公式： \n",
    "3. 数据分桶：\n",
    "    - 等频分桶；\n",
    "    - 等距分桶；\n",
    "    - Best-KS 分桶（类似利用基尼指数进行二分类）；\n",
    "    - 卡方分桶；\n",
    "4. 缺失值处理：\n",
    "    - 不处理（针对类似XGBoost等树模型）；\n",
    "    - 删除（缺失数据太多）；\n",
    "    - 插值补全，包括均值/中位数/众数/建模预测/多重插补/压缩感知补全/矩阵补全等；\n",
    "    - 分箱，缺失值一个箱；\n",
    "5. 特征构造：\n",
    "    - 构造统计量特征，报告计数、求和、比例、标准差等；\n",
    "    - 时间特征，包括相对时间和绝对时间，节假日，双休日等；\n",
    "    - 地理信息，包括分箱，分布编码等方法；\n",
    "    - 非线性变换，包括 log/ 平方/ 根号等；\n",
    "    - 特征组合，特征交叉；\n",
    "6. 特征筛选\n",
    "    - 过滤式（filter）：先对数据进行特征选择，然后再训练学习器，常见的方法有Relief/方差选择法/相关系数法/卡方检验法/互信息法；\n",
    "    - 包裹式（wrapper）：直接把最终将要使用的学习器的性能作为特征子集的评价准则，常见方法有 LVM（Las Vegas Wrapper） ；\n",
    "    - 嵌入式（embedding）：结合过滤式和包裹式，学习器训练过程中自动进行了特征选择，常见的有 lasso 回归；\n",
    "7. 降维\n",
    "    - PCA/ LDA/ ICA；\n",
    "    - 特征选择也是一种降维。"
   ]
  },
  {
   "cell_type": "code",
   "execution_count": 1,
   "metadata": {},
   "outputs": [],
   "source": [
    "import pandas as pd\n",
    "import numpy as np\n",
    "import matplotlib.pyplot as plt\n",
    "import seaborn as sns\n",
    "from operator import itemgetter\n",
    "\n",
    "import warnings\n",
    "warnings.filterwarnings('ignore')\n",
    "\n",
    "# 设置图表中文字属性，防止中文乱码\n",
    "plt.rcParams['font.sans-serif'] = ['SimHei']  # 显示中文标签\n",
    "plt.rcParams['axes.unicode_minus'] = False\n",
    "\n",
    "%matplotlib inline"
   ]
  },
  {
   "cell_type": "code",
   "execution_count": 44,
   "metadata": {},
   "outputs": [
    {
     "name": "stdout",
     "output_type": "stream",
     "text": [
      "训练数据集的大小 (150000, 31)\n",
      "测试数据集的大小 (50000, 30)\n"
     ]
    },
    {
     "data": {
      "text/html": [
       "<div>\n",
       "<style scoped>\n",
       "    .dataframe tbody tr th:only-of-type {\n",
       "        vertical-align: middle;\n",
       "    }\n",
       "\n",
       "    .dataframe tbody tr th {\n",
       "        vertical-align: top;\n",
       "    }\n",
       "\n",
       "    .dataframe thead th {\n",
       "        text-align: right;\n",
       "    }\n",
       "</style>\n",
       "<table border=\"1\" class=\"dataframe\">\n",
       "  <thead>\n",
       "    <tr style=\"text-align: right;\">\n",
       "      <th></th>\n",
       "      <th>SaleID</th>\n",
       "      <th>name</th>\n",
       "      <th>regDate</th>\n",
       "      <th>model</th>\n",
       "      <th>brand</th>\n",
       "      <th>bodyType</th>\n",
       "      <th>fuelType</th>\n",
       "      <th>gearbox</th>\n",
       "      <th>power</th>\n",
       "      <th>kilometer</th>\n",
       "      <th>...</th>\n",
       "      <th>v_5</th>\n",
       "      <th>v_6</th>\n",
       "      <th>v_7</th>\n",
       "      <th>v_8</th>\n",
       "      <th>v_9</th>\n",
       "      <th>v_10</th>\n",
       "      <th>v_11</th>\n",
       "      <th>v_12</th>\n",
       "      <th>v_13</th>\n",
       "      <th>v_14</th>\n",
       "    </tr>\n",
       "  </thead>\n",
       "  <tbody>\n",
       "    <tr>\n",
       "      <td>0</td>\n",
       "      <td>0</td>\n",
       "      <td>736</td>\n",
       "      <td>20040402</td>\n",
       "      <td>30.0</td>\n",
       "      <td>6</td>\n",
       "      <td>1.0</td>\n",
       "      <td>0.0</td>\n",
       "      <td>0.0</td>\n",
       "      <td>60</td>\n",
       "      <td>12.5</td>\n",
       "      <td>...</td>\n",
       "      <td>0.235676</td>\n",
       "      <td>0.101988</td>\n",
       "      <td>0.129549</td>\n",
       "      <td>0.022816</td>\n",
       "      <td>0.097462</td>\n",
       "      <td>-2.881803</td>\n",
       "      <td>2.804097</td>\n",
       "      <td>-2.420821</td>\n",
       "      <td>0.795292</td>\n",
       "      <td>0.914762</td>\n",
       "    </tr>\n",
       "    <tr>\n",
       "      <td>1</td>\n",
       "      <td>1</td>\n",
       "      <td>2262</td>\n",
       "      <td>20030301</td>\n",
       "      <td>40.0</td>\n",
       "      <td>1</td>\n",
       "      <td>2.0</td>\n",
       "      <td>0.0</td>\n",
       "      <td>0.0</td>\n",
       "      <td>0</td>\n",
       "      <td>15.0</td>\n",
       "      <td>...</td>\n",
       "      <td>0.264777</td>\n",
       "      <td>0.121004</td>\n",
       "      <td>0.135731</td>\n",
       "      <td>0.026597</td>\n",
       "      <td>0.020582</td>\n",
       "      <td>-4.900482</td>\n",
       "      <td>2.096338</td>\n",
       "      <td>-1.030483</td>\n",
       "      <td>-1.722674</td>\n",
       "      <td>0.245522</td>\n",
       "    </tr>\n",
       "    <tr>\n",
       "      <td>2</td>\n",
       "      <td>2</td>\n",
       "      <td>14874</td>\n",
       "      <td>20040403</td>\n",
       "      <td>115.0</td>\n",
       "      <td>15</td>\n",
       "      <td>1.0</td>\n",
       "      <td>0.0</td>\n",
       "      <td>0.0</td>\n",
       "      <td>163</td>\n",
       "      <td>12.5</td>\n",
       "      <td>...</td>\n",
       "      <td>0.251410</td>\n",
       "      <td>0.114912</td>\n",
       "      <td>0.165147</td>\n",
       "      <td>0.062173</td>\n",
       "      <td>0.027075</td>\n",
       "      <td>-4.846749</td>\n",
       "      <td>1.803559</td>\n",
       "      <td>1.565330</td>\n",
       "      <td>-0.832687</td>\n",
       "      <td>-0.229963</td>\n",
       "    </tr>\n",
       "    <tr>\n",
       "      <td>3</td>\n",
       "      <td>3</td>\n",
       "      <td>71865</td>\n",
       "      <td>19960908</td>\n",
       "      <td>109.0</td>\n",
       "      <td>10</td>\n",
       "      <td>0.0</td>\n",
       "      <td>0.0</td>\n",
       "      <td>1.0</td>\n",
       "      <td>193</td>\n",
       "      <td>15.0</td>\n",
       "      <td>...</td>\n",
       "      <td>0.274293</td>\n",
       "      <td>0.110300</td>\n",
       "      <td>0.121964</td>\n",
       "      <td>0.033395</td>\n",
       "      <td>0.000000</td>\n",
       "      <td>-4.509599</td>\n",
       "      <td>1.285940</td>\n",
       "      <td>-0.501868</td>\n",
       "      <td>-2.438353</td>\n",
       "      <td>-0.478699</td>\n",
       "    </tr>\n",
       "    <tr>\n",
       "      <td>4</td>\n",
       "      <td>4</td>\n",
       "      <td>111080</td>\n",
       "      <td>20120103</td>\n",
       "      <td>110.0</td>\n",
       "      <td>5</td>\n",
       "      <td>1.0</td>\n",
       "      <td>0.0</td>\n",
       "      <td>0.0</td>\n",
       "      <td>68</td>\n",
       "      <td>5.0</td>\n",
       "      <td>...</td>\n",
       "      <td>0.228036</td>\n",
       "      <td>0.073205</td>\n",
       "      <td>0.091880</td>\n",
       "      <td>0.078819</td>\n",
       "      <td>0.121534</td>\n",
       "      <td>-1.896240</td>\n",
       "      <td>0.910783</td>\n",
       "      <td>0.931110</td>\n",
       "      <td>2.834518</td>\n",
       "      <td>1.923482</td>\n",
       "    </tr>\n",
       "  </tbody>\n",
       "</table>\n",
       "<p>5 rows × 31 columns</p>\n",
       "</div>"
      ],
      "text/plain": [
       "   SaleID    name   regDate  model  brand  bodyType  fuelType  gearbox  power  \\\n",
       "0       0     736  20040402   30.0      6       1.0       0.0      0.0     60   \n",
       "1       1    2262  20030301   40.0      1       2.0       0.0      0.0      0   \n",
       "2       2   14874  20040403  115.0     15       1.0       0.0      0.0    163   \n",
       "3       3   71865  19960908  109.0     10       0.0       0.0      1.0    193   \n",
       "4       4  111080  20120103  110.0      5       1.0       0.0      0.0     68   \n",
       "\n",
       "   kilometer  ...       v_5       v_6       v_7       v_8       v_9      v_10  \\\n",
       "0       12.5  ...  0.235676  0.101988  0.129549  0.022816  0.097462 -2.881803   \n",
       "1       15.0  ...  0.264777  0.121004  0.135731  0.026597  0.020582 -4.900482   \n",
       "2       12.5  ...  0.251410  0.114912  0.165147  0.062173  0.027075 -4.846749   \n",
       "3       15.0  ...  0.274293  0.110300  0.121964  0.033395  0.000000 -4.509599   \n",
       "4        5.0  ...  0.228036  0.073205  0.091880  0.078819  0.121534 -1.896240   \n",
       "\n",
       "       v_11      v_12      v_13      v_14  \n",
       "0  2.804097 -2.420821  0.795292  0.914762  \n",
       "1  2.096338 -1.030483 -1.722674  0.245522  \n",
       "2  1.803559  1.565330 -0.832687 -0.229963  \n",
       "3  1.285940 -0.501868 -2.438353 -0.478699  \n",
       "4  0.910783  0.931110  2.834518  1.923482  \n",
       "\n",
       "[5 rows x 31 columns]"
      ]
     },
     "execution_count": 44,
     "metadata": {},
     "output_type": "execute_result"
    }
   ],
   "source": [
    "# 读取数据\n",
    "path = '../../dataset/user_car_data/'\n",
    "train_data = pd.read_csv(path + 'used_car_train.csv', sep=' ')\n",
    "test_data = pd.read_csv(path + 'used_car_testA.csv', sep=' ')\n",
    "\n",
    "print('训练数据集的大小', train_data.shape)\n",
    "print('测试数据集的大小', test_data.shape)\n",
    "\n",
    "train_data.head()"
   ]
  },
  {
   "cell_type": "code",
   "execution_count": 45,
   "metadata": {},
   "outputs": [],
   "source": [
    "# 删除异常值\n",
    "def outliers_proc(data, col_name, scale=3):\n",
    "    \"\"\"\n",
    "    用于清洗异常值，默认用box_plot(scale=3)进行清洗\n",
    "    :param data: 接收pandas数据格式\n",
    "    :param col_name: pandas列明\n",
    "    :param scale: 尺度--3-sigma\n",
    "    :return :\n",
    "    \"\"\"\n",
    "    \n",
    "    def box_plot_outliers(data_ser, box_scale):\n",
    "        \"\"\"\n",
    "        利用箱线图去除异常值\n",
    "        :param data_ser: 接收pandas.Series数据格式\n",
    "        :param box_scale: 箱线图尺度\n",
    "        :return:\n",
    "        \"\"\"\n",
    "        \n",
    "        # 四分位距\n",
    "        iqr = box_scale * (data_ser.quantile(0.75) - data_ser.quantile(0.25))\n",
    "        # 上下限值/上下边界值\n",
    "        val_low = data_ser.quantile(0.25) - iqr\n",
    "        val_up = data_ser.quantile(0.75) + iqr\n",
    "        # 异常值\n",
    "        rule_low = (data_ser < val_low)\n",
    "        rule_up = (data_ser > val_up)\n",
    "        \n",
    "        # 返回上下边界, 异常值\n",
    "        return (rule_low, rule_up), (val_low, val_up)\n",
    "\n",
    "    data_n = data.copy()\n",
    "    data_series = data_n[col_name]\n",
    "    rule, value = box_plot_outliers(data_series, box_scale=scale)\n",
    "    index = np.arange(data_series.shape[0])[rule[0] | rule[1]]\n",
    "    print('delete number is: {}'.format(len(index)))\n",
    "    data_n = data_n.drop(index)\n",
    "    data_n.reset_index(drop=True, inplace=True)\n",
    "    print('now column number is: {}'.format(data_n.shape[0]))\n",
    "    index_low = np.arange(data_series.shape[0])[rule[0]]\n",
    "    outliers = data_series.iloc[index_low]\n",
    "    print(\"Description of data less than the lower bound is:\")\n",
    "    print(pd.Series(outliers).describe())\n",
    "    index_up = np.arange(data_series.shape[0])[rule[1]]\n",
    "    outliers = data_series.iloc[index_up]\n",
    "    print(\"Description of data larger than the upper bound is:\")\n",
    "    print(pd.Series(outliers).describe())\n",
    "    \n",
    "    fig, ax = plt.subplots(1, 2, figsize=(10, 7))\n",
    "    sns.boxplot(y=data[col_name], data=data, palette='Set1', ax=ax[0])\n",
    "    sns.boxplot(y=data_n[col_name], data=data, palette='Set1', ax=ax[1])\n",
    "    return data_n"
   ]
  },
  {
   "cell_type": "code",
   "execution_count": 46,
   "metadata": {},
   "outputs": [
    {
     "name": "stdout",
     "output_type": "stream",
     "text": [
      "delete number is: 963\n",
      "now column number is: 149037\n",
      "Description of data less than the lower bound is:\n",
      "count    0.0\n",
      "mean     NaN\n",
      "std      NaN\n",
      "min      NaN\n",
      "25%      NaN\n",
      "50%      NaN\n",
      "75%      NaN\n",
      "max      NaN\n",
      "Name: power, dtype: float64\n",
      "Description of data larger than the upper bound is:\n",
      "count      963.000000\n",
      "mean       846.836968\n",
      "std       1929.418081\n",
      "min        376.000000\n",
      "25%        400.000000\n",
      "50%        436.000000\n",
      "75%        514.000000\n",
      "max      19312.000000\n",
      "Name: power, dtype: float64\n"
     ]
    },
    {
     "data": {
      "image/png": "[encoded data removed]",
      "text/plain": [
       "<Figure size 720x504 with 2 Axes>"
      ]
     },
     "metadata": {
      "needs_background": "light"
     },
     "output_type": "display_data"
    }
   ],
   "source": [
    "# 我们可以删掉一些异常数据，以 power 为例。 \n",
    "train_data = outliers_proc(train_data, 'power', scale=3)"
   ]
  },
  {
   "cell_type": "code",
   "execution_count": 47,
   "metadata": {},
   "outputs": [],
   "source": [
    "# 特征构造\n",
    "\n",
    "# 训练集和测试集放在一起，方便构造特征\n",
    "train_data['train'] = 1\n",
    "test_data['train'] = 0\n",
    "\n",
    "data = pd.concat([train_data, test_data], ignore_index=True)"
   ]
  },
  {
   "cell_type": "code",
   "execution_count": 48,
   "metadata": {},
   "outputs": [
    {
     "name": "stdout",
     "output_type": "stream",
     "text": [
      "used_time属性的缺失值数量： 15072\n",
      "used_time属性的数据统计概况 count    183965.000000\n",
      "mean       4441.030582\n",
      "std        1952.987257\n",
      "min          85.000000\n",
      "25%        2954.000000\n",
      "50%        4433.000000\n",
      "75%        5933.000000\n",
      "max        9222.000000\n",
      "Name: used_time, dtype: float64\n"
     ]
    }
   ],
   "source": [
    "# 构造汽车使用时间特征，反映汽车使用时间，一般老师价格与使用时间成反比\n",
    "# 对于数据中心时间出错的时间格式，用errors='coerce'\n",
    "data['used_time'] = (pd.to_datetime(data['creatDate'], format='%Y%m%d', errors='coerce') - \n",
    "                    pd.to_datetime(data['regDate'], format='%Y%m%d', errors='coerce')).dt.days\n",
    "\n",
    "# 查看used_time属性的数据概况， 可以看到缺失量占比约7.5%，占比过高，不建议删除，可以先放置着，后面若选用决策树类型的算法，可自动处理缺失值\n",
    "print('used_time属性的缺失值数量：', data['used_time'].isnull().sum())\n",
    "print('used_time属性的数据统计概况', data['used_time'].describe())"
   ]
  },
  {
   "cell_type": "code",
   "execution_count": 49,
   "metadata": {},
   "outputs": [],
   "source": [
    "# 从邮编信息中提取城市信息，相当于加入了先验知识\n",
    "data['city'] = data['regionCode'].apply(lambda x : str(x)[:-3])"
   ]
  },
  {
   "cell_type": "code",
   "execution_count": 50,
   "metadata": {},
   "outputs": [],
   "source": [
    "# z计算品牌销售统计量\n",
    "train_gb = train_data.groupby('brand')\n",
    "all_info = {}\n",
    "for kind, kind_data in train_gb:\n",
    "    info = {}\n",
    "    kind_data = kind_data[kind_data['price'] > 0]\n",
    "    info['brand_amount'] = len(kind_data)\n",
    "    info['brand_price_max'] = kind_data.price.max()\n",
    "    info['brand_price_median'] = kind_data.price.median()\n",
    "    info['brand_price_min'] = kind_data.price.min()\n",
    "    info['brand_price_sum'] = kind_data.price.sum()\n",
    "    info['brand_price_std'] = kind_data.price.std()\n",
    "    info['brand_price_average'] = round(kind_data.price.sum() / (len(kind_data) + 1), 2)\n",
    "    all_info[kind] = info\n",
    "brand_fe = pd.DataFrame(all_info).T.reset_index().rename(columns={'index': 'brand'})\n",
    "data = data.merge(brand_fe, how='left', on='brand')\n",
    "\n",
    "# 数据分桶， 以power特征为例\n",
    "'''\n",
    "做数据分桶的原因：\n",
    "1. 离散后稀疏向量内积乘法运算速度更快，计算结果也方便存储，容易扩展；\n",
    "2. 离散后的特征对异常值更具鲁棒性，如 age>30 为 1 否则为 0，对于年龄为 200 的也不会对模型造成很大的干扰；\n",
    "3. LR 属于广义线性模型，表达能力有限，经过离散化后，每个变量有单独的权重，这相当于引入了非线性，能够提升模型的表达能力，加大拟合；\n",
    "4. 离散后特征可以进行特征交叉，提升表达能力，由 M+N 个变量变成 M*N 个变量，进一步引入非线形，提升了表达能力；\n",
    "5. 特征离散后模型更稳定，如用户年龄区间，不会因为用户年龄长了一岁就变化\n",
    "'''\n",
    "bin = [i*10 for i in range(31)]\n",
    "data['power_bin'] = pd.cut(data['power'], bin, labels=False)"
   ]
  },
  {
   "cell_type": "code",
   "execution_count": 51,
   "metadata": {},
   "outputs": [],
   "source": [
    "# 删除不必要的特征\n",
    "data = data.drop(['SaleID','v_1','seller','offerType','creatDate', 'regDate', 'name','regionCode'], axis=1)"
   ]
  },
  {
   "cell_type": "code",
   "execution_count": 58,
   "metadata": {},
   "outputs": [],
   "source": [
    "# 通过调整数据类型，帮助我们减少数据在内存中占用的空间\n",
    "def reduce_mem_usage(df):\n",
    "    \"\"\" iterate through all the columns of a dataframe and modify the data type\n",
    "        to reduce memory usage.        \n",
    "    \"\"\"\n",
    "    start_mem = df.memory_usage().sum() \n",
    "    print('Memory usage of dataframe is {:.2f} MB'.format(start_mem))\n",
    "    \n",
    "    for col in df.columns:\n",
    "        col_type = df[col].dtype\n",
    "        \n",
    "        if col_type != object:\n",
    "            c_min = df[col].min()\n",
    "            c_max = df[col].max()\n",
    "            if str(col_type)[:3] == 'int':\n",
    "                if c_min > np.iinfo(np.int8).min and c_max < np.iinfo(np.int8).max:\n",
    "                    df[col] = df[col].astype(np.int8)\n",
    "                elif c_min > np.iinfo(np.int16).min and c_max < np.iinfo(np.int16).max:\n",
    "                    df[col] = df[col].astype(np.int16)\n",
    "                elif c_min > np.iinfo(np.int32).min and c_max < np.iinfo(np.int32).max:\n",
    "                    df[col] = df[col].astype(np.int32)\n",
    "                elif c_min > np.iinfo(np.int64).min and c_max < np.iinfo(np.int64).max:\n",
    "                    df[col] = df[col].astype(np.int64)  \n",
    "            else:\n",
    "                if c_min > np.finfo(np.float16).min and c_max < np.finfo(np.float16).max:\n",
    "                    df[col] = df[col].astype(np.float16)\n",
    "                elif c_min > np.finfo(np.float32).min and c_max < np.finfo(np.float32).max:\n",
    "                    df[col] = df[col].astype(np.float32)\n",
    "                else:\n",
    "                    df[col] = df[col].astype(np.float64)\n",
    "        else:\n",
    "            df[col] = df[col].astype('category')\n",
    "\n",
    "    end_mem = df.memory_usage().sum() \n",
    "    print('Memory usage after optimization is: {:.2f} MB'.format(end_mem))\n",
    "    print('Decreased by {:.1f}%'.format(100 * (start_mem - end_mem) / start_mem))\n",
    "    return df"
   ]
  },
  {
   "cell_type": "code",
   "execution_count": 60,
   "metadata": {},
   "outputs": [],
   "source": [
    "# data = reduce_mem_usage(data)\n",
    "data.to_csv('data_for_tree.csv', index=0)"
   ]
  },
  {
   "cell_type": "code",
   "execution_count": 61,
   "metadata": {},
   "outputs": [
    {
     "data": {
      "text/plain": [
       "<matplotlib.axes._subplots.AxesSubplot at 0x14f49318ec8>"
      ]
     },
     "execution_count": 61,
     "metadata": {},
     "output_type": "execute_result"
    },
    {
     "data": {
      "image/png": "[encoded data removed]",
      "text/plain": [
       "<Figure size 432x288 with 1 Axes>"
      ]
     },
     "metadata": {
      "needs_background": "light"
     },
     "output_type": "display_data"
    }
   ],
   "source": [
    "# 再构造一些特征供LR之类的模型使用（不同的模型对数据集的要求不同）\n",
    "# power的分布情况\n",
    "data['power'].plot.hist()"
   ]
  },
  {
   "cell_type": "code",
   "execution_count": 62,
   "metadata": {},
   "outputs": [
    {
     "data": {
      "text/plain": [
       "<matplotlib.axes._subplots.AxesSubplot at 0x14f4931f548>"
      ]
     },
     "execution_count": 62,
     "metadata": {},
     "output_type": "execute_result"
    },
    {
     "data": {
      "image/png": "[encoded data removed]",
      "text/plain": [
       "<Figure size 432x288 with 1 Axes>"
      ]
     },
     "metadata": {
      "needs_background": "light"
     },
     "output_type": "display_data"
    }
   ],
   "source": [
    "# 我们刚刚已经对 train 进行异常值处理了，但是现在还有这么奇怪的分布是因为 test 中的 power 异常值，\n",
    "# 所以我们其实刚刚 train 中的 power 异常值不删为好，可以用长尾分布截断来代替\n",
    "# train_data['power'].plot.hist()\n",
    "\n",
    "# 对其取对数log，再做归一化\n",
    "from sklearn import preprocessing\n",
    "min_max_scale = preprocessing.MinMaxScaler()\n",
    "data['power'] = np.log(data['power'] + 1)\n",
    "data['power'] = ((data['power'] - np.min(data['power'])) / (np.max(data['power']) - np.min(data['power'])))\n",
    "data['power'].plot.hist()"
   ]
  },
  {
   "cell_type": "code",
   "execution_count": 63,
   "metadata": {},
   "outputs": [
    {
     "data": {
      "text/plain": [
       "<matplotlib.axes._subplots.AxesSubplot at 0x14f40156508>"
      ]
     },
     "execution_count": 63,
     "metadata": {},
     "output_type": "execute_result"
    },
    {
     "data": {
      "image/png": "[encoded data removed]",
      "text/plain": [
       "<Figure size 432x288 with 1 Axes>"
      ]
     },
     "metadata": {
      "needs_background": "light"
     },
     "output_type": "display_data"
    }
   ],
   "source": [
    "# km 的比较正常，应该是已经做过分桶了\n",
    "data['kilometer'].plot.hist()\n",
    "\n",
    "# 直接做归一化\n",
    "data['kilometer'] = ((data['kilometer'] - np.min(data['kilometer'])) / \n",
    "                        (np.max(data['kilometer']) - np.min(data['kilometer'])))\n",
    "data['kilometer'].plot.hist()"
   ]
  },
  {
   "cell_type": "code",
   "execution_count": 70,
   "metadata": {},
   "outputs": [
    {
     "data": {
      "text/html": [
       "<div>\n",
       "<style scoped>\n",
       "    .dataframe tbody tr th:only-of-type {\n",
       "        vertical-align: middle;\n",
       "    }\n",
       "\n",
       "    .dataframe tbody tr th {\n",
       "        vertical-align: top;\n",
       "    }\n",
       "\n",
       "    .dataframe thead th {\n",
       "        text-align: right;\n",
       "    }\n",
       "</style>\n",
       "<table border=\"1\" class=\"dataframe\">\n",
       "  <thead>\n",
       "    <tr style=\"text-align: right;\">\n",
       "      <th></th>\n",
       "      <th>brand_amount</th>\n",
       "      <th>brand_price_average</th>\n",
       "      <th>brand_price_max</th>\n",
       "      <th>brand_price_median</th>\n",
       "      <th>brand_price_min</th>\n",
       "      <th>brand_price_std</th>\n",
       "      <th>brand_price_sum</th>\n",
       "    </tr>\n",
       "  </thead>\n",
       "  <tbody>\n",
       "    <tr>\n",
       "      <td>0</td>\n",
       "      <td>0.324219</td>\n",
       "      <td>0.081665</td>\n",
       "      <td>0.340786</td>\n",
       "      <td>0.032074</td>\n",
       "      <td>0.002064</td>\n",
       "      <td>0.207764</td>\n",
       "      <td>0.209684</td>\n",
       "    </tr>\n",
       "    <tr>\n",
       "      <td>1</td>\n",
       "      <td>0.434570</td>\n",
       "      <td>0.257324</td>\n",
       "      <td>0.835230</td>\n",
       "      <td>0.205444</td>\n",
       "      <td>0.004128</td>\n",
       "      <td>0.437500</td>\n",
       "      <td>0.713985</td>\n",
       "    </tr>\n",
       "    <tr>\n",
       "      <td>2</td>\n",
       "      <td>0.046143</td>\n",
       "      <td>0.281738</td>\n",
       "      <td>0.433578</td>\n",
       "      <td>0.284668</td>\n",
       "      <td>0.091858</td>\n",
       "      <td>0.252441</td>\n",
       "      <td>0.082533</td>\n",
       "    </tr>\n",
       "    <tr>\n",
       "      <td>3</td>\n",
       "      <td>0.445312</td>\n",
       "      <td>0.225220</td>\n",
       "      <td>0.926889</td>\n",
       "      <td>0.160278</td>\n",
       "      <td>0.004128</td>\n",
       "      <td>0.398926</td>\n",
       "      <td>0.650591</td>\n",
       "    </tr>\n",
       "    <tr>\n",
       "      <td>4</td>\n",
       "      <td>0.148193</td>\n",
       "      <td>0.073059</td>\n",
       "      <td>0.294545</td>\n",
       "      <td>0.050934</td>\n",
       "      <td>0.009285</td>\n",
       "      <td>0.144531</td>\n",
       "      <td>0.088524</td>\n",
       "    </tr>\n",
       "  </tbody>\n",
       "</table>\n",
       "</div>"
      ],
      "text/plain": [
       "   brand_amount  brand_price_average  brand_price_max  brand_price_median  \\\n",
       "0      0.324219             0.081665         0.340786            0.032074   \n",
       "1      0.434570             0.257324         0.835230            0.205444   \n",
       "2      0.046143             0.281738         0.433578            0.284668   \n",
       "3      0.445312             0.225220         0.926889            0.160278   \n",
       "4      0.148193             0.073059         0.294545            0.050934   \n",
       "\n",
       "   brand_price_min  brand_price_std  brand_price_sum  \n",
       "0         0.002064         0.207764         0.209684  \n",
       "1         0.004128         0.437500         0.713985  \n",
       "2         0.091858         0.252441         0.082533  \n",
       "3         0.004128         0.398926         0.650591  \n",
       "4         0.009285         0.144531         0.088524  "
      ]
     },
     "execution_count": 70,
     "metadata": {},
     "output_type": "execute_result"
    }
   ],
   "source": [
    "# 除此之外 还有我们刚刚构造的统计量特征：\n",
    "# 'brand_amount', 'brand_price_average', 'brand_price_max',\n",
    "# 'brand_price_median', 'brand_price_min', 'brand_price_std',\n",
    "# 'brand_price_sum'\n",
    "# 直接做变换\n",
    "def max_min(x):\n",
    "    return (x - np.min(x)) / (np.max(x) - np.min(x))\n",
    "\n",
    "cols = ['brand_amount','brand_price_average','brand_price_max','brand_price_median',\n",
    "        'brand_price_min','brand_price_std','brand_price_sum']\n",
    "\n",
    "for col in cols:\n",
    "    data[col] = max_min(data[col])\n",
    "\n",
    "data[cols].head()"
   ]
  },
  {
   "cell_type": "code",
   "execution_count": 77,
   "metadata": {},
   "outputs": [],
   "source": [
    "# 对类别特征进行 OneEncoder\n",
    "data = pd.get_dummies(data, columns=['model', 'brand', 'bodyType', 'fuelType',\n",
    "                                     'gearbox', 'notRepairedDamage', 'power_bin'])\n",
    "\n",
    "print(data.columns)\n",
    "data.to_csv('data_for_lr.csv', index=0)"
   ]
  },
  {
   "cell_type": "markdown",
   "metadata": {},
   "source": [
    "#### 特征筛选\n",
    "\n",
    "**1、过滤式：**\n",
    "先对数据进行特征选择，然后再训练学习器，常见的方法有 Relief、方差选择、相关系数法、卡方检验法、互信息法\n",
    "\n",
    "这里我们用斯皮尔曼相关系数来进行筛选，spearman与pearson的区别在于，pearson评估两个连续变量之间的线性关系。 spearman评估两个连续变量之间的单调关系。在单调关系中，变量趋于一起变化，但不一定以恒定速率变化。所以，spearman对于数据错误和极端值的反应不敏感。"
   ]
  },
  {
   "cell_type": "code",
   "execution_count": null,
   "metadata": {},
   "outputs": [],
   "source": []
  },
  {
   "cell_type": "code",
   "execution_count": null,
   "metadata": {},
   "outputs": [],
   "source": []
  },
  {
   "cell_type": "code",
   "execution_count": null,
   "metadata": {},
   "outputs": [],
   "source": []
  },
  {
   "cell_type": "markdown",
   "metadata": {},
   "source": [
    "#### 总结\n",
    "特征工程是比赛中最至关重要的的一块，特别是传统的比赛，大家的模型可能都差不多，调参带来的效果增幅是非常有限的，但特征工程的好坏往往会决定了最终的排名和成绩。\n",
    "\n",
    "特征工程的主要目的还是在于将数据转换为能更好地表示潜在问题的特征，从而提高机器学习的性能。比如，异常值处理是为了去除噪声，填补缺失值可以加入先验知识等。\n",
    "\n",
    "特征构造也属于特征工程的一部分，其目的是为了增强数据的表达。\n",
    "\n",
    "有些比赛的特征是匿名特征，这导致我们并不清楚特征相互之间的关联性，这时我们就只有单纯基于特征进行处理，比如装箱，groupby，agg 等这样一些操作进行一些特征统计，此外还可以对特征进行进一步的 log，exp 等变换，或者对多个特征进行四则运算（如上面我们算出的使用时长），多项式组合等然后进行筛选。由于特征的匿名性其实限制了很多对于特征的处理，当然有些时候用 NN 去提取一些特征也会达到意想不到的良好效果。\n",
    "\n",
    "对于知道特征含义（非匿名）的特征工程，特别是在工业类型比赛中，会基于信号处理，频域提取，峰度，偏度等构建更为有实际意义的特征，这就是结合背景的特征构建，在推荐系统中也是这样的，各种类型点击率统计，各时段统计，加用户属性的统计等等，这样一种特征构建往往要深入分析背后的业务逻辑或者说物理原理，从而才能更好的找到 magic。\n",
    "\n",
    "当然特征工程其实是和模型结合在一起的，这就是为什么要为 LR NN 做分桶和特征归一化的原因，而对于特征的处理效果和特征重要性等往往要通过模型来验证。\n",
    "\n",
    "总的来说，特征工程是一个入门简单，但想精通非常难的一件事。"
   ]
  },
  {
   "cell_type": "markdown",
   "metadata": {},
   "source": []
  }
 ],
 "metadata": {
  "kernelspec": {
   "display_name": "Python 3",
   "language": "python",
   "name": "python3"
  },
  "language_info": {
   "codemirror_mode": {
    "name": "ipython",
    "version": 3
   },
   "file_extension": ".py",
   "mimetype": "text/x-python",
   "name": "python",
   "nbconvert_exporter": "python",
   "pygments_lexer": "ipython3",
   "version": "3.7.4"
  }
 },
 "nbformat": 4,
 "nbformat_minor": 2
}
