{
 "cells": [
  {
   "cell_type": "markdown",
   "metadata": {},
   "source": [
    "### 二手车交易价格预测--T4:建模调参\n",
    "对二手车交易数据进行训练，预测其交易价格"
   ]
  },
  {
   "cell_type": "markdown",
   "metadata": {},
   "source": [
    "**建模调参**\n",
    "1. 线性回归模型：\n",
    "    - 线性回归对于特征的要求；\n",
    "    - 处理长尾分布；\n",
    "    - 理解线性回归模型；\n",
    "2. 模型性能验证：\n",
    "    - 评价函数与目标函数；\n",
    "    - 交叉验证方法；\n",
    "    - 留一验证方法；\n",
    "    - 针对时间序列问题的验证；\n",
    "    - 绘制学习率曲线；\n",
    "    - 绘制验证曲线；\n",
    "3. 嵌入式特征选择：\n",
    "    - Lasso回归；\n",
    "    - Ridge回归；\n",
    "    - 决策树；\n",
    "4. 模型对比：\n",
    "    - 常用线性模型；\n",
    "    - 常用非线性模型；\n",
    "5. 模型调参：\n",
    "    - 贪心调参方法；\n",
    "    - 网格调参方法；\n",
    "    - 贝叶斯调参方法；"
   ]
  },
  {
   "cell_type": "code",
   "execution_count": 1,
   "metadata": {},
   "outputs": [],
   "source": [
    "import pandas as pd\n",
    "import numpy as np\n",
    "import warnings \n",
    "\n",
    "warnings.filterwarnings('ignore')"
   ]
  },
  {
   "cell_type": "code",
   "execution_count": 2,
   "metadata": {},
   "outputs": [],
   "source": [
    "# 通过调整数据类型，减少数据在内存中占用的空间\n",
    "def reduce_mem_usage(df):\n",
    "    \"\"\" iterate through all the columns of a dataframe and modify the data type\n",
    "        to reduce memory usage.        \n",
    "    \"\"\"\n",
    "    start_mem = df.memory_usage().sum() \n",
    "    print('Memory usage of dataframe is {:.2f} MB'.format(start_mem))\n",
    "    \n",
    "    for col in df.columns:\n",
    "        col_type = df[col].dtype\n",
    "        \n",
    "        if col_type != object:\n",
    "            c_min = df[col].min()\n",
    "            c_max = df[col].max()\n",
    "            if str(col_type)[:3] == 'int':\n",
    "                if c_min > np.iinfo(np.int8).min and c_max < np.iinfo(np.int8).max:\n",
    "                    df[col] = df[col].astype(np.int8)\n",
    "                elif c_min > np.iinfo(np.int16).min and c_max < np.iinfo(np.int16).max:\n",
    "                    df[col] = df[col].astype(np.int16)\n",
    "                elif c_min > np.iinfo(np.int32).min and c_max < np.iinfo(np.int32).max:\n",
    "                    df[col] = df[col].astype(np.int32)\n",
    "                elif c_min > np.iinfo(np.int64).min and c_max < np.iinfo(np.int64).max:\n",
    "                    df[col] = df[col].astype(np.int64)  \n",
    "            else:\n",
    "                if c_min > np.finfo(np.float16).min and c_max < np.finfo(np.float16).max:\n",
    "                    df[col] = df[col].astype(np.float16)\n",
    "                elif c_min > np.finfo(np.float32).min and c_max < np.finfo(np.float32).max:\n",
    "                    df[col] = df[col].astype(np.float32)\n",
    "                else:\n",
    "                    df[col] = df[col].astype(np.float64)\n",
    "        else:\n",
    "            df[col] = df[col].astype('category')\n",
    "\n",
    "    end_mem = df.memory_usage().sum() \n",
    "    print('Memory usage after optimization is: {:.2f} MB'.format(end_mem))\n",
    "    print('Decreased by {:.1f}%'.format(100 * (start_mem - end_mem) / start_mem))\n",
    "    return df"
   ]
  },
  {
   "cell_type": "code",
   "execution_count": 3,
   "metadata": {},
   "outputs": [
    {
     "name": "stdout",
     "output_type": "stream",
     "text": [
      "Memory usage of dataframe is 54138192.00 MB\n",
      "Memory usage after optimization is: 14131859.00 MB\n",
      "Decreased by 73.9%\n"
     ]
    }
   ],
   "source": [
    "sample_feature = reduce_mem_usage(pd.read_csv('data_for_tree.csv'))"
   ]
  },
  {
   "cell_type": "code",
   "execution_count": 4,
   "metadata": {},
   "outputs": [
    {
     "name": "stdout",
     "output_type": "stream",
     "text": [
      "['bodyType', 'fuelType', 'gearbox', 'kilometer', 'notRepairedDamage', 'power', 'train', 'v_0', 'v_10', 'v_11', 'v_12', 'v_13', 'v_14', 'v_2', 'v_3', 'v_4', 'v_5', 'v_6', 'v_7', 'v_8', 'v_9', 'used_time', 'city', 'brand_amount', 'brand_price_max', 'brand_price_median', 'brand_price_min', 'brand_price_sum', 'brand_price_std', 'brand_price_average', 'power_bin']\n"
     ]
    }
   ],
   "source": [
    "continuous_feature_names = [x for x in sample_feature.columns if x not in ['price','brand','model','brand']]\n",
    "print(continuous_feature_names)"
   ]
  },
  {
   "cell_type": "code",
   "execution_count": 5,
   "metadata": {},
   "outputs": [
    {
     "name": "stdout",
     "output_type": "stream",
     "text": [
      "(121151, 31) (121151,)\n"
     ]
    }
   ],
   "source": [
    "# 建模--线性回归\n",
    "sample_feature = sample_feature.dropna().replace('-', 0).reset_index(drop=True)\n",
    "sample_feature['notRepairedDamage'] = sample_feature['notRepairedDamage'].astype(np.float32)\n",
    "train = sample_feature[continuous_feature_names + ['price']]\n",
    "\n",
    "train_X = train[continuous_feature_names]\n",
    "train_y = train['price']\n",
    "\n",
    "print(train_X.shape, train_y.shape)"
   ]
  },
  {
   "cell_type": "code",
   "execution_count": 6,
   "metadata": {},
   "outputs": [
    {
     "name": "stdout",
     "output_type": "stream",
     "text": [
      "截距为: -133912.911783133\n"
     ]
    },
    {
     "data": {
      "text/plain": [
       "[('v_6', 3439167.875457432),\n",
       " ('v_8', 692418.3918173974),\n",
       " ('v_9', 198478.60238693835),\n",
       " ('v_10', 42176.365939070434),\n",
       " ('v_7', 26117.693075244213),\n",
       " ('v_12', 25110.061257015008),\n",
       " ('v_3', 23276.591559673674),\n",
       " ('v_13', 13360.019794347614),\n",
       " ('gearbox', 817.4895114651351),\n",
       " ('fuelType', 318.30367901068485),\n",
       " ('bodyType', 191.28334367313693),\n",
       " ('city', 44.884164095045215),\n",
       " ('power', 26.44713630438645),\n",
       " ('brand_price_median', 0.5243186971442922),\n",
       " ('brand_price_std', 0.4474113477096166),\n",
       " ('brand_amount', 0.14421777303746333),\n",
       " ('used_time', 0.024009824776500314),\n",
       " ('brand_price_max', 0.004494659547399992),\n",
       " ('train', 2.391636371612549e-06),\n",
       " ('brand_price_sum', -2.1199625642558375e-05),\n",
       " ('brand_price_average', -0.4284557059498436),\n",
       " ('brand_price_min', -2.269353272579646),\n",
       " ('power_bin', -18.147899978019886),\n",
       " ('v_14', -294.6137426004412),\n",
       " ('kilometer', -360.33619950869837),\n",
       " ('notRepairedDamage', -512.9135835165267),\n",
       " ('v_0', -1346.5451370080675),\n",
       " ('v_11', -14548.687801934231),\n",
       " ('v_4', -17646.22892477274),\n",
       " ('v_2', -18546.642207212208),\n",
       " ('v_5', -52689.49730976312)]"
      ]
     },
     "execution_count": 6,
     "metadata": {},
     "output_type": "execute_result"
    }
   ],
   "source": [
    "from sklearn.linear_model import LinearRegression\n",
    "\n",
    "model = LinearRegression(normalize=True)\n",
    "model = model.fit(train_X, train_y)\n",
    "\n",
    "# 查看训练的线性回归模型的截距(intercept)和权重(coef)\n",
    "print('截距为:', str(model.intercept_))\n",
    "sorted(dict(zip(continuous_feature_names, model.coef_)).items(), key=lambda x:x[1], reverse=True )\n"
   ]
  },
  {
   "cell_type": "code",
   "execution_count": 8,
   "metadata": {},
   "outputs": [
    {
     "name": "stdout",
     "output_type": "stream",
     "text": [
      "price预测值与price真实值之间有明显的差异\n"
     ]
    },
    {
     "data": {
      "image/png": "[encoded data removed]",
      "text/plain": [
       "<Figure size 432x288 with 1 Axes>"
      ]
     },
     "metadata": {
      "needs_background": "light"
     },
     "output_type": "display_data"
    }
   ],
   "source": [
    "import matplotlib.pyplot as plt\n",
    "# 设置图表中文字属性，防止中文乱码\n",
    "plt.rcParams['font.sans-serif'] = ['SimHei']  # 显示中文标签\n",
    "plt.rcParams['axes.unicode_minus'] = False\n",
    "\n",
    "subsample_index = np.random.randint(low=0, high=len(train_y), size=50)\n",
    "\n",
    "# 绘制特征V_9与标签的散点图，图片发现模型的预测结果（蓝色点）与真实标签（黑色点）的分布差异较大，且部分预测值出现了小于0的情况，说明我们的模型存在一些问题\n",
    "plt.scatter(train_X['v_9'][subsample_index], train_y[subsample_index], color='black')\n",
    "plt.scatter(train_X['v_9'][subsample_index], model.predict(train_X.loc[subsample_index]), color='red')\n",
    "plt.xlabel('v_9')\n",
    "plt.ylabel('price')\n",
    "plt.legend(['price真实值', 'price预测值'], loc='upoer right')\n",
    "print('price预测值与price真实值之间有明显的差异')\n",
    "plt.show()\n"
   ]
  },
  {
   "cell_type": "code",
   "execution_count": 9,
   "metadata": {},
   "outputs": [
    {
     "name": "stdout",
     "output_type": "stream",
     "text": [
      "标签price的分布如下：\n"
     ]
    },
    {
     "data": {
      "text/plain": [
       "<matplotlib.axes._subplots.AxesSubplot at 0x2aeab000e08>"
      ]
     },
     "execution_count": 9,
     "metadata": {},
     "output_type": "execute_result"
    },
    {
     "data": {
      "image/png": "[encoded data removed]",
      "text/plain": [
       "<Figure size 1080x360 with 2 Axes>"
      ]
     },
     "metadata": {
      "needs_background": "light"
     },
     "output_type": "display_data"
    }
   ],
   "source": [
    "# 为了分析预测值与真实值之间出现明显差异的原因，对标签price做分析如下：\n",
    "import seaborn as sns\n",
    "print('标签price的分布如下：')\n",
    "plt.figure(figsize=(15, 5))\n",
    "plt.subplot(1, 2, 1)\n",
    "sns.distplot(train_y)\n",
    "plt.subplot(1, 2, 2)\n",
    "sns.distplot(train_y[train_y < np.quantile(train_y, 0.9)])"
   ]
  },
  {
   "cell_type": "markdown",
   "metadata": {},
   "source": [
    "通过前面的分析，我们知道数据的标签（price）呈现长尾分布，不利于我们的建模预测。原因是很多模型都假设数据误差项符合正态分布，而长尾分布的数据违背了这一假设\n",
    "\n",
    "[回归分析的五个基本假设](https://blog.csdn.net/Noob_daniel/article/details/76087829)"
   ]
  },
  {
   "cell_type": "code",
   "execution_count": 10,
   "metadata": {},
   "outputs": [
    {
     "name": "stdout",
     "output_type": "stream",
     "text": [
      "标签price取对数后的分布如下：\n"
     ]
    },
    {
     "data": {
      "text/plain": [
       "<matplotlib.axes._subplots.AxesSubplot at 0x2aeab1da348>"
      ]
     },
     "execution_count": 10,
     "metadata": {},
     "output_type": "execute_result"
    },
    {
     "data": {
      "image/png": "[encoded data removed]",
      "text/plain": [
       "<Figure size 1080x360 with 2 Axes>"
      ]
     },
     "metadata": {
      "needs_background": "light"
     },
     "output_type": "display_data"
    }
   ],
   "source": [
    "# 在上图中可以看到price呈现指数型，因此对price做log(x+1)转换，使标签price更接近于正态分布，便于建模预测\n",
    "train_y_ln = np.log(train_y + 1)\n",
    "\n",
    "print('标签price取对数后的分布如下：')\n",
    "plt.figure(figsize=(15, 5))\n",
    "plt.subplot(1, 2, 1)\n",
    "sns.distplot(train_y_ln)\n",
    "plt.subplot(1, 2, 2)\n",
    "sns.distplot(train_y_ln[train_y_ln < np.quantile(train_y_ln, 0.9)])"
   ]
  },
  {
   "cell_type": "code",
   "execution_count": 11,
   "metadata": {},
   "outputs": [
    {
     "name": "stdout",
     "output_type": "stream",
     "text": [
      "*********price取对数后预测得到的模型*************\n",
      "截距为: 24.065844916252505\n"
     ]
    },
    {
     "data": {
      "text/plain": [
       "[('v_9', 7.142386156790378),\n",
       " ('v_5', 2.0589568081701066),\n",
       " ('v_11', 1.818063024985464),\n",
       " ('v_12', 1.4512861841379987),\n",
       " ('v_13', 0.9933293919970294),\n",
       " ('v_3', 0.5983670330085706),\n",
       " ('gearbox', 0.0069893430754867265),\n",
       " ('power_bin', 0.005395515739726171),\n",
       " ('fuelType', 0.005036698187496513),\n",
       " ('bodyType', 0.004194932881130828),\n",
       " ('power', 0.0010124277207887774),\n",
       " ('brand_price_min', 1.5348414080149566e-05),\n",
       " ('brand_price_average', 3.6185218869589948e-06),\n",
       " ('brand_amount', 2.7560527777196556e-06),\n",
       " ('brand_price_max', 6.361774396928025e-07),\n",
       " ('train', 1.7257661966141313e-10),\n",
       " ('brand_price_sum', -1.2623762061424007e-10),\n",
       " ('brand_price_median', -4.585404423652206e-08),\n",
       " ('brand_price_std', -2.381303849399699e-06),\n",
       " ('used_time', -4.957519295838522e-06),\n",
       " ('city', -0.0012565833996455785),\n",
       " ('v_14', -0.012454079101984532),\n",
       " ('kilometer', -0.013593660632331686),\n",
       " ('v_7', -0.019590878193461746),\n",
       " ('v_0', -0.08029064674631298),\n",
       " ('notRepairedDamage', -0.26655694372970573),\n",
       " ('v_4', -0.8862205613188733),\n",
       " ('v_2', -0.9966975450986687),\n",
       " ('v_10', -3.0257449699152126),\n",
       " ('v_8', -42.58773972035841),\n",
       " ('v_6', -244.03847123175524)]"
      ]
     },
     "execution_count": 11,
     "metadata": {},
     "output_type": "execute_result"
    }
   ],
   "source": [
    "# 用取对数后的标签price训练模型，重新预测\n",
    "model = model.fit(train_X, train_y_ln)\n",
    "print('*********price取对数后预测得到的模型*************')\n",
    "print('截距为:', str(model.intercept_))\n",
    "sorted(dict(zip(continuous_feature_names, model.coef_)).items(), key=lambda x:x[1], reverse=True )"
   ]
  },
  {
   "cell_type": "code",
   "execution_count": 13,
   "metadata": {},
   "outputs": [
    {
     "name": "stdout",
     "output_type": "stream",
     "text": [
      "price取对数后：price预测值与price真实值之间比较接近\n"
     ]
    },
    {
     "data": {
      "image/png": "[encoded data removed]",
      "text/plain": [
       "<Figure size 432x288 with 1 Axes>"
      ]
     },
     "metadata": {
      "needs_background": "light"
     },
     "output_type": "display_data"
    }
   ],
   "source": [
    "# price取对数后，再次可视化，观察真实值与预测值之间的重合情况\n",
    "plt.scatter(train_X['v_9'][subsample_index], train_y[subsample_index], color='black')\n",
    "plt.scatter(train_X['v_9'][subsample_index], np.exp(model.predict(train_X.loc[subsample_index])), color='red')\n",
    "plt.xlabel('v_9')\n",
    "plt.ylabel('price')\n",
    "plt.legend(['price真实值', 'price预测值'], loc='upoer right')\n",
    "print('price取对数后：price预测值与price真实值之间比较接近')\n",
    "plt.show()\n"
   ]
  },
  {
   "cell_type": "markdown",
   "metadata": {},
   "source": [
    "### 五折交叉验证\n",
    "为了更精确的建模预测，将采用交叉验证的思路\n",
    "\n",
    "在使用训练集对参数进行训练的时候，经常会发现人们通常会将一整个训练集分为三个部分（比如mnist手写训练集）。一般分为：训练集（train_set），评估集（valid_set），测试集（test_set）这三个部分。这其实是为了保证训练效果而特意设置的。其中测试集很好理解，其实就是完全不参与训练的数据，仅仅用来观测测试效果的数据。而训练集和评估集则牵涉到下面的知识了。\n",
    "\n",
    "因为在实际的训练中，训练的结果对于训练集的拟合程度通常还是挺好的（初始条件敏感），但是对于训练集之外的数据的拟合程度通常就不那么令人满意了。因此我们通常并不会把所有的数据集都拿来训练，而是分出一部分来（这一部分不参加训练）对训练集生成的参数进行测试，相对客观的判断这些参数对训练集之外的数据的符合程度。这种思想就称为交叉验证（Cross Validation）"
   ]
  },
  {
   "cell_type": "code",
   "execution_count": 14,
   "metadata": {},
   "outputs": [],
   "source": [
    "from sklearn.model_selection import cross_val_score\n",
    "from sklearn.metrics import mean_absolute_error, make_scorer\n",
    "\n",
    "def log_transfer(func):\n",
    "    def wrapper(y, yhat):\n",
    "        result = func(np.log(y), np.nan_to_num(np.log(yhat)))\n",
    "        return result\n",
    "    return wrapper"
   ]
  },
  {
   "cell_type": "code",
   "execution_count": 15,
   "metadata": {},
   "outputs": [
    {
     "name": "stderr",
     "output_type": "stream",
     "text": [
      "[Parallel(n_jobs=1)]: Using backend SequentialBackend with 1 concurrent workers.\n"
     ]
    },
    {
     "name": "stdout",
     "output_type": "stream",
     "text": [
      "AVG-error: 1.3524355651568207\n"
     ]
    },
    {
     "name": "stderr",
     "output_type": "stream",
     "text": [
      "[Parallel(n_jobs=1)]: Done   5 out of   5 | elapsed:    0.8s finished\n"
     ]
    }
   ],
   "source": [
    "# 使用线性回归模型，对未处理标签的特征数据进行五折交叉验证\n",
    "scores = cross_val_score(model, X=train_X, y=train_y, verbose=1, cv=5, scoring=make_scorer(log_transfer(mean_absolute_error)))\n",
    "print('AVG-error:', np.mean(scores))"
   ]
  },
  {
   "cell_type": "code",
   "execution_count": 16,
   "metadata": {},
   "outputs": [
    {
     "name": "stderr",
     "output_type": "stream",
     "text": [
      "[Parallel(n_jobs=1)]: Using backend SequentialBackend with 1 concurrent workers.\n"
     ]
    },
    {
     "name": "stdout",
     "output_type": "stream",
     "text": [
      "AVG-error: 0.024677853390866762\n"
     ]
    },
    {
     "name": "stderr",
     "output_type": "stream",
     "text": [
      "[Parallel(n_jobs=1)]: Done   5 out of   5 | elapsed:    0.7s finished\n"
     ]
    }
   ],
   "source": [
    "# 使用线性回归模型，对处理过标签的特征数据进行五折交叉验证\n",
    "scores_ln = cross_val_score(model, X=train_X, y=train_y_ln, verbose=1, cv=5, scoring=make_scorer(log_transfer(mean_absolute_error)))\n",
    "print('AVG-error:', np.mean(scores_ln))"
   ]
  },
  {
   "cell_type": "code",
   "execution_count": 17,
   "metadata": {},
   "outputs": [
    {
     "data": {
      "text/html": [
       "<div>\n",
       "<style scoped>\n",
       "    .dataframe tbody tr th:only-of-type {\n",
       "        vertical-align: middle;\n",
       "    }\n",
       "\n",
       "    .dataframe tbody tr th {\n",
       "        vertical-align: top;\n",
       "    }\n",
       "\n",
       "    .dataframe thead th {\n",
       "        text-align: right;\n",
       "    }\n",
       "</style>\n",
       "<table border=\"1\" class=\"dataframe\">\n",
       "  <thead>\n",
       "    <tr style=\"text-align: right;\">\n",
       "      <th></th>\n",
       "      <th>cv1</th>\n",
       "      <th>cv2</th>\n",
       "      <th>cv3</th>\n",
       "      <th>cv4</th>\n",
       "      <th>cv5</th>\n",
       "    </tr>\n",
       "  </thead>\n",
       "  <tbody>\n",
       "    <tr>\n",
       "      <td>MAE</td>\n",
       "      <td>0.02449</td>\n",
       "      <td>0.024702</td>\n",
       "      <td>0.024872</td>\n",
       "      <td>0.024568</td>\n",
       "      <td>0.024758</td>\n",
       "    </tr>\n",
       "  </tbody>\n",
       "</table>\n",
       "</div>"
      ],
      "text/plain": [
       "         cv1       cv2       cv3       cv4       cv5\n",
       "MAE  0.02449  0.024702  0.024872  0.024568  0.024758"
      ]
     },
     "execution_count": 17,
     "metadata": {},
     "output_type": "execute_result"
    }
   ],
   "source": [
    "# 五折交叉验证的error值\n",
    "scores_ln_cv = pd.DataFrame(scores_ln.reshape(1,-1))\n",
    "scores_ln_cv.columns = ['cv' + str(x) for x in range(1, 6)]\n",
    "scores_ln_cv.index = ['MAE']\n",
    "scores_ln_cv"
   ]
  },
  {
   "cell_type": "markdown",
   "metadata": {},
   "source": [
    "但在事实上，由于我们并不具有预知未来的能力，五折交叉验证在某些与时间相关的数据集上反而反映了不真实的情况。通过2018年的二手车价格预测2017年的二手车价格，这显然是不合理的，因此我们还可以采用时间顺序对数据集进行分隔。在本例中，我们选用靠前时间的4/5样本当作训练集，靠后时间的1/5当作验证集，最终结果与五折交叉验证差距不大"
   ]
  },
  {
   "cell_type": "code",
   "execution_count": 18,
   "metadata": {},
   "outputs": [
    {
     "data": {
      "text/plain": [
       "0.1928314508542496"
      ]
     },
     "execution_count": 18,
     "metadata": {},
     "output_type": "execute_result"
    }
   ],
   "source": [
    "import datetime\n",
    "\n",
    "sample_feature = sample_feature.reset_index(drop=True)\n",
    "split_point = len(sample_feature) // 5 * 4\n",
    "\n",
    "train = sample_feature.loc[:split_point].dropna()\n",
    "val = sample_feature.loc[split_point:].dropna()\n",
    "\n",
    "train_X = train[continuous_feature_names]\n",
    "train_y_ln = np.log(train['price'] + 1)\n",
    "val_X = val[continuous_feature_names]\n",
    "val_y_ln = np.log(val['price'] + 1)\n",
    "\n",
    "model = model.fit(train_X, train_y_ln)\n",
    "\n",
    "mean_absolute_error(val_y_ln, model.predict(val_X))"
   ]
  },
  {
   "cell_type": "code",
   "execution_count": 19,
   "metadata": {},
   "outputs": [],
   "source": [
    "# 学习率曲线与验证曲线\n",
    "from sklearn.model_selection import learning_curve, validation_curve\n",
    "\n",
    "# ? learning_curve"
   ]
  },
  {
   "cell_type": "code",
   "execution_count": 20,
   "metadata": {},
   "outputs": [],
   "source": [
    "def plot_learning_curve(estimator, title, X, y, ylim=None, cv=None, n_jobs=1,train_size=np.linspace(.1, 1.0, 5 )):\n",
    "    plt.figure()\n",
    "    plt.title(title)\n",
    "    if ylim is not None:\n",
    "        plt.ylim(*ylim)\n",
    "    plt.xlabel('Training example')\n",
    "    plt.ylabel('score')\n",
    "    train_sizes, train_scores, test_scores = learning_curve(estimator, X, y, cv=cv, n_jobs=n_jobs, train_sizes=train_size, scoring = make_scorer(mean_absolute_error))  \n",
    "    train_scores_mean = np.mean(train_scores, axis=1)  \n",
    "    train_scores_std = np.std(train_scores, axis=1)  \n",
    "    test_scores_mean = np.mean(test_scores, axis=1)  \n",
    "    test_scores_std = np.std(test_scores, axis=1)  \n",
    "    plt.grid()#区域  \n",
    "    \n",
    "    plt.fill_between(train_sizes, train_scores_mean - train_scores_std,  \n",
    "                     train_scores_mean + train_scores_std, alpha=0.1,  \n",
    "                     color=\"r\")  \n",
    "    plt.fill_between(train_sizes, test_scores_mean - test_scores_std,  \n",
    "                     test_scores_mean + test_scores_std, alpha=0.1,  \n",
    "                     color=\"g\")  \n",
    "    plt.plot(train_sizes, train_scores_mean, 'o-', color='r',  \n",
    "             label=\"Training score\")  \n",
    "    plt.plot(train_sizes, test_scores_mean,'o-',color=\"g\",  \n",
    "             label=\"Cross-validation score\")  \n",
    "    plt.legend(loc=\"best\")  \n",
    "    return plt  "
   ]
  },
  {
   "cell_type": "code",
   "execution_count": 21,
   "metadata": {},
   "outputs": [
    {
     "data": {
      "text/plain": [
       "<module 'matplotlib.pyplot' from 'D:\\\\Anaconda\\\\lib\\\\site-packages\\\\matplotlib\\\\pyplot.py'>"
      ]
     },
     "execution_count": 21,
     "metadata": {},
     "output_type": "execute_result"
    },
    {
     "data": {
      "image/png": "[encoded data removed]",
      "text/plain": [
       "<Figure size 432x288 with 1 Axes>"
      ]
     },
     "metadata": {
      "needs_background": "light"
     },
     "output_type": "display_data"
    }
   ],
   "source": [
    "plot_learning_curve(LinearRegression(), 'Liner_model', train_X[:1000], train_y_ln[:1000], ylim=(0.0, 0.5), cv=5, n_jobs=1) "
   ]
  },
  {
   "cell_type": "code",
   "execution_count": 22,
   "metadata": {},
   "outputs": [],
   "source": [
    "# 多种模型对比\n",
    "train = sample_feature[continuous_feature_names + ['price']].dropna()\n",
    "\n",
    "train_X = train[continuous_feature_names]\n",
    "train_y = train['price']\n",
    "train_y_ln = np.log(train_y + 1)"
   ]
  },
  {
   "cell_type": "markdown",
   "metadata": {},
   "source": [
    "####  线性模型 & 嵌入式特征选择\n",
    "关于过拟合、模型复杂度、正则化等概念的参考资料如下：\n",
    "\n",
    "1. [用简单易懂的语言描述「过拟合 overfitting」]( https://www.zhihu.com/question/32246256/answer/55320482)\n",
    "2. [模型复杂度与模型的泛化能力](http://yangyingming.com/article/434/)\n",
    "3. [正则化的直观理解](https://blog.csdn.net/jinping_shi/article/details/52433975)\n",
    "\n",
    "在过滤式和包裹式特征选择方法中，特征选择过程与学习器训练过程有明显的分别。而嵌入式特征选择在学习器训练过程中自动地进行特征选择。嵌入式选择最常用的是L1正则化与L2正则化。在对线性回归模型加入两种正则化方法后，他们分别变成了岭回归与Lasso回归。"
   ]
  },
  {
   "cell_type": "code",
   "execution_count": 23,
   "metadata": {},
   "outputs": [],
   "source": [
    "from sklearn.linear_model import LinearRegression\n",
    "from sklearn.linear_model import Ridge\n",
    "from sklearn.linear_model import Lasso"
   ]
  },
  {
   "cell_type": "code",
   "execution_count": 24,
   "metadata": {},
   "outputs": [],
   "source": [
    "models = [LinearRegression(),\n",
    "          Ridge(),\n",
    "          Lasso()]"
   ]
  },
  {
   "cell_type": "code",
   "execution_count": 25,
   "metadata": {},
   "outputs": [
    {
     "name": "stdout",
     "output_type": "stream",
     "text": [
      "LinearRegression is finished\n",
      "Ridge is finished\n",
      "Lasso is finished\n"
     ]
    }
   ],
   "source": [
    "result = dict()\n",
    "for model in models:\n",
    "    model_name = str(model).split('(')[0]\n",
    "    scores = cross_val_score(model, X=train_X, y=train_y_ln, verbose=0, cv=5, scoring=make_scorer(mean_absolute_error))\n",
    "    result[model_name] = scores\n",
    "    print(model_name + ' is finished')"
   ]
  },
  {
   "cell_type": "code",
   "execution_count": 26,
   "metadata": {
    "scrolled": true
   },
   "outputs": [
    {
     "data": {
      "text/html": [
       "<div>\n",
       "<style scoped>\n",
       "    .dataframe tbody tr th:only-of-type {\n",
       "        vertical-align: middle;\n",
       "    }\n",
       "\n",
       "    .dataframe tbody tr th {\n",
       "        vertical-align: top;\n",
       "    }\n",
       "\n",
       "    .dataframe thead th {\n",
       "        text-align: right;\n",
       "    }\n",
       "</style>\n",
       "<table border=\"1\" class=\"dataframe\">\n",
       "  <thead>\n",
       "    <tr style=\"text-align: right;\">\n",
       "      <th></th>\n",
       "      <th>LinearRegression</th>\n",
       "      <th>Ridge</th>\n",
       "      <th>Lasso</th>\n",
       "    </tr>\n",
       "  </thead>\n",
       "  <tbody>\n",
       "    <tr>\n",
       "      <td>cv1</td>\n",
       "      <td>0.190693</td>\n",
       "      <td>0.194541</td>\n",
       "      <td>0.382037</td>\n",
       "    </tr>\n",
       "    <tr>\n",
       "      <td>cv2</td>\n",
       "      <td>0.192194</td>\n",
       "      <td>0.196029</td>\n",
       "      <td>0.379209</td>\n",
       "    </tr>\n",
       "    <tr>\n",
       "      <td>cv3</td>\n",
       "      <td>0.192823</td>\n",
       "      <td>0.196593</td>\n",
       "      <td>0.382788</td>\n",
       "    </tr>\n",
       "    <tr>\n",
       "      <td>cv4</td>\n",
       "      <td>0.190933</td>\n",
       "      <td>0.194981</td>\n",
       "      <td>0.378830</td>\n",
       "    </tr>\n",
       "    <tr>\n",
       "      <td>cv5</td>\n",
       "      <td>0.192839</td>\n",
       "      <td>0.196644</td>\n",
       "      <td>0.382311</td>\n",
       "    </tr>\n",
       "  </tbody>\n",
       "</table>\n",
       "</div>"
      ],
      "text/plain": [
       "     LinearRegression     Ridge     Lasso\n",
       "cv1          0.190693  0.194541  0.382037\n",
       "cv2          0.192194  0.196029  0.379209\n",
       "cv3          0.192823  0.196593  0.382788\n",
       "cv4          0.190933  0.194981  0.378830\n",
       "cv5          0.192839  0.196644  0.382311"
      ]
     },
     "execution_count": 26,
     "metadata": {},
     "output_type": "execute_result"
    }
   ],
   "source": [
    "result = pd.DataFrame(result)\n",
    "result.index = ['cv' + str(x) for x in range(1, 6)]\n",
    "result"
   ]
  },
  {
   "cell_type": "code",
   "execution_count": 27,
   "metadata": {},
   "outputs": [
    {
     "name": "stdout",
     "output_type": "stream",
     "text": [
      "intercept:24.06584485754055\n"
     ]
    },
    {
     "data": {
      "text/plain": [
       "<matplotlib.axes._subplots.AxesSubplot at 0x2aea90556c8>"
      ]
     },
     "execution_count": 27,
     "metadata": {},
     "output_type": "execute_result"
    },
    {
     "data": {
      "image/png": "[encoded data removed]",
      "text/plain": [
       "<Figure size 432x288 with 1 Axes>"
      ]
     },
     "metadata": {
      "needs_background": "light"
     },
     "output_type": "display_data"
    }
   ],
   "source": [
    "model = LinearRegression().fit(train_X, train_y_ln)\n",
    "print('intercept:'+ str(model.intercept_))\n",
    "sns.barplot(abs(model.coef_), continuous_feature_names)"
   ]
  },
  {
   "cell_type": "markdown",
   "metadata": {},
   "source": [
    "**L2正则化**\n",
    "\n",
    "L2正则化在拟合过程中通常都倾向于让权值尽可能小，最后构造一个所有参数都比较小的模型。因为一般认为参数值小的模型比较简单，能适应不同的数据集，也在一定程度上避免了过拟合现象。可以设想一下对于一个线性回归方程，若参数很大，那么只要数据偏移一点点，就会对结果造成很大的影响；但如果参数足够小，数据偏移得多一点也不会对结果造成什么影响，专业一点的说法是『抗扰动能力强』"
   ]
  },
  {
   "cell_type": "code",
   "execution_count": 28,
   "metadata": {},
   "outputs": [
    {
     "name": "stdout",
     "output_type": "stream",
     "text": [
      "intercept:7.048024022357582\n"
     ]
    },
    {
     "data": {
      "text/plain": [
       "<matplotlib.axes._subplots.AxesSubplot at 0x2aea8fffa08>"
      ]
     },
     "execution_count": 28,
     "metadata": {},
     "output_type": "execute_result"
    },
    {
     "data": {
      "image/png": "[encoded data removed]",
      "text/plain": [
       "<Figure size 432x288 with 1 Axes>"
      ]
     },
     "metadata": {
      "needs_background": "light"
     },
     "output_type": "display_data"
    }
   ],
   "source": [
    "model = Ridge().fit(train_X, train_y_ln)\n",
    "print('intercept:'+ str(model.intercept_))\n",
    "sns.barplot(abs(model.coef_), continuous_feature_names)"
   ]
  },
  {
   "cell_type": "markdown",
   "metadata": {},
   "source": [
    "**L1正则化**\n",
    "\n",
    "L1正则化有助于生成一个稀疏权值矩阵，进而可以用于特征选择。如下图，我们发现power与userd_time特征非常重要"
   ]
  },
  {
   "cell_type": "code",
   "execution_count": 29,
   "metadata": {},
   "outputs": [
    {
     "name": "stdout",
     "output_type": "stream",
     "text": [
      "intercept:8.669715503621848\n"
     ]
    },
    {
     "data": {
      "text/plain": [
       "<matplotlib.axes._subplots.AxesSubplot at 0x2aea95a2dc8>"
      ]
     },
     "execution_count": 29,
     "metadata": {},
     "output_type": "execute_result"
    },
    {
     "data": {
      "image/png": "[encoded data removed]",
      "text/plain": [
       "<Figure size 432x288 with 1 Axes>"
      ]
     },
     "metadata": {
      "needs_background": "light"
     },
     "output_type": "display_data"
    }
   ],
   "source": [
    "model = Lasso().fit(train_X, train_y_ln)\n",
    "print('intercept:'+ str(model.intercept_))\n",
    "sns.barplot(abs(model.coef_), continuous_feature_names)"
   ]
  },
  {
   "cell_type": "markdown",
   "metadata": {},
   "source": [
    "除此之外，决策树通过信息熵或GINI指数选择分裂节点时，优先选择的分裂特征也更加重要，这同样是一种特征选择的方法。XGBoost与LightGBM模型中的model_importance指标正是基于此计算的"
   ]
  },
  {
   "cell_type": "markdown",
   "metadata": {},
   "source": [
    "#### 非线性模型\n",
    "除了线性模型以外，还有许多我们常用的非线性模型如下"
   ]
  },
  {
   "cell_type": "code",
   "execution_count": 30,
   "metadata": {},
   "outputs": [],
   "source": [
    "from sklearn.linear_model import LinearRegression\n",
    "from sklearn.svm import SVC\n",
    "from sklearn.tree import DecisionTreeRegressor\n",
    "from sklearn.ensemble import RandomForestRegressor\n",
    "from sklearn.ensemble import GradientBoostingRegressor\n",
    "from sklearn.neural_network import MLPRegressor\n",
    "from xgboost.sklearn import XGBRegressor\n",
    "from lightgbm.sklearn import LGBMRegressor"
   ]
  },
  {
   "cell_type": "code",
   "execution_count": 31,
   "metadata": {},
   "outputs": [
    {
     "name": "stdout",
     "output_type": "stream",
     "text": [
      "LinearRegression is finished\n",
      "DecisionTreeRegressor is finished\n",
      "RandomForestRegressor is finished\n",
      "GradientBoostingRegressor is finished\n",
      "MLPRegressor is finished\n",
      "XGBRegressor is finished\n",
      "LGBMRegressor is finished\n"
     ]
    }
   ],
   "source": [
    "models = [LinearRegression(),\n",
    "          DecisionTreeRegressor(),\n",
    "          RandomForestRegressor(),\n",
    "          GradientBoostingRegressor(),\n",
    "          MLPRegressor(solver='lbfgs', max_iter=100), \n",
    "          XGBRegressor(n_estimators = 100, objective='reg:squarederror'), \n",
    "          LGBMRegressor(n_estimators = 100)]\n",
    "\n",
    "result = dict()\n",
    "for model in models:\n",
    "    model_name = str(model).split('(')[0]\n",
    "    scores = cross_val_score(model, X=train_X, y=train_y_ln, verbose=0, cv = 5, scoring=make_scorer(mean_absolute_error))\n",
    "    result[model_name] = scores\n",
    "    print(model_name + ' is finished')"
   ]
  },
  {
   "cell_type": "code",
   "execution_count": 32,
   "metadata": {},
   "outputs": [
    {
     "data": {
      "text/html": [
       "<div>\n",
       "<style scoped>\n",
       "    .dataframe tbody tr th:only-of-type {\n",
       "        vertical-align: middle;\n",
       "    }\n",
       "\n",
       "    .dataframe tbody tr th {\n",
       "        vertical-align: top;\n",
       "    }\n",
       "\n",
       "    .dataframe thead th {\n",
       "        text-align: right;\n",
       "    }\n",
       "</style>\n",
       "<table border=\"1\" class=\"dataframe\">\n",
       "  <thead>\n",
       "    <tr style=\"text-align: right;\">\n",
       "      <th></th>\n",
       "      <th>LinearRegression</th>\n",
       "      <th>DecisionTreeRegressor</th>\n",
       "      <th>RandomForestRegressor</th>\n",
       "      <th>GradientBoostingRegressor</th>\n",
       "      <th>MLPRegressor</th>\n",
       "      <th>XGBRegressor</th>\n",
       "      <th>LGBMRegressor</th>\n",
       "    </tr>\n",
       "  </thead>\n",
       "  <tbody>\n",
       "    <tr>\n",
       "      <td>cv1</td>\n",
       "      <td>0.190693</td>\n",
       "      <td>0.184507</td>\n",
       "      <td>0.128308</td>\n",
       "      <td>0.168014</td>\n",
       "      <td>117.571969</td>\n",
       "      <td>0.168912</td>\n",
       "      <td>0.141235</td>\n",
       "    </tr>\n",
       "    <tr>\n",
       "      <td>cv2</td>\n",
       "      <td>0.192194</td>\n",
       "      <td>0.184081</td>\n",
       "      <td>0.129374</td>\n",
       "      <td>0.170099</td>\n",
       "      <td>266.510332</td>\n",
       "      <td>0.169902</td>\n",
       "      <td>0.142238</td>\n",
       "    </tr>\n",
       "    <tr>\n",
       "      <td>cv3</td>\n",
       "      <td>0.192823</td>\n",
       "      <td>0.186116</td>\n",
       "      <td>0.129864</td>\n",
       "      <td>0.170854</td>\n",
       "      <td>93.535676</td>\n",
       "      <td>0.169662</td>\n",
       "      <td>0.141675</td>\n",
       "    </tr>\n",
       "    <tr>\n",
       "      <td>cv4</td>\n",
       "      <td>0.190933</td>\n",
       "      <td>0.183350</td>\n",
       "      <td>0.128967</td>\n",
       "      <td>0.169924</td>\n",
       "      <td>99.853039</td>\n",
       "      <td>0.169248</td>\n",
       "      <td>0.139875</td>\n",
       "    </tr>\n",
       "    <tr>\n",
       "      <td>cv5</td>\n",
       "      <td>0.192839</td>\n",
       "      <td>0.182975</td>\n",
       "      <td>0.128875</td>\n",
       "      <td>0.171147</td>\n",
       "      <td>90.109432</td>\n",
       "      <td>0.170392</td>\n",
       "      <td>0.140760</td>\n",
       "    </tr>\n",
       "  </tbody>\n",
       "</table>\n",
       "</div>"
      ],
      "text/plain": [
       "     LinearRegression  DecisionTreeRegressor  RandomForestRegressor  \\\n",
       "cv1          0.190693               0.184507               0.128308   \n",
       "cv2          0.192194               0.184081               0.129374   \n",
       "cv3          0.192823               0.186116               0.129864   \n",
       "cv4          0.190933               0.183350               0.128967   \n",
       "cv5          0.192839               0.182975               0.128875   \n",
       "\n",
       "     GradientBoostingRegressor  MLPRegressor  XGBRegressor  LGBMRegressor  \n",
       "cv1                   0.168014    117.571969      0.168912       0.141235  \n",
       "cv2                   0.170099    266.510332      0.169902       0.142238  \n",
       "cv3                   0.170854     93.535676      0.169662       0.141675  \n",
       "cv4                   0.169924     99.853039      0.169248       0.139875  \n",
       "cv5                   0.171147     90.109432      0.170392       0.140760  "
      ]
     },
     "execution_count": 32,
     "metadata": {},
     "output_type": "execute_result"
    }
   ],
   "source": [
    "result = pd.DataFrame(result)\n",
    "result.index = ['cv' + str(x) for x in range(1, 6)]\n",
    "result"
   ]
  },
  {
   "cell_type": "markdown",
   "metadata": {},
   "source": [
    "#### 模型调参\n",
    "常用的三种调参方法：\n",
    "1. [贪心算法](https://www.jianshu.com/p/ab89df9759c8)\n",
    "2. [网格调参](https://blog.csdn.net/weixin_43172660/article/details/83032029)\n",
    "3. [贝叶斯调参](https://blog.csdn.net/linxid/article/details/81189154)"
   ]
  },
  {
   "cell_type": "code",
   "execution_count": 33,
   "metadata": {},
   "outputs": [],
   "source": [
    "## LGB的参数集合：\n",
    "\n",
    "objective = ['regression', 'regression_l1', 'mape', 'huber', 'fair']\n",
    "\n",
    "num_leaves = [3,5,10,15,20,40, 55]\n",
    "max_depth = [3,5,10,15,20,40, 55]\n",
    "bagging_fraction = []\n",
    "feature_fraction = []\n",
    "drop_rate = []"
   ]
  },
  {
   "cell_type": "code",
   "execution_count": 34,
   "metadata": {},
   "outputs": [],
   "source": [
    "# 贪心算法调参\n",
    "best_obj = dict()\n",
    "for obj in objective:\n",
    "    model = LGBMRegressor(objective=obj)\n",
    "    score = np.mean(cross_val_score(model, X=train_X, y=train_y_ln, verbose=0, cv = 5, scoring=make_scorer(mean_absolute_error)))\n",
    "    best_obj[obj] = score\n",
    "    \n",
    "best_leaves = dict()\n",
    "for leaves in num_leaves:\n",
    "    model = LGBMRegressor(objective=min(best_obj.items(), key=lambda x:x[1])[0], num_leaves=leaves)\n",
    "    score = np.mean(cross_val_score(model, X=train_X, y=train_y_ln, verbose=0, cv = 5, scoring=make_scorer(mean_absolute_error)))\n",
    "    best_leaves[leaves] = score\n",
    "    \n",
    "best_depth = dict()\n",
    "for depth in max_depth:\n",
    "    model = LGBMRegressor(objective=min(best_obj.items(), key=lambda x:x[1])[0],\n",
    "                          num_leaves=min(best_leaves.items(), key=lambda x:x[1])[0],\n",
    "                          max_depth=depth)\n",
    "    score = np.mean(cross_val_score(model, X=train_X, y=train_y_ln, verbose=0, cv = 5, scoring=make_scorer(mean_absolute_error)))\n",
    "    best_depth[depth] = score"
   ]
  },
  {
   "cell_type": "code",
   "execution_count": 35,
   "metadata": {},
   "outputs": [
    {
     "data": {
      "text/plain": [
       "<matplotlib.axes._subplots.AxesSubplot at 0x2aeab61ebc8>"
      ]
     },
     "execution_count": 35,
     "metadata": {},
     "output_type": "execute_result"
    },
    {
     "data": {
      "image/png": "[encoded data removed]",
      "text/plain": [
       "<Figure size 432x288 with 1 Axes>"
      ]
     },
     "metadata": {
      "needs_background": "light"
     },
     "output_type": "display_data"
    }
   ],
   "source": [
    "sns.lineplot(x=['0_initial','1_turning_obj','2_turning_leaves','3_turning_depth'], y=[0.143 ,min(best_obj.values()), min(best_leaves.values()), min(best_depth.values())])"
   ]
  },
  {
   "cell_type": "code",
   "execution_count": 36,
   "metadata": {},
   "outputs": [
    {
     "name": "stdout",
     "output_type": "stream",
     "text": [
      "{'max_depth': 20, 'num_leaves': 55, 'objective': 'regression'}\n"
     ]
    }
   ],
   "source": [
    "# Grid Search 调参\n",
    "from sklearn.model_selection import GridSearchCV\n",
    "\n",
    "parameters = {'objective': objective , 'num_leaves': num_leaves, 'max_depth': max_depth}\n",
    "model = LGBMRegressor()\n",
    "clf = GridSearchCV(model, parameters, cv=5)\n",
    "clf = clf.fit(train_X, train_y)\n",
    "\n",
    "print(clf.best_params_)"
   ]
  },
  {
   "cell_type": "code",
   "execution_count": 38,
   "metadata": {},
   "outputs": [],
   "source": [
    "# 故lgbm模型的参数设置为：\n",
    "model = LGBMRegressor(objective='regression',\n",
    "                          num_leaves=55,\n",
    "                          max_depth=20)"
   ]
  },
  {
   "cell_type": "code",
   "execution_count": 39,
   "metadata": {},
   "outputs": [
    {
     "data": {
      "text/plain": [
       "0.13484251355891338"
      ]
     },
     "execution_count": 39,
     "metadata": {},
     "output_type": "execute_result"
    }
   ],
   "source": [
    "np.mean(cross_val_score(model, X=train_X, y=train_y_ln, verbose=0, cv = 5, scoring=make_scorer(mean_absolute_error)))"
   ]
  },
  {
   "cell_type": "code",
   "execution_count": 41,
   "metadata": {},
   "outputs": [],
   "source": [
    "# 贝叶斯调参\n",
    "from bayes_opt import BayesianOptimization\n",
    "\n",
    "def rf_cv(num_leaves, max_depth, subsample, min_child_samples):\n",
    "    val = cross_val_score(\n",
    "        LGBMRegressor(objective = 'regression_l1',\n",
    "            num_leaves=int(num_leaves),\n",
    "            max_depth=int(max_depth),\n",
    "            subsample = subsample,\n",
    "            min_child_samples = int(min_child_samples)\n",
    "        ),\n",
    "        X=train_X, y=train_y_ln, verbose=0, cv = 5, scoring=make_scorer(mean_absolute_error)\n",
    "    ).mean()\n",
    "    return 1 - val"
   ]
  },
  {
   "cell_type": "code",
   "execution_count": 42,
   "metadata": {},
   "outputs": [],
   "source": [
    "rf_bo = BayesianOptimization(\n",
    "    rf_cv,\n",
    "    {\n",
    "    'num_leaves': (2, 100),\n",
    "    'max_depth': (2, 100),\n",
    "    'subsample': (0.1, 1),\n",
    "    'min_child_samples' : (2, 100)\n",
    "    }\n",
    ")"
   ]
  },
  {
   "cell_type": "code",
   "execution_count": 43,
   "metadata": {},
   "outputs": [
    {
     "name": "stdout",
     "output_type": "stream",
     "text": [
      "|   iter    |  target   | max_depth | min_ch... | num_le... | subsample |\n",
      "-------------------------------------------------------------------------\n",
      "| \u001b[0m 1       \u001b[0m | \u001b[0m 0.8665  \u001b[0m | \u001b[0m 56.45   \u001b[0m | \u001b[0m 26.89   \u001b[0m | \u001b[0m 56.35   \u001b[0m | \u001b[0m 0.6467  \u001b[0m |\n",
      "| \u001b[0m 2       \u001b[0m | \u001b[0m 0.8609  \u001b[0m | \u001b[0m 62.83   \u001b[0m | \u001b[0m 51.19   \u001b[0m | \u001b[0m 34.25   \u001b[0m | \u001b[0m 0.488   \u001b[0m |\n",
      "| \u001b[95m 3       \u001b[0m | \u001b[95m 0.8684  \u001b[0m | \u001b[95m 23.41   \u001b[0m | \u001b[95m 95.86   \u001b[0m | \u001b[95m 69.22   \u001b[0m | \u001b[95m 0.2201  \u001b[0m |\n",
      "| \u001b[0m 4       \u001b[0m | \u001b[0m 0.813   \u001b[0m | \u001b[0m 41.6    \u001b[0m | \u001b[0m 38.99   \u001b[0m | \u001b[0m 4.171   \u001b[0m | \u001b[0m 0.8557  \u001b[0m |\n",
      "| \u001b[0m 5       \u001b[0m | \u001b[0m 0.8643  \u001b[0m | \u001b[0m 48.19   \u001b[0m | \u001b[0m 40.09   \u001b[0m | \u001b[0m 45.51   \u001b[0m | \u001b[0m 0.6745  \u001b[0m |\n",
      "| \u001b[0m 6       \u001b[0m | \u001b[0m 0.864   \u001b[0m | \u001b[0m 47.48   \u001b[0m | \u001b[0m 37.9    \u001b[0m | \u001b[0m 44.23   \u001b[0m | \u001b[0m 0.1531  \u001b[0m |\n",
      "| \u001b[95m 7       \u001b[0m | \u001b[95m 0.869   \u001b[0m | \u001b[95m 73.82   \u001b[0m | \u001b[95m 92.47   \u001b[0m | \u001b[95m 73.48   \u001b[0m | \u001b[95m 0.1     \u001b[0m |\n",
      "| \u001b[95m 8       \u001b[0m | \u001b[95m 0.8715  \u001b[0m | \u001b[95m 41.81   \u001b[0m | \u001b[95m 65.36   \u001b[0m | \u001b[95m 100.0   \u001b[0m | \u001b[95m 0.1     \u001b[0m |\n",
      "| \u001b[0m 9       \u001b[0m | \u001b[0m 0.8713  \u001b[0m | \u001b[0m 96.23   \u001b[0m | \u001b[0m 52.17   \u001b[0m | \u001b[0m 100.0   \u001b[0m | \u001b[0m 0.1     \u001b[0m |\n",
      "| \u001b[0m 10      \u001b[0m | \u001b[0m 0.8078  \u001b[0m | \u001b[0m 2.0     \u001b[0m | \u001b[0m 33.06   \u001b[0m | \u001b[0m 94.98   \u001b[0m | \u001b[0m 0.1     \u001b[0m |\n",
      "| \u001b[0m 11      \u001b[0m | \u001b[0m 0.8714  \u001b[0m | \u001b[0m 100.0   \u001b[0m | \u001b[0m 2.0     \u001b[0m | \u001b[0m 100.0   \u001b[0m | \u001b[0m 0.1     \u001b[0m |\n",
      "| \u001b[0m 12      \u001b[0m | \u001b[0m 0.8667  \u001b[0m | \u001b[0m 100.0   \u001b[0m | \u001b[0m 31.37   \u001b[0m | \u001b[0m 58.5    \u001b[0m | \u001b[0m 0.1     \u001b[0m |\n",
      "| \u001b[0m 13      \u001b[0m | \u001b[0m 0.8714  \u001b[0m | \u001b[0m 55.54   \u001b[0m | \u001b[0m 99.75   \u001b[0m | \u001b[0m 99.93   \u001b[0m | \u001b[0m 0.586   \u001b[0m |\n",
      "| \u001b[0m 14      \u001b[0m | \u001b[0m 0.8542  \u001b[0m | \u001b[0m 100.0   \u001b[0m | \u001b[0m 100.0   \u001b[0m | \u001b[0m 21.7    \u001b[0m | \u001b[0m 0.187   \u001b[0m |\n",
      "| \u001b[0m 15      \u001b[0m | \u001b[0m 0.8714  \u001b[0m | \u001b[0m 99.68   \u001b[0m | \u001b[0m 98.85   \u001b[0m | \u001b[0m 99.55   \u001b[0m | \u001b[0m 0.2278  \u001b[0m |\n",
      "| \u001b[0m 16      \u001b[0m | \u001b[0m 0.8541  \u001b[0m | \u001b[0m 100.0   \u001b[0m | \u001b[0m 2.0     \u001b[0m | \u001b[0m 21.97   \u001b[0m | \u001b[0m 0.1     \u001b[0m |\n",
      "| \u001b[0m 17      \u001b[0m | \u001b[0m 0.8078  \u001b[0m | \u001b[0m 2.0     \u001b[0m | \u001b[0m 100.0   \u001b[0m | \u001b[0m 23.54   \u001b[0m | \u001b[0m 0.1     \u001b[0m |\n",
      "| \u001b[0m 18      \u001b[0m | \u001b[0m 0.8713  \u001b[0m | \u001b[0m 15.4    \u001b[0m | \u001b[0m 98.77   \u001b[0m | \u001b[0m 97.89   \u001b[0m | \u001b[0m 0.272   \u001b[0m |\n",
      "| \u001b[0m 19      \u001b[0m | \u001b[0m 0.8678  \u001b[0m | \u001b[0m 100.0   \u001b[0m | \u001b[0m 70.46   \u001b[0m | \u001b[0m 64.09   \u001b[0m | \u001b[0m 0.1     \u001b[0m |\n",
      "| \u001b[0m 20      \u001b[0m | \u001b[0m 0.8714  \u001b[0m | \u001b[0m 73.39   \u001b[0m | \u001b[0m 25.99   \u001b[0m | \u001b[0m 99.89   \u001b[0m | \u001b[0m 0.5341  \u001b[0m |\n",
      "| \u001b[95m 21      \u001b[0m | \u001b[95m 0.8716  \u001b[0m | \u001b[95m 70.74   \u001b[0m | \u001b[95m 69.13   \u001b[0m | \u001b[95m 100.0   \u001b[0m | \u001b[95m 0.1     \u001b[0m |\n",
      "| \u001b[0m 22      \u001b[0m | \u001b[0m 0.8687  \u001b[0m | \u001b[0m 82.4    \u001b[0m | \u001b[0m 2.0     \u001b[0m | \u001b[0m 71.97   \u001b[0m | \u001b[0m 0.1     \u001b[0m |\n",
      "| \u001b[0m 23      \u001b[0m | \u001b[0m 0.8697  \u001b[0m | \u001b[0m 44.99   \u001b[0m | \u001b[0m 80.5    \u001b[0m | \u001b[0m 79.43   \u001b[0m | \u001b[0m 0.1     \u001b[0m |\n",
      "| \u001b[0m 24      \u001b[0m | \u001b[0m 0.8714  \u001b[0m | \u001b[0m 62.79   \u001b[0m | \u001b[0m 2.0     \u001b[0m | \u001b[0m 100.0   \u001b[0m | \u001b[0m 0.1     \u001b[0m |\n",
      "| \u001b[0m 25      \u001b[0m | \u001b[0m 0.8691  \u001b[0m | \u001b[0m 76.26   \u001b[0m | \u001b[0m 51.19   \u001b[0m | \u001b[0m 74.2    \u001b[0m | \u001b[0m 0.1     \u001b[0m |\n",
      "| \u001b[0m 26      \u001b[0m | \u001b[0m 0.8564  \u001b[0m | \u001b[0m 100.0   \u001b[0m | \u001b[0m 52.24   \u001b[0m | \u001b[0m 24.74   \u001b[0m | \u001b[0m 0.1     \u001b[0m |\n",
      "| \u001b[0m 27      \u001b[0m | \u001b[0m 0.8687  \u001b[0m | \u001b[0m 98.12   \u001b[0m | \u001b[0m 98.68   \u001b[0m | \u001b[0m 71.47   \u001b[0m | \u001b[0m 0.6649  \u001b[0m |\n",
      "| \u001b[0m 28      \u001b[0m | \u001b[0m 0.8704  \u001b[0m | \u001b[0m 34.44   \u001b[0m | \u001b[0m 100.0   \u001b[0m | \u001b[0m 87.42   \u001b[0m | \u001b[0m 0.1     \u001b[0m |\n",
      "| \u001b[0m 29      \u001b[0m | \u001b[0m 0.8715  \u001b[0m | \u001b[0m 100.0   \u001b[0m | \u001b[0m 26.42   \u001b[0m | \u001b[0m 100.0   \u001b[0m | \u001b[0m 0.1     \u001b[0m |\n",
      "| \u001b[0m 30      \u001b[0m | \u001b[0m 0.8715  \u001b[0m | \u001b[0m 99.64   \u001b[0m | \u001b[0m 75.89   \u001b[0m | \u001b[0m 99.05   \u001b[0m | \u001b[0m 0.1763  \u001b[0m |\n",
      "=========================================================================\n",
      "None\n",
      "0.12843446577946038\n"
     ]
    }
   ],
   "source": [
    "print(rf_bo.maximize())\n",
    "print(1 - rf_bo.max['target'])"
   ]
  },
  {
   "cell_type": "code",
   "execution_count": 44,
   "metadata": {},
   "outputs": [
    {
     "data": {
      "text/plain": [
       "<matplotlib.axes._subplots.AxesSubplot at 0x2aeac9e9388>"
      ]
     },
     "execution_count": 44,
     "metadata": {},
     "output_type": "execute_result"
    },
    {
     "data": {
      "image/png": "[encoded data removed]",
      "text/plain": [
       "<Figure size 936x360 with 1 Axes>"
      ]
     },
     "metadata": {
      "needs_background": "light"
     },
     "output_type": "display_data"
    }
   ],
   "source": [
    "plt.figure(figsize=(13,5))\n",
    "sns.lineplot(x=['0_origin','1_log_transfer','2_L1_&_L2','3_change_model','4_parameter_turning'], y=[1.36 ,0.19, 0.19, 0.14, 0.13])"
   ]
  },
  {
   "cell_type": "markdown",
   "metadata": {},
   "source": [
    "**参考资料**\n",
    "1. [二手车交易价格预测](https://tianchi.aliyun.com/competition/entrance/231784/information)\n",
    "2. [二手车交易数据集探索](https://www.kesci.com/home/project/5eba1b50366f4d002d794e50/code)\n",
    "3. [特征工程](https://www.zhihu.com/question/28641663/answer/110165221)\n",
    "4. [EDA数据探索性分析](https://www.jianshu.com/p/902d163fdbd9)"
   ]
  },
  {
   "cell_type": "code",
   "execution_count": null,
   "metadata": {},
   "outputs": [],
   "source": []
  }
 ],
 "metadata": {
  "kernelspec": {
   "display_name": "Python 3",
   "language": "python",
   "name": "python3"
  },
  "language_info": {
   "codemirror_mode": {
    "name": "ipython",
    "version": 3
   },
   "file_extension": ".py",
   "mimetype": "text/x-python",
   "name": "python",
   "nbconvert_exporter": "python",
   "pygments_lexer": "ipython3",
   "version": "3.7.4"
  }
 },
 "nbformat": 4,
 "nbformat_minor": 2
}
