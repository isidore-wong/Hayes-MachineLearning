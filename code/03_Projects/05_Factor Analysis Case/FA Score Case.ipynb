{
 "cells": [
  {
   "cell_type": "code",
   "execution_count": 2,
   "metadata": {},
   "outputs": [],
   "source": [
    "import numpy as np\n",
    "import numpy.linalg as nlg\n",
    "import pandas as pd\n",
    "import matplotlib.pyplot as plt\n",
    "from matplotlib import cm\n",
    "from scipy.stats import bartlett\n",
    "from factor_analyzer import FactorAnalyzer\n",
    "import warnings \n",
    "\n",
    "warnings.filterwarnings('ignore')"
   ]
  },
  {
   "cell_type": "code",
   "execution_count": 8,
   "metadata": {},
   "outputs": [
    {
     "name": "stdout",
     "output_type": "stream",
     "text": [
      "原始数据:\n",
      "\n"
     ]
    },
    {
     "data": {
      "text/html": [
       "<div>\n",
       "<style scoped>\n",
       "    .dataframe tbody tr th:only-of-type {\n",
       "        vertical-align: middle;\n",
       "    }\n",
       "\n",
       "    .dataframe tbody tr th {\n",
       "        vertical-align: top;\n",
       "    }\n",
       "\n",
       "    .dataframe thead th {\n",
       "        text-align: right;\n",
       "    }\n",
       "</style>\n",
       "<table border=\"1\" class=\"dataframe\">\n",
       "  <thead>\n",
       "    <tr style=\"text-align: right;\">\n",
       "      <th></th>\n",
       "      <th>语文</th>\n",
       "      <th>数学</th>\n",
       "      <th>英语</th>\n",
       "      <th>政治</th>\n",
       "      <th>历史</th>\n",
       "      <th>物理</th>\n",
       "      <th>化学</th>\n",
       "    </tr>\n",
       "    <tr>\n",
       "      <th>姓名</th>\n",
       "      <th></th>\n",
       "      <th></th>\n",
       "      <th></th>\n",
       "      <th></th>\n",
       "      <th></th>\n",
       "      <th></th>\n",
       "      <th></th>\n",
       "    </tr>\n",
       "  </thead>\n",
       "  <tbody>\n",
       "    <tr>\n",
       "      <th>小明</th>\n",
       "      <td>82</td>\n",
       "      <td>83.1</td>\n",
       "      <td>87</td>\n",
       "      <td>73.8</td>\n",
       "      <td>92.4</td>\n",
       "      <td>80.1</td>\n",
       "      <td>76.5</td>\n",
       "    </tr>\n",
       "    <tr>\n",
       "      <th>小李</th>\n",
       "      <td>77</td>\n",
       "      <td>90.0</td>\n",
       "      <td>82</td>\n",
       "      <td>69.3</td>\n",
       "      <td>88.9</td>\n",
       "      <td>87.0</td>\n",
       "      <td>82.0</td>\n",
       "    </tr>\n",
       "    <tr>\n",
       "      <th>小张</th>\n",
       "      <td>57</td>\n",
       "      <td>84.4</td>\n",
       "      <td>62</td>\n",
       "      <td>51.3</td>\n",
       "      <td>74.9</td>\n",
       "      <td>81.4</td>\n",
       "      <td>77.5</td>\n",
       "    </tr>\n",
       "    <tr>\n",
       "      <th>小王</th>\n",
       "      <td>53</td>\n",
       "      <td>84.0</td>\n",
       "      <td>58</td>\n",
       "      <td>47.7</td>\n",
       "      <td>72.1</td>\n",
       "      <td>81.0</td>\n",
       "      <td>77.2</td>\n",
       "    </tr>\n",
       "    <tr>\n",
       "      <th>小陈</th>\n",
       "      <td>83</td>\n",
       "      <td>89.7</td>\n",
       "      <td>88</td>\n",
       "      <td>74.7</td>\n",
       "      <td>93.1</td>\n",
       "      <td>86.7</td>\n",
       "      <td>81.7</td>\n",
       "    </tr>\n",
       "  </tbody>\n",
       "</table>\n",
       "</div>"
      ],
      "text/plain": [
       "    语文    数学  英语    政治    历史    物理    化学\n",
       "姓名                                      \n",
       "小明  82  83.1  87  73.8  92.4  80.1  76.5\n",
       "小李  77  90.0  82  69.3  88.9  87.0  82.0\n",
       "小张  57  84.4  62  51.3  74.9  81.4  77.5\n",
       "小王  53  84.0  58  47.7  72.1  81.0  77.2\n",
       "小陈  83  89.7  88  74.7  93.1  86.7  81.7"
      ]
     },
     "execution_count": 8,
     "metadata": {},
     "output_type": "execute_result"
    }
   ],
   "source": [
    "data = pd.read_excel('../../dataset/factor_analysis_dataset/student_score.xlsx')\n",
    "score_data = data.copy()\n",
    "score_data = score_data.set_index('姓名')\n",
    "print('原始数据:\\n')\n",
    "score_data.head()"
   ]
  },
  {
   "cell_type": "code",
   "execution_count": 18,
   "metadata": {},
   "outputs": [
    {
     "data": {
      "text/plain": [
       "BartlettResult(statistic=1.8565631968139748e-05, pvalue=0.9999999999999999)"
      ]
     },
     "execution_count": 18,
     "metadata": {},
     "output_type": "execute_result"
    }
   ],
   "source": [
    "# 根据相关系数判断是否可进行因子分析\n",
    "score_corr = score_data.corr()\n",
    "score_corr\n",
    "bartlett(*list(score_corr.to_numpy()))"
   ]
  },
  {
   "cell_type": "code",
   "execution_count": null,
   "metadata": {},
   "outputs": [],
   "source": []
  },
  {
   "cell_type": "code",
   "execution_count": null,
   "metadata": {},
   "outputs": [],
   "source": []
  }
 ],
 "metadata": {
  "kernelspec": {
   "display_name": "Python 3",
   "language": "python",
   "name": "python3"
  },
  "language_info": {
   "codemirror_mode": {
    "name": "ipython",
    "version": 3
   },
   "file_extension": ".py",
   "mimetype": "text/x-python",
   "name": "python",
   "nbconvert_exporter": "python",
   "pygments_lexer": "ipython3",
   "version": "3.8.3"
  }
 },
 "nbformat": 4,
 "nbformat_minor": 4
}
