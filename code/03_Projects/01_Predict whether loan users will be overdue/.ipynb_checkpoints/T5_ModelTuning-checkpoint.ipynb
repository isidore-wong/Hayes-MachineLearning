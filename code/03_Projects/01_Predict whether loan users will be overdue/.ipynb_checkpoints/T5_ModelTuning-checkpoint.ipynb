{
 "cells": [
  {
   "cell_type": "markdown",
   "metadata": {},
   "source": [
    "### 模型调优\n",
    "使用网格搜索法对模型进行调优(调参时采用五折交叉验证的方式)，并进行模型评估"
   ]
  },
  {
   "cell_type": "code",
   "execution_count": 1,
   "metadata": {},
   "outputs": [],
   "source": [
    "import pandas as pd \n",
    "from sklearn.model_selection import train_test_split\n",
    "\n",
    "from sklearn.preprocessing import StandardScaler\n",
    "from sklearn.linear_model import LogisticRegression\n",
    "from sklearn.svm import LinearSVC\n",
    "from sklearn.tree import DecisionTreeClassifier\n",
    "from sklearn.ensemble import BaggingClassifier, RandomForestClassifier, AdaBoostClassifier, GradientBoostingClassifier\n",
    "from sklearn.metrics import classification_report\n",
    "import xgboost as xgb\n",
    "import lightgbm as lgb\n",
    "import pandas as pd"
   ]
  },
  {
   "cell_type": "code",
   "execution_count": 2,
   "metadata": {},
   "outputs": [],
   "source": [
    "df = pd.read_csv('../../dataset/LoanUsersData/data.csv', encoding='gbk')\n",
    "\n",
    "# 数据处理\n",
    "# 删除无关特征\n",
    "df.drop(['Unnamed: 0', 'trade_no', 'bank_card_no', 'source', 'id_name'], inplace=True, axis=1)\n",
    "\n",
    "# 数据类型转换\n",
    "df['reg_preference_for_trad'].fillna('其他城市', inplace=True)\n",
    "df['reg_preference_for_trad'].replace({\n",
    "    '一线城市': 1,\n",
    "    '二线城市': 2,\n",
    "    '三线城市': 3,\n",
    "    '境外': 4,\n",
    "    '其他城市': 5\n",
    "}, inplace=True)\n",
    "\n",
    "# 处理日期类型数据\n",
    "df.drop(['latest_query_time', 'loans_latest_time'], inplace=True, axis=1)\n",
    "\n",
    "# 缺失值处理\n",
    "df['student_feature'].fillna(0, inplace=True)\n",
    "for i in df.columns:\n",
    "    df[i].fillna(df[i].mode()[0], inplace=True)    # 用众数填充其他属性的缺失值"
   ]
  },
  {
   "cell_type": "markdown",
   "metadata": {},
   "source": [
    "#### 评估方法一：切分数据集"
   ]
  },
  {
   "cell_type": "code",
   "execution_count": 3,
   "metadata": {},
   "outputs": [],
   "source": [
    "# 切分数据集\n",
    "y=df['status']\n",
    "x=df.drop('status',axis=1)\n",
    "x_train,x_test,y_train,y_test =train_test_split(x,y,test_size=0.3,random_state = 2018)   \n",
    "\n",
    "features = x_train.columns \n",
    "scaler = StandardScaler()\n",
    "x_train = scaler.fit_transform(x_train)\n",
    "x_test = scaler.fit_transform(x_test)"
   ]
  },
  {
   "cell_type": "code",
   "execution_count": 4,
   "metadata": {},
   "outputs": [
    {
     "name": "stdout",
     "output_type": "stream",
     "text": [
      "              precision    recall  f1-score   support\n",
      "\n",
      "           0    0.78891   0.95880   0.86560      1068\n",
      "           1    0.65891   0.23677   0.34836       359\n",
      "\n",
      "    accuracy                        0.77715      1427\n",
      "   macro avg    0.72391   0.59779   0.60698      1427\n",
      "weighted avg    0.75620   0.77715   0.73547      1427\n",
      "\n"
     ]
    }
   ],
   "source": [
    "# 随机森林\n",
    "clf_rf = RandomForestClassifier()\n",
    "clf_rf.fit(x_train, y_train)\n",
    "rf_y_pred = clf_rf.predict(x_test)\n",
    "\n",
    "# 评估\n",
    "ans = classification_report(y_test, rf_y_pred, digits=5)\n",
    "print(ans)"
   ]
  },
  {
   "cell_type": "markdown",
   "metadata": {},
   "source": [
    "#### 交叉验证"
   ]
  },
  {
   "cell_type": "code",
   "execution_count": 5,
   "metadata": {},
   "outputs": [
    {
     "name": "stdout",
     "output_type": "stream",
     "text": [
      "[0.79705573 0.78969506 0.78338591 0.79915878 0.79789474] 0.7934380430571697\n",
      "              precision    recall  f1-score   support\n",
      "\n",
      "           0    0.80070   0.96462   0.87505      3561\n",
      "           1    0.72845   0.28332   0.40797      1193\n",
      "\n",
      "    accuracy                        0.79365      4754\n",
      "   macro avg    0.76457   0.62397   0.64151      4754\n",
      "weighted avg    0.78257   0.79365   0.75784      4754\n",
      "\n"
     ]
    }
   ],
   "source": [
    "from sklearn.model_selection import cross_val_predict, cross_val_score\n",
    "\n",
    "model_rf = RandomForestClassifier()\n",
    "score_rf = cross_val_score(model_rf, x, y, cv=5)\n",
    "pred_rf = cross_val_predict(model_rf, x, y, cv=5)\n",
    "print(score_rf, score_rf.mean())\n",
    "ans1 = classification_report(y, pred_rf, digits=5)\n",
    "print(ans1)"
   ]
  },
  {
   "cell_type": "markdown",
   "metadata": {},
   "source": [
    "#### 模型微调--网格搜索"
   ]
  },
  {
   "cell_type": "code",
   "execution_count": 6,
   "metadata": {},
   "outputs": [
    {
     "data": {
      "text/plain": [
       "GridSearchCV(cv=5, error_score=nan,\n",
       "             estimator=RandomForestClassifier(bootstrap=True, ccp_alpha=0.0,\n",
       "                                              class_weight=None,\n",
       "                                              criterion='gini', max_depth=None,\n",
       "                                              max_features='auto',\n",
       "                                              max_leaf_nodes=None,\n",
       "                                              max_samples=None,\n",
       "                                              min_impurity_decrease=0.0,\n",
       "                                              min_impurity_split=None,\n",
       "                                              min_samples_leaf=1,\n",
       "                                              min_samples_split=2,\n",
       "                                              min_weight_fraction_leaf=0.0,\n",
       "                                              n_estimators=100, n_jobs=None,\n",
       "                                              oob_score=False,\n",
       "                                              random_state=None, verbose=0,\n",
       "                                              warm_start=False),\n",
       "             iid='deprecated', n_jobs=None,\n",
       "             param_grid=[{'max_features': [2, 4, 6, 8],\n",
       "                          'n_estimators': [3, 10, 30]},\n",
       "                         {'bootstrap': [False], 'max_features': [2, 3, 4],\n",
       "                          'n_estimators': [3, 10]}],\n",
       "             pre_dispatch='2*n_jobs', refit=True, return_train_score=False,\n",
       "             scoring=None, verbose=0)"
      ]
     },
     "execution_count": 6,
     "metadata": {},
     "output_type": "execute_result"
    }
   ],
   "source": [
    "from sklearn.model_selection import GridSearchCV\n",
    "param_grid = [\n",
    "    {'n_estimators': [3, 10, 30], 'max_features': [2, 4, 6, 8]},\n",
    "{'bootstrap': [False], 'n_estimators': [3, 10], 'max_features': [2, 3, 4]},\n",
    "]\n",
    "rf_model = RandomForestClassifier()\n",
    "grid_search = GridSearchCV(rf_model, param_grid, cv=5)\n",
    "grid_search.fit(x, y)"
   ]
  },
  {
   "cell_type": "code",
   "execution_count": 8,
   "metadata": {},
   "outputs": [
    {
     "name": "stdout",
     "output_type": "stream",
     "text": [
      "最高得分： 0.78607\n",
      "最优参数： n_estimators:30 \t max_features:8 \t bootstrap:True\n"
     ]
    }
   ],
   "source": [
    "# 搜索结果\n",
    "print('最高得分： %.5f' % grid_search.best_score_)\n",
    "print('最优参数： n_estimators:{} \\t max_features:{} \\t bootstrap:{}'.format(grid_search.best_estimator_.n_estimators, \\\n",
    "                                                                 grid_search.best_estimator_.max_features, grid_search.best_estimator_.bootstrap))"
   ]
  },
  {
   "cell_type": "code",
   "execution_count": null,
   "metadata": {},
   "outputs": [],
   "source": []
  }
 ],
 "metadata": {
  "kernelspec": {
   "display_name": "Python 3",
   "language": "python",
   "name": "python3"
  },
  "language_info": {
   "codemirror_mode": {
    "name": "ipython",
    "version": 3
   },
   "file_extension": ".py",
   "mimetype": "text/x-python",
   "name": "python",
   "nbconvert_exporter": "python",
   "pygments_lexer": "ipython3",
   "version": "3.7.6"
  }
 },
 "nbformat": 4,
 "nbformat_minor": 4
}
