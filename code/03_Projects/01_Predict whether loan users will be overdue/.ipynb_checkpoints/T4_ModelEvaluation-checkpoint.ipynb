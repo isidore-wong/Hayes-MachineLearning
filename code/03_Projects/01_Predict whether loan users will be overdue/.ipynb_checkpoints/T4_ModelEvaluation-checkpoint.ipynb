{
 "cells": [
  {
   "cell_type": "markdown",
   "metadata": {},
   "source": [
    "### 数据分析与处理"
   ]
  },
  {
   "cell_type": "code",
   "execution_count": 16,
   "metadata": {},
   "outputs": [
    {
     "name": "stdout",
     "output_type": "stream",
     "text": [
      "(3327, 82) (1427, 82) (3327,) (1427,)\n",
      "0    1068\n",
      "1     359\n",
      "Name: status, dtype: int64\n"
     ]
    }
   ],
   "source": [
    "import pandas as pd\n",
    "from sklearn.model_selection import train_test_split\n",
    "\n",
    "df = pd.read_csv('../../dataset/LoanUsersData/data.csv', encoding='gbk')\n",
    "\n",
    "# 数据处理\n",
    "# 删除无关特征\n",
    "df.drop(['Unnamed: 0', 'trade_no', 'bank_card_no', 'source', 'id_name'], inplace=True, axis=1)\n",
    "\n",
    "# 数据类型转换\n",
    "df['reg_preference_for_trad'].fillna('其他城市', inplace=True)\n",
    "df['reg_preference_for_trad'].replace({\n",
    "    '一线城市': 1,\n",
    "    '二线城市': 2,\n",
    "    '三线城市': 3,\n",
    "    '境外': 4,\n",
    "    '其他城市': 5\n",
    "}, inplace=True)\n",
    "\n",
    "# 处理日期类型数据\n",
    "df.drop(['latest_query_time', 'loans_latest_time'], inplace=True, axis=1)\n",
    "\n",
    "# 缺失值处理\n",
    "df['student_feature'].fillna(0, inplace=True)\n",
    "for i in df.columns:\n",
    "    df[i].fillna(df[i].mode()[0], inplace=True)    # 用众数填充其他属性的缺失值\n",
    "\n",
    "#  切分数据集\n",
    "y = df['status']\n",
    "x = df.drop('status', axis=1)\n",
    "x_train, x_test, y_train, y_test = train_test_split(x, y, test_size=0.3, random_state=2018)\n",
    "print(x_train.shape, x_test.shape, y_train.shape, y_test.shape)\n",
    "print(y_test.value_counts())"
   ]
  },
  {
   "cell_type": "markdown",
   "metadata": {},
   "source": [
    "### 建模"
   ]
  },
  {
   "cell_type": "code",
   "execution_count": 17,
   "metadata": {},
   "outputs": [],
   "source": [
    "from sklearn.preprocessing import StandardScaler\n",
    "from sklearn.linear_model import LogisticRegression\n",
    "from sklearn.svm import LinearSVC\n",
    "from sklearn.tree import DecisionTreeClassifier\n",
    "from sklearn.ensemble import RandomForestClassifier, BaggingClassifier,AdaBoostClassifier, GradientBoostingClassifier\n",
    "from sklearn.metrics import classification_report\n",
    "from sklearn.linear_model import Perceptron\n",
    "import xgboost as xgb\n",
    "import lightgbm as lgb\n",
    "from sklearn.naive_bayes import GaussianNB\n",
    "import pandas as pd\n",
    "\n",
    "# 数据标准化处理\n",
    "features = x_train.columns\n",
    "scaler = StandardScaler()\n",
    "x_train = scaler.fit_transform(x_train)\n",
    "x_test = scaler.fit_transform(x_test)"
   ]
  },
  {
   "cell_type": "markdown",
   "metadata": {},
   "source": [
    "### 模型\n",
    "\n",
    "#### 1.基本的分类器"
   ]
  },
  {
   "cell_type": "code",
   "execution_count": 8,
   "metadata": {},
   "outputs": [],
   "source": [
    "import warnings\n",
    "\n",
    "warnings.filterwarnings('ignore')"
   ]
  },
  {
   "cell_type": "code",
   "execution_count": 6,
   "metadata": {},
   "outputs": [
    {
     "data": {
      "text/plain": [
       "Perceptron(alpha=0.0001, class_weight=None, early_stopping=False, eta0=1.0,\n",
       "           fit_intercept=True, max_iter=50, n_iter_no_change=5, n_jobs=None,\n",
       "           penalty=None, random_state=0, shuffle=True, tol=0.001,\n",
       "           validation_fraction=0.1, verbose=0, warm_start=False)"
      ]
     },
     "execution_count": 6,
     "metadata": {},
     "output_type": "execute_result"
    }
   ],
   "source": [
    "# 感知机\n",
    "clf_pt = Perceptron(max_iter=50)\n",
    "clf_pt.fit(x_train, y_train)"
   ]
  },
  {
   "cell_type": "code",
   "execution_count": 9,
   "metadata": {},
   "outputs": [
    {
     "data": {
      "text/plain": [
       "LogisticRegression(C=1.0, class_weight=None, dual=False, fit_intercept=True,\n",
       "                   intercept_scaling=1, l1_ratio=None, max_iter=100,\n",
       "                   multi_class='auto', n_jobs=None, penalty='l2',\n",
       "                   random_state=None, solver='lbfgs', tol=0.0001, verbose=0,\n",
       "                   warm_start=False)"
      ]
     },
     "execution_count": 9,
     "metadata": {},
     "output_type": "execute_result"
    }
   ],
   "source": [
    "# 逻辑回归\n",
    "clf_lr = LogisticRegression()\n",
    "clf_lr.fit(x_train, y_train)"
   ]
  },
  {
   "cell_type": "code",
   "execution_count": 10,
   "metadata": {},
   "outputs": [
    {
     "data": {
      "text/plain": [
       "LinearSVC(C=1, class_weight=None, dual=True, fit_intercept=True,\n",
       "          intercept_scaling=1, loss='hinge', max_iter=1000, multi_class='ovr',\n",
       "          penalty='l2', random_state=None, tol=0.0001, verbose=0)"
      ]
     },
     "execution_count": 10,
     "metadata": {},
     "output_type": "execute_result"
    }
   ],
   "source": [
    "# SVM\n",
    "clf_svm = LinearSVC(C=1, loss='hinge')\n",
    "clf_svm.fit(x_train, y_train)"
   ]
  },
  {
   "cell_type": "code",
   "execution_count": 12,
   "metadata": {},
   "outputs": [
    {
     "data": {
      "text/plain": [
       "DecisionTreeClassifier(ccp_alpha=0.0, class_weight=None, criterion='gini',\n",
       "                       max_depth=None, max_features=None, max_leaf_nodes=None,\n",
       "                       min_impurity_decrease=0.0, min_impurity_split=None,\n",
       "                       min_samples_leaf=1, min_samples_split=2,\n",
       "                       min_weight_fraction_leaf=0.0, presort='deprecated',\n",
       "                       random_state=None, splitter='best')"
      ]
     },
     "execution_count": 12,
     "metadata": {},
     "output_type": "execute_result"
    }
   ],
   "source": [
    "# decision tree\n",
    "clf_dt = DecisionTreeClassifier()\n",
    "clf_dt.fit(x_train, y_train)"
   ]
  },
  {
   "cell_type": "code",
   "execution_count": 13,
   "metadata": {},
   "outputs": [
    {
     "data": {
      "text/plain": [
       "GaussianNB(priors=None, var_smoothing=1e-09)"
      ]
     },
     "execution_count": 13,
     "metadata": {},
     "output_type": "execute_result"
    }
   ],
   "source": [
    "# GaussianNB\n",
    "clf_gnb = GaussianNB()\n",
    "clf_gnb.fit(x_train, y_train)"
   ]
  },
  {
   "cell_type": "markdown",
   "metadata": {},
   "source": [
    "#### 2.基于sklearn的集成学习"
   ]
  },
  {
   "cell_type": "code",
   "execution_count": 14,
   "metadata": {},
   "outputs": [
    {
     "data": {
      "text/plain": [
       "RandomForestClassifier(bootstrap=True, ccp_alpha=0.0, class_weight=None,\n",
       "                       criterion='gini', max_depth=None, max_features='auto',\n",
       "                       max_leaf_nodes=None, max_samples=None,\n",
       "                       min_impurity_decrease=0.0, min_impurity_split=None,\n",
       "                       min_samples_leaf=1, min_samples_split=2,\n",
       "                       min_weight_fraction_leaf=0.0, n_estimators=100,\n",
       "                       n_jobs=-1, oob_score=False, random_state=2018, verbose=0,\n",
       "                       warm_start=False)"
      ]
     },
     "execution_count": 14,
     "metadata": {},
     "output_type": "execute_result"
    }
   ],
   "source": [
    "# 随机森林\n",
    "clf_rf = RandomForestClassifier(random_state=2018, n_jobs=-1)\n",
    "clf_rf.fit(x_train, y_train)"
   ]
  },
  {
   "cell_type": "code",
   "execution_count": 19,
   "metadata": {},
   "outputs": [
    {
     "data": {
      "text/plain": [
       "GradientBoostingClassifier(ccp_alpha=0.0, criterion='friedman_mse', init=None,\n",
       "                           learning_rate=0.1, loss='deviance', max_depth=3,\n",
       "                           max_features=None, max_leaf_nodes=None,\n",
       "                           min_impurity_decrease=0.0, min_impurity_split=None,\n",
       "                           min_samples_leaf=1, min_samples_split=2,\n",
       "                           min_weight_fraction_leaf=0.0, n_estimators=100,\n",
       "                           n_iter_no_change=None, presort='deprecated',\n",
       "                           random_state=None, subsample=1.0, tol=0.0001,\n",
       "                           validation_fraction=0.1, verbose=0,\n",
       "                           warm_start=False)"
      ]
     },
     "execution_count": 19,
     "metadata": {},
     "output_type": "execute_result"
    }
   ],
   "source": [
    "# GBDT\n",
    "clf_gbdt = GradientBoostingClassifier()\n",
    "clf_gbdt.fit(x_train, y_train)"
   ]
  },
  {
   "cell_type": "code",
   "execution_count": 20,
   "metadata": {},
   "outputs": [
    {
     "name": "stderr",
     "output_type": "stream",
     "text": [
      "[Parallel(n_jobs=1)]: Using backend SequentialBackend with 1 concurrent workers.\n",
      "[Parallel(n_jobs=1)]: Done   1 out of   1 | elapsed:   25.0s finished\n"
     ]
    },
    {
     "data": {
      "text/plain": [
       "BaggingClassifier(base_estimator=LinearSVC(C=1.0, class_weight=None, dual=True,\n",
       "                                           fit_intercept=True,\n",
       "                                           intercept_scaling=1,\n",
       "                                           loss='squared_hinge', max_iter=1000,\n",
       "                                           multi_class='ovr', penalty='l2',\n",
       "                                           random_state=None, tol=0.0001,\n",
       "                                           verbose=0),\n",
       "                  bootstrap=True, bootstrap_features=False, max_features=1.0,\n",
       "                  max_samples=1.0, n_estimators=60, n_jobs=1, oob_score=False,\n",
       "                  random_state=2018, verbose=1, warm_start=False)"
      ]
     },
     "execution_count": 20,
     "metadata": {},
     "output_type": "execute_result"
    }
   ],
   "source": [
    "# Bagging\n",
    "clf_bg = BaggingClassifier(base_estimator=LinearSVC(), n_estimators=60, max_samples=1.0, max_features=1.0, random_state=2018,\n",
    "                          n_jobs=1, verbose=1)\n",
    "clf_bg.fit(x_train, y_train)"
   ]
  },
  {
   "cell_type": "code",
   "execution_count": 21,
   "metadata": {},
   "outputs": [
    {
     "data": {
      "text/plain": [
       "AdaBoostClassifier(algorithm='SAMME',\n",
       "                   base_estimator=LinearSVC(C=1.0, class_weight=None, dual=True,\n",
       "                                            fit_intercept=True,\n",
       "                                            intercept_scaling=1,\n",
       "                                            loss='squared_hinge', max_iter=1000,\n",
       "                                            multi_class='ovr', penalty='l2',\n",
       "                                            random_state=None, tol=0.0001,\n",
       "                                            verbose=0),\n",
       "                   learning_rate=1.0, n_estimators=50, random_state=None)"
      ]
     },
     "execution_count": 21,
     "metadata": {},
     "output_type": "execute_result"
    }
   ],
   "source": [
    "# Adaboost\n",
    "clf_ab = AdaBoostClassifier(base_estimator=LinearSVC(), n_estimators=50, algorithm='SAMME')\n",
    "clf_ab.fit(x_train, y_train)"
   ]
  },
  {
   "cell_type": "markdown",
   "metadata": {},
   "source": [
    "#### 3. 大杀器"
   ]
  },
  {
   "cell_type": "code",
   "execution_count": 22,
   "metadata": {},
   "outputs": [
    {
     "data": {
      "text/plain": [
       "XGBClassifier(base_score=0.5, booster='gbtree', colsample_bylevel=1,\n",
       "              colsample_bynode=1, colsample_bytree=1, gamma=0.1,\n",
       "              learning_rate=0.1, max_delta_step=0, max_depth=6,\n",
       "              min_child_weight=3, missing=None, n_estimators=100, n_jobs=1,\n",
       "              nthread=32, num_class=2, objective='multi:softmax',\n",
       "              random_state=0, reg_alpha=0, reg_lambda=1, scale_pos_weight=1,\n",
       "              seed=1000, silent=True, subsample=1, verbosity=1)"
      ]
     },
     "execution_count": 22,
     "metadata": {},
     "output_type": "execute_result"
    }
   ],
   "source": [
    "# xgboost\n",
    "clf_xgb = xgb.XGBClassifier(max_depth=6, num_class =2,learning_rate=0.1, n_estimators=100, silent=True, objective='multi:softmax',\n",
    "                        nthread=32, gamma=0.1, min_child_weight=3, max_delta_step=0, subsample=1, colsample_bytree=1,\n",
    "                        colsample_bylevel=1, reg_alpha=0, reg_lambda=1, scale_pos_weight=1, base_score=0.5, seed=1000,\n",
    "                        missing=None)\n",
    "clf_xgb.fit(x_train, y_train)"
   ]
  },
  {
   "cell_type": "code",
   "execution_count": 23,
   "metadata": {},
   "outputs": [
    {
     "data": {
      "text/plain": [
       "LGBMClassifier(boosting_type='gbdt', class_weight=None, colsample_bytree=1.0,\n",
       "               importance_type='split', learning_rate=0.1, max_bin=255,\n",
       "               max_depth=-1, min_child_samples=20, min_child_weight=0.001,\n",
       "               min_split_gain=0.0, n_estimators=250, n_jobs=-1, num_leaves=31,\n",
       "               objective=None, random_state=None, reg_alpha=0.0, reg_lambda=0.5,\n",
       "               silent=True, subsample=1.0, subsample_for_bin=200000,\n",
       "               subsample_freq=1)"
      ]
     },
     "execution_count": 23,
     "metadata": {},
     "output_type": "execute_result"
    }
   ],
   "source": [
    "# lgbm\n",
    "clf_lgbm = lgb.LGBMClassifier(boosting_type='gbdt', num_leaves=31,  max_depth=-1, learning_rate=0.1, n_estimators=250,\n",
    "                              max_bin=255, subsample_for_bin=200000, objective=None, min_split_gain=0.0, min_child_weight=0.001,\n",
    "                              min_child_samples=20, subsample=1.0, subsample_freq=1, colsample_bytree=1.0, reg_alpha=0.0,\n",
    "                              reg_lambda=0.5, random_state=None, n_jobs=-1, silent=True)\n",
    "clf_lgbm.fit(x_train, y_train)"
   ]
  },
  {
   "cell_type": "code",
   "execution_count": 24,
   "metadata": {
    "scrolled": true
   },
   "outputs": [
    {
     "name": "stderr",
     "output_type": "stream",
     "text": [
      "[Parallel(n_jobs=1)]: Using backend SequentialBackend with 1 concurrent workers.\n",
      "[Parallel(n_jobs=1)]: Done   1 out of   1 | elapsed:    0.1s finished\n",
      "[Parallel(n_jobs=1)]: Using backend SequentialBackend with 1 concurrent workers.\n",
      "[Parallel(n_jobs=1)]: Done   1 out of   1 | elapsed:    0.0s finished\n"
     ]
    }
   ],
   "source": [
    "# 对11个模型进行预测\n",
    "#对train\n",
    "y_train_pt = clf_pt.predict(x_train)\n",
    "y_train_lr = clf_lr.predict(x_train)\n",
    "y_train_svm = clf_svm.predict(x_train)\n",
    "y_train_dt = clf_dt.predict(x_train)\n",
    "y_train_gnb = clf_gnb.predict(x_train)\n",
    "\n",
    "y_train_rf = clf_rf.predict(x_train)\n",
    "y_train_gbdt = clf_gbdt.predict(x_train)\n",
    "y_train_bg = clf_bg.predict(x_train)\n",
    "y_train_ab = clf_ab.predict(x_train)\n",
    "\n",
    "y_train_xgb = clf_xgb.predict(x_train)\n",
    "y_train_lgbm = clf_lgbm.predict(x_train)\n",
    "\n",
    "#对test\n",
    "y_test_pt = clf_pt.predict(x_test)\n",
    "y_test_lr = clf_lr.predict(x_test)\n",
    "y_test_svm = clf_svm.predict(x_test)\n",
    "y_test_dt = clf_dt.predict(x_test)\n",
    "y_test_gnb = clf_gnb.predict(x_test)\n",
    "\n",
    "y_test_rf = clf_rf.predict(x_test)\n",
    "y_test_gbdt = clf_gbdt.predict(x_test)\n",
    "y_test_bg = clf_bg.predict(x_test)\n",
    "y_test_ab = clf_ab.predict(x_test)\n",
    "\n",
    "y_test_xgb = clf_xgb.predict(x_test)\n",
    "y_test_lgbm = clf_lgbm.predict(x_test)"
   ]
  },
  {
   "cell_type": "markdown",
   "metadata": {},
   "source": [
    "### 模型评估"
   ]
  },
  {
   "cell_type": "code",
   "execution_count": 27,
   "metadata": {},
   "outputs": [],
   "source": [
    "# 混淆矩阵\n",
    "from sklearn.model_selection import cross_val_predict\n",
    "from sklearn.metrics import confusion_matrix, precision_score, accuracy_score, recall_score, f1_score, roc_auc_score\n",
    "\n",
    "def get_eval(y_train, y_test, y_train_pred, y_test_pred, model_name):\n",
    "    train_dataList = []\n",
    "    test_dataList = []\n",
    "    print('for model {}:'.format(str(model_name)))\n",
    "    train_dataList.append(str(model_name))\n",
    "    test_dataList.append(str(model_name))\n",
    "    train_dataList.append(str('train'))\n",
    "    test_dataList.append(str('test'))\n",
    "    \n",
    "    # 混淆矩阵\n",
    "    obj1 = confusion_matrix(y_train, y_train_pred)\n",
    "    print('train_confusion_matrix\\n', obj1)\n",
    "    obj2 = confusion_matrix(y_test, y_test_pred)\n",
    "    print('test_confusion_matrix\\n', obj2)\n",
    "    \n",
    "    # print('accuracy:\\n')\n",
    "    # print('train:{}\\n test:{}\\n'.format(accuracy_score(y_train, y_train_pred), accuracy_score(y_test,y_test_pred)))\n",
    "    train_dataList.append(accuracy_score(y_train,y_train_pred))\n",
    "    test_dataList.append(accuracy_score(y_test,y_test_pred))\n",
    "    \n",
    "    train_dataList.append(precision_score(y_train,y_train_pred))\n",
    "    test_dataList.append(precision_score(y_test,y_test_pred))\n",
    "\n",
    "    train_dataList.append(recall_score(y_train,y_train_pred))\n",
    "    test_dataList.append(recall_score(y_test,y_test_pred))\n",
    "\n",
    "    train_dataList.append(f1_score(y_train,y_train_pred))\n",
    "    test_dataList.append(f1_score(y_test,y_test_pred))\n",
    "\n",
    "    train_dataList.append(roc_auc_score(y_train,y_train_pred))\n",
    "    test_dataList.append(roc_auc_score(y_test,y_test_pred))\n",
    "    \n",
    "    return train_dataList,test_dataList"
   ]
  },
  {
   "cell_type": "code",
   "execution_count": 28,
   "metadata": {},
   "outputs": [
    {
     "name": "stdout",
     "output_type": "stream",
     "text": [
      "for model 感知机:\n",
      "train_confusion_matrix\n",
      " [[2074  419]\n",
      " [ 457  377]]\n",
      "test_confusion_matrix\n",
      " [[848 220]\n",
      " [209 150]]\n",
      "for model 逻辑回归:\n",
      "train_confusion_matrix\n",
      " [[2359  134]\n",
      " [ 516  318]]\n",
      "test_confusion_matrix\n",
      " [[993  75]\n",
      " [236 123]]\n",
      "for model SVM:\n",
      "train_confusion_matrix\n",
      " [[2423   70]\n",
      " [ 577  257]]\n",
      "test_confusion_matrix\n",
      " [[1025   43]\n",
      " [ 273   86]]\n",
      "for model 决策树:\n",
      "train_confusion_matrix\n",
      " [[2493    0]\n",
      " [   0  834]]\n",
      "test_confusion_matrix\n",
      " [[843 225]\n",
      " [211 148]]\n",
      "for model 高斯朴素贝叶斯:\n",
      "train_confusion_matrix\n",
      " [[1399 1094]\n",
      " [ 197  637]]\n",
      "test_confusion_matrix\n",
      " [[952 116]\n",
      " [263  96]]\n",
      "for model 随机森林:\n",
      "train_confusion_matrix\n",
      " [[2493    0]\n",
      " [   0  834]]\n",
      "test_confusion_matrix\n",
      " [[1012   56]\n",
      " [ 275   84]]\n",
      "for model GBDT:\n",
      "train_confusion_matrix\n",
      " [[2437   56]\n",
      " [ 402  432]]\n",
      "test_confusion_matrix\n",
      " [[1003   65]\n",
      " [ 256  103]]\n",
      "for model Bagging:\n",
      "train_confusion_matrix\n",
      " [[2374  119]\n",
      " [ 537  297]]\n",
      "test_confusion_matrix\n",
      " [[1000   68]\n",
      " [ 237  122]]\n",
      "for model AdaBoosting:\n",
      "train_confusion_matrix\n",
      " [[2362  131]\n",
      " [ 527  307]]\n",
      "test_confusion_matrix\n",
      " [[1004   64]\n",
      " [ 246  113]]\n",
      "for model XGBoosting:\n",
      "train_confusion_matrix\n",
      " [[2492    1]\n",
      " [  57  777]]\n",
      "test_confusion_matrix\n",
      " [[991  77]\n",
      " [260  99]]\n",
      "for model lightGBM:\n",
      "train_confusion_matrix\n",
      " [[2493    0]\n",
      " [   0  834]]\n",
      "test_confusion_matrix\n",
      " [[998  70]\n",
      " [260  99]]\n"
     ]
    }
   ],
   "source": [
    "all_dataList = []\n",
    "index = []\n",
    "a1,a2 = get_eval(y_train,y_test,y_train_pt,y_test_pt,'感知机')\n",
    "b1,b2 = get_eval(y_train,y_test,y_train_lr,y_test_lr,'逻辑回归')\n",
    "c1,c2 = get_eval(y_train,y_test,y_train_svm,y_test_svm,'SVM')\n",
    "d1,d2 = get_eval(y_train,y_test,y_train_dt,y_test_dt,'决策树')\n",
    "e1,e2 = get_eval(y_train,y_test,y_train_gnb,y_test_gnb,'高斯朴素贝叶斯')\n",
    "f1,f2 = get_eval(y_train,y_test,y_train_rf,y_test_rf,'随机森林')\n",
    "g1,g2 = get_eval(y_train,y_test,y_train_gbdt,y_test_gbdt,'GBDT')\n",
    "h1,h2 = get_eval(y_train,y_test,y_train_bg,y_test_bg,'Bagging')\n",
    "i1,i2 = get_eval(y_train,y_test,y_train_ab,y_test_ab,'AdaBoosting')\n",
    "j1,j2 = get_eval(y_train,y_test,y_train_xgb,y_test_xgb,'XGBoosting')\n",
    "k1,k2 = get_eval(y_train,y_test,y_train_lgbm,y_test_lgbm,'lightGBM')\n",
    "\n",
    "all_dataList = [a1, a2, b1, b2, c1, c2, d1, d2, e1, e2, f1, f2, g1, g2, h1, h2, i1, i2, j1, j2, k1, k2]\n",
    "df_all = pd.DataFrame(all_dataList,columns=['model_name','dataset','accuracy','precision','recall','f1_score','AUC'])"
   ]
  },
  {
   "cell_type": "code",
   "execution_count": 29,
   "metadata": {},
   "outputs": [],
   "source": [
    "%matplotlib notebook\n",
    "def plot_roc_curve(fpr, tpr, label=None):\n",
    "    plt.plot(fpr, tpr, linewidth=2, label=label)\n",
    "    plt.plot([0,1], [0,1], 'k--')\n",
    "    plt.axis([0,1,0,1])\n",
    "    plt.xlabel = ('False Positive Rate')\n",
    "    plt.ylabel = ('True Positive Rate')\n",
    "    plt.show()\n",
    "    plt.legend()"
   ]
  },
  {
   "cell_type": "code",
   "execution_count": 30,
   "metadata": {},
   "outputs": [
    {
     "data": {
      "text/html": [
       "<div>\n",
       "<style scoped>\n",
       "    .dataframe tbody tr th:only-of-type {\n",
       "        vertical-align: middle;\n",
       "    }\n",
       "\n",
       "    .dataframe tbody tr th {\n",
       "        vertical-align: top;\n",
       "    }\n",
       "\n",
       "    .dataframe thead th {\n",
       "        text-align: right;\n",
       "    }\n",
       "</style>\n",
       "<table border=\"1\" class=\"dataframe\">\n",
       "  <thead>\n",
       "    <tr style=\"text-align: right;\">\n",
       "      <th></th>\n",
       "      <th>model_name</th>\n",
       "      <th>dataset</th>\n",
       "      <th>accuracy</th>\n",
       "      <th>precision</th>\n",
       "      <th>recall</th>\n",
       "      <th>f1_score</th>\n",
       "      <th>AUC</th>\n",
       "    </tr>\n",
       "  </thead>\n",
       "  <tbody>\n",
       "    <tr>\n",
       "      <th>0</th>\n",
       "      <td>感知机</td>\n",
       "      <td>train</td>\n",
       "      <td>0.736700</td>\n",
       "      <td>0.473618</td>\n",
       "      <td>0.452038</td>\n",
       "      <td>0.462577</td>\n",
       "      <td>0.641984</td>\n",
       "    </tr>\n",
       "    <tr>\n",
       "      <th>1</th>\n",
       "      <td>感知机</td>\n",
       "      <td>test</td>\n",
       "      <td>0.699369</td>\n",
       "      <td>0.405405</td>\n",
       "      <td>0.417827</td>\n",
       "      <td>0.411523</td>\n",
       "      <td>0.605917</td>\n",
       "    </tr>\n",
       "    <tr>\n",
       "      <th>2</th>\n",
       "      <td>逻辑回归</td>\n",
       "      <td>train</td>\n",
       "      <td>0.804629</td>\n",
       "      <td>0.703540</td>\n",
       "      <td>0.381295</td>\n",
       "      <td>0.494557</td>\n",
       "      <td>0.663772</td>\n",
       "    </tr>\n",
       "    <tr>\n",
       "      <th>3</th>\n",
       "      <td>逻辑回归</td>\n",
       "      <td>test</td>\n",
       "      <td>0.782060</td>\n",
       "      <td>0.621212</td>\n",
       "      <td>0.342618</td>\n",
       "      <td>0.441652</td>\n",
       "      <td>0.636197</td>\n",
       "    </tr>\n",
       "    <tr>\n",
       "      <th>4</th>\n",
       "      <td>SVM</td>\n",
       "      <td>train</td>\n",
       "      <td>0.805531</td>\n",
       "      <td>0.785933</td>\n",
       "      <td>0.308153</td>\n",
       "      <td>0.442722</td>\n",
       "      <td>0.640037</td>\n",
       "    </tr>\n",
       "    <tr>\n",
       "      <th>5</th>\n",
       "      <td>SVM</td>\n",
       "      <td>test</td>\n",
       "      <td>0.778556</td>\n",
       "      <td>0.666667</td>\n",
       "      <td>0.239554</td>\n",
       "      <td>0.352459</td>\n",
       "      <td>0.599646</td>\n",
       "    </tr>\n",
       "    <tr>\n",
       "      <th>6</th>\n",
       "      <td>决策树</td>\n",
       "      <td>train</td>\n",
       "      <td>1.000000</td>\n",
       "      <td>1.000000</td>\n",
       "      <td>1.000000</td>\n",
       "      <td>1.000000</td>\n",
       "      <td>1.000000</td>\n",
       "    </tr>\n",
       "    <tr>\n",
       "      <th>7</th>\n",
       "      <td>决策树</td>\n",
       "      <td>test</td>\n",
       "      <td>0.694464</td>\n",
       "      <td>0.396783</td>\n",
       "      <td>0.412256</td>\n",
       "      <td>0.404372</td>\n",
       "      <td>0.600791</td>\n",
       "    </tr>\n",
       "    <tr>\n",
       "      <th>8</th>\n",
       "      <td>高斯朴素贝叶斯</td>\n",
       "      <td>train</td>\n",
       "      <td>0.611963</td>\n",
       "      <td>0.367995</td>\n",
       "      <td>0.763789</td>\n",
       "      <td>0.496686</td>\n",
       "      <td>0.662480</td>\n",
       "    </tr>\n",
       "    <tr>\n",
       "      <th>9</th>\n",
       "      <td>高斯朴素贝叶斯</td>\n",
       "      <td>test</td>\n",
       "      <td>0.734408</td>\n",
       "      <td>0.452830</td>\n",
       "      <td>0.267409</td>\n",
       "      <td>0.336252</td>\n",
       "      <td>0.579398</td>\n",
       "    </tr>\n",
       "    <tr>\n",
       "      <th>10</th>\n",
       "      <td>随机森林</td>\n",
       "      <td>train</td>\n",
       "      <td>1.000000</td>\n",
       "      <td>1.000000</td>\n",
       "      <td>1.000000</td>\n",
       "      <td>1.000000</td>\n",
       "      <td>1.000000</td>\n",
       "    </tr>\n",
       "    <tr>\n",
       "      <th>11</th>\n",
       "      <td>随机森林</td>\n",
       "      <td>test</td>\n",
       "      <td>0.768045</td>\n",
       "      <td>0.600000</td>\n",
       "      <td>0.233983</td>\n",
       "      <td>0.336673</td>\n",
       "      <td>0.590774</td>\n",
       "    </tr>\n",
       "    <tr>\n",
       "      <th>12</th>\n",
       "      <td>GBDT</td>\n",
       "      <td>train</td>\n",
       "      <td>0.862338</td>\n",
       "      <td>0.885246</td>\n",
       "      <td>0.517986</td>\n",
       "      <td>0.653555</td>\n",
       "      <td>0.747761</td>\n",
       "    </tr>\n",
       "    <tr>\n",
       "      <th>13</th>\n",
       "      <td>GBDT</td>\n",
       "      <td>test</td>\n",
       "      <td>0.775053</td>\n",
       "      <td>0.613095</td>\n",
       "      <td>0.286908</td>\n",
       "      <td>0.390892</td>\n",
       "      <td>0.613023</td>\n",
       "    </tr>\n",
       "    <tr>\n",
       "      <th>14</th>\n",
       "      <td>Bagging</td>\n",
       "      <td>train</td>\n",
       "      <td>0.802825</td>\n",
       "      <td>0.713942</td>\n",
       "      <td>0.356115</td>\n",
       "      <td>0.475200</td>\n",
       "      <td>0.654191</td>\n",
       "    </tr>\n",
       "    <tr>\n",
       "      <th>15</th>\n",
       "      <td>Bagging</td>\n",
       "      <td>test</td>\n",
       "      <td>0.786265</td>\n",
       "      <td>0.642105</td>\n",
       "      <td>0.339833</td>\n",
       "      <td>0.444444</td>\n",
       "      <td>0.638081</td>\n",
       "    </tr>\n",
       "    <tr>\n",
       "      <th>16</th>\n",
       "      <td>AdaBoosting</td>\n",
       "      <td>train</td>\n",
       "      <td>0.802224</td>\n",
       "      <td>0.700913</td>\n",
       "      <td>0.368106</td>\n",
       "      <td>0.482704</td>\n",
       "      <td>0.657779</td>\n",
       "    </tr>\n",
       "    <tr>\n",
       "      <th>17</th>\n",
       "      <td>AdaBoosting</td>\n",
       "      <td>test</td>\n",
       "      <td>0.782761</td>\n",
       "      <td>0.638418</td>\n",
       "      <td>0.314763</td>\n",
       "      <td>0.421642</td>\n",
       "      <td>0.627419</td>\n",
       "    </tr>\n",
       "    <tr>\n",
       "      <th>18</th>\n",
       "      <td>XGBoosting</td>\n",
       "      <td>train</td>\n",
       "      <td>0.982567</td>\n",
       "      <td>0.998715</td>\n",
       "      <td>0.931655</td>\n",
       "      <td>0.964020</td>\n",
       "      <td>0.965627</td>\n",
       "    </tr>\n",
       "    <tr>\n",
       "      <th>19</th>\n",
       "      <td>XGBoosting</td>\n",
       "      <td>test</td>\n",
       "      <td>0.763840</td>\n",
       "      <td>0.562500</td>\n",
       "      <td>0.275766</td>\n",
       "      <td>0.370093</td>\n",
       "      <td>0.601834</td>\n",
       "    </tr>\n",
       "    <tr>\n",
       "      <th>20</th>\n",
       "      <td>lightGBM</td>\n",
       "      <td>train</td>\n",
       "      <td>1.000000</td>\n",
       "      <td>1.000000</td>\n",
       "      <td>1.000000</td>\n",
       "      <td>1.000000</td>\n",
       "      <td>1.000000</td>\n",
       "    </tr>\n",
       "    <tr>\n",
       "      <th>21</th>\n",
       "      <td>lightGBM</td>\n",
       "      <td>test</td>\n",
       "      <td>0.768746</td>\n",
       "      <td>0.585799</td>\n",
       "      <td>0.275766</td>\n",
       "      <td>0.375000</td>\n",
       "      <td>0.605111</td>\n",
       "    </tr>\n",
       "  </tbody>\n",
       "</table>\n",
       "</div>"
      ],
      "text/plain": [
       "     model_name dataset  accuracy  precision    recall  f1_score       AUC\n",
       "0           感知机   train  0.736700   0.473618  0.452038  0.462577  0.641984\n",
       "1           感知机    test  0.699369   0.405405  0.417827  0.411523  0.605917\n",
       "2          逻辑回归   train  0.804629   0.703540  0.381295  0.494557  0.663772\n",
       "3          逻辑回归    test  0.782060   0.621212  0.342618  0.441652  0.636197\n",
       "4           SVM   train  0.805531   0.785933  0.308153  0.442722  0.640037\n",
       "5           SVM    test  0.778556   0.666667  0.239554  0.352459  0.599646\n",
       "6           决策树   train  1.000000   1.000000  1.000000  1.000000  1.000000\n",
       "7           决策树    test  0.694464   0.396783  0.412256  0.404372  0.600791\n",
       "8       高斯朴素贝叶斯   train  0.611963   0.367995  0.763789  0.496686  0.662480\n",
       "9       高斯朴素贝叶斯    test  0.734408   0.452830  0.267409  0.336252  0.579398\n",
       "10         随机森林   train  1.000000   1.000000  1.000000  1.000000  1.000000\n",
       "11         随机森林    test  0.768045   0.600000  0.233983  0.336673  0.590774\n",
       "12         GBDT   train  0.862338   0.885246  0.517986  0.653555  0.747761\n",
       "13         GBDT    test  0.775053   0.613095  0.286908  0.390892  0.613023\n",
       "14      Bagging   train  0.802825   0.713942  0.356115  0.475200  0.654191\n",
       "15      Bagging    test  0.786265   0.642105  0.339833  0.444444  0.638081\n",
       "16  AdaBoosting   train  0.802224   0.700913  0.368106  0.482704  0.657779\n",
       "17  AdaBoosting    test  0.782761   0.638418  0.314763  0.421642  0.627419\n",
       "18   XGBoosting   train  0.982567   0.998715  0.931655  0.964020  0.965627\n",
       "19   XGBoosting    test  0.763840   0.562500  0.275766  0.370093  0.601834\n",
       "20     lightGBM   train  1.000000   1.000000  1.000000  1.000000  1.000000\n",
       "21     lightGBM    test  0.768746   0.585799  0.275766  0.375000  0.605111"
      ]
     },
     "execution_count": 30,
     "metadata": {},
     "output_type": "execute_result"
    }
   ],
   "source": [
    "# 同时看train和test可以知道有没有过拟合\n",
    "df_all"
   ]
  },
  {
   "cell_type": "code",
   "execution_count": 32,
   "metadata": {},
   "outputs": [],
   "source": [
    "# 画ROC曲线\n",
    "from sklearn.metrics import roc_curve\n",
    "import matplotlib.pyplot as plt\n",
    "%matplotlib inline\n",
    "\n",
    "def draw_roc(y_true, y_pred, label=None):\n",
    "    fpr, tpr, thresholds = roc_curve(y_true, y_pred)\n",
    "    plt.plot(fpr, tpr, linewidth=2, label=label)\n",
    "    plt.plot([0,1], [0,1], 'k--')\n",
    "    plt.axis([0,1,0,1])\n",
    "    plt.xlabel = ('False Positive Rate')\n",
    "    plt.ylabel = ('True Positive Rate')"
   ]
  },
  {
   "cell_type": "code",
   "execution_count": 33,
   "metadata": {},
   "outputs": [
    {
     "data": {
      "image/png": "[encoded data removed]",
      "text/plain": [
       "<Figure size 432x288 with 1 Axes>"
      ]
     },
     "metadata": {
      "needs_background": "light"
     },
     "output_type": "display_data"
    },
    {
     "data": {
      "image/png": "[encoded data removed]",
      "text/plain": [
       "<Figure size 432x288 with 1 Axes>"
      ]
     },
     "metadata": {
      "needs_background": "light"
     },
     "output_type": "display_data"
    },
    {
     "data": {
      "image/png": "[encoded data removed]",
      "text/plain": [
       "<Figure size 432x288 with 1 Axes>"
      ]
     },
     "metadata": {
      "needs_background": "light"
     },
     "output_type": "display_data"
    },
    {
     "data": {
      "image/png": "[encoded data removed]",
      "text/plain": [
       "<Figure size 432x288 with 1 Axes>"
      ]
     },
     "metadata": {
      "needs_background": "light"
     },
     "output_type": "display_data"
    },
    {
     "data": {
      "image/png": "[encoded data removed]",
      "text/plain": [
       "<Figure size 432x288 with 1 Axes>"
      ]
     },
     "metadata": {
      "needs_background": "light"
     },
     "output_type": "display_data"
    },
    {
     "data": {
      "image/png": "[encoded data removed]",
      "text/plain": [
       "<Figure size 432x288 with 1 Axes>"
      ]
     },
     "metadata": {
      "needs_background": "light"
     },
     "output_type": "display_data"
    },
    {
     "data": {
      "image/png": "[encoded data removed]",
      "text/plain": [
       "<Figure size 432x288 with 1 Axes>"
      ]
     },
     "metadata": {
      "needs_background": "light"
     },
     "output_type": "display_data"
    },
    {
     "data": {
      "image/png": "[encoded data removed]",
      "text/plain": [
       "<Figure size 432x288 with 1 Axes>"
      ]
     },
     "metadata": {
      "needs_background": "light"
     },
     "output_type": "display_data"
    },
    {
     "data": {
      "image/png": "[encoded data removed]",
      "text/plain": [
       "<Figure size 432x288 with 1 Axes>"
      ]
     },
     "metadata": {
      "needs_background": "light"
     },
     "output_type": "display_data"
    },
    {
     "data": {
      "image/png": "[encoded data removed]",
      "text/plain": [
       "<Figure size 432x288 with 1 Axes>"
      ]
     },
     "metadata": {
      "needs_background": "light"
     },
     "output_type": "display_data"
    },
    {
     "data": {
      "image/png": "[encoded data removed]",
      "text/plain": [
       "<Figure size 432x288 with 1 Axes>"
      ]
     },
     "metadata": {
      "needs_background": "light"
     },
     "output_type": "display_data"
    }
   ],
   "source": [
    "draw_roc(y_train,y_train_pt,'pt_train')\n",
    "draw_roc(y_test,y_test_pt,'pt_test')\n",
    "plt.legend()\n",
    "plt.show()\n",
    "\n",
    "draw_roc(y_train,y_train_lr,'lr_train')\n",
    "draw_roc(y_test,y_test_lr,'lr_test')\n",
    "plt.legend()\n",
    "plt.show()\n",
    "\n",
    "draw_roc(y_train,y_train_svm,'svm_train')\n",
    "draw_roc(y_test,y_test_svm,'svm_test')\n",
    "plt.legend()\n",
    "plt.show()\n",
    "\n",
    "draw_roc(y_train,y_train_dt,'dt_train')\n",
    "draw_roc(y_test,y_test_dt,'dt_test')\n",
    "plt.legend()\n",
    "plt.show()\n",
    "\n",
    "draw_roc(y_train,y_train_gnb,'gnb_train')\n",
    "draw_roc(y_test,y_test_gnb,'gnb_test')\n",
    "plt.legend()\n",
    "plt.show()\n",
    "\n",
    "draw_roc(y_train,y_train_rf,'rf_train')\n",
    "draw_roc(y_test,y_test_rf,'rf_test')\n",
    "plt.legend()\n",
    "plt.show()\n",
    "\n",
    "draw_roc(y_train,y_train_gbdt,'gbdt_train')\n",
    "draw_roc(y_test,y_test_gbdt,'gbdt_test')\n",
    "plt.legend()\n",
    "plt.show()\n",
    "\n",
    "draw_roc(y_train,y_train_bg,'bg_train')\n",
    "draw_roc(y_test,y_test_bg,'bg_test')\n",
    "plt.legend()\n",
    "plt.show()\n",
    "\n",
    "draw_roc(y_train,y_train_ab,'ab_train')\n",
    "draw_roc(y_test,y_test_ab,'ab_test')\n",
    "plt.legend()\n",
    "plt.show()\n",
    "\n",
    "draw_roc(y_train,y_train_xgb,'xgb_train')\n",
    "draw_roc(y_test,y_test_xgb,'xgb_test')\n",
    "plt.legend()\n",
    "plt.show()\n",
    "\n",
    "draw_roc(y_train,y_train_lgbm,'lgbm_train')\n",
    "draw_roc(y_test,y_test_lgbm,'lgbm_test')\n",
    "plt.legend()\n",
    "plt.show()"
   ]
  }
 ],
 "metadata": {
  "kernelspec": {
   "display_name": "Python 3",
   "language": "python",
   "name": "python3"
  },
  "language_info": {
   "codemirror_mode": {
    "name": "ipython",
    "version": 3
   },
   "file_extension": ".py",
   "mimetype": "text/x-python",
   "name": "python",
   "nbconvert_exporter": "python",
   "pygments_lexer": "ipython3",
   "version": "3.7.6"
  }
 },
 "nbformat": 4,
 "nbformat_minor": 4
}
