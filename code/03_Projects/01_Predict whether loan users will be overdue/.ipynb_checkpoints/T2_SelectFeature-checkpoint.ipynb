{
 "cells": [
  {
   "cell_type": "markdown",
   "metadata": {},
   "source": [
    "### 特征选择\n",
    "进行特征工程处理，并采用IV值和随机森林等选择特征"
   ]
  },
  {
   "cell_type": "markdown",
   "metadata": {},
   "source": [
    " #### IV值选择特征"
   ]
  },
  {
   "cell_type": "code",
   "execution_count": 20,
   "metadata": {},
   "outputs": [],
   "source": [
    "import numpy as np\n",
    "import pandas as pd\n",
    "import warnings\n",
    "\n",
    "warnings.filterwarnings('ignore')"
   ]
  },
  {
   "cell_type": "code",
   "execution_count": 21,
   "metadata": {},
   "outputs": [],
   "source": [
    "def CalcV(Xvar, Yvar):\n",
    "    N_0 = np.sum(Yvar==0)\n",
    "    N_1 = np.sum(Yvar==1)\n",
    "    N_0_group = np.zeros(np.unique(Xvar).shape)\n",
    "    N_1_group = np.zeros(np.unique(Xvar).shape)\n",
    "    iv = 0\n",
    "    \n",
    "    for i in range(len(np.unique(Xvar))):\n",
    "        N_0_group[i] = Yvar[(Xvar==np.unique(Xvar)[i]) & (Yvar==0)].count()\n",
    "        N_1_group[i] = Yvar[(Xvar==np.unique(Xvar)[i]) & (Yvar==1)].count()\n",
    "    iv = np.sum((N_0_group/N_0 - N_1_group/N_1) * np.log((N_0_group/N_0) / (N_1_group/N_1)))\n",
    "   \n",
    "    \n",
    "    # 处理iv值是极端的情况\n",
    "    if iv >= 1.0:\n",
    "        iv = 1.0\n",
    "    \n",
    "    return iv\n",
    "\n",
    "def caliv_batch(df, Yvar):\n",
    "    iv_list = []\n",
    "    for col in df.columns:\n",
    "        iv = CalcV(df[col], Yvar)\n",
    "        iv_list.append(iv)\n",
    "    names = list(df.columns)\n",
    "    iv_df = pd.DataFrame({'Var': names, 'IV': iv_list}, columns=['Var', 'IV'])\n",
    "    return iv_df, iv_list\n",
    "\n",
    "df_data = pd.read_csv('data_cleaned.csv')\n",
    "im_iv, ivl = caliv_batch(df_data.iloc[:, :-1], df_data.iloc[:, -1])\n",
    "im_iv.to_excel('IV result.xlsx', index=0)"
   ]
  },
  {
   "cell_type": "markdown",
   "metadata": {},
   "source": [
    "#### 随机森林选择特征"
   ]
  },
  {
   "cell_type": "code",
   "execution_count": 22,
   "metadata": {},
   "outputs": [],
   "source": [
    "from sklearn.ensemble import RandomForestClassifier"
   ]
  },
  {
   "cell_type": "code",
   "execution_count": 24,
   "metadata": {},
   "outputs": [
    {
     "name": "stdout",
     "output_type": "stream",
     "text": [
      " 1. custid                         0.051275\n",
      " 2. low_volume_percent             0.045285\n",
      " 3. middle_volume_percent          0.035271\n",
      " 4. take_amount_in_later_12_month_highest 0.029851\n",
      " 5. trans_amount_increase_rate_lately 0.024138\n",
      " 6. trans_activity_month           0.021701\n",
      " 7. trans_activity_day             0.017378\n",
      " 8. transd_mcc                     0.017197\n",
      " 9. trans_days_interval_filter     0.016149\n",
      "10. trans_days_interval            0.015715\n",
      "11. regional_mobility              0.015530\n",
      "12. student_feature                0.015319\n",
      "13. repayment_capability           0.015216\n",
      "14. is_high_user                   0.015036\n",
      "15. number_of_trans_from_2011      0.015015\n",
      "16. first_transaction_time         0.014967\n",
      "17. historical_trans_amount        0.014405\n",
      "18. historical_trans_day           0.014325\n",
      "19. rank_trad_1_month              0.014247\n",
      "20. trans_amount_3_month           0.014062\n",
      "21. avg_consume_less_12_valid_month 0.013939\n",
      "22. abs                            0.013813\n",
      "23. top_trans_count_last_1_month   0.013674\n",
      "24. avg_price_last_12_month        0.013438\n",
      "25. avg_price_top_last_12_valid_month 0.013383\n",
      "26. reg_preference_for_trad        0.012960\n",
      "27. trans_top_time_last_1_month    0.012854\n",
      "28. trans_top_time_last_6_month    0.012488\n",
      "29. consume_top_time_last_1_month  0.012446\n",
      "30. consume_top_time_last_6_month  0.012272\n",
      "31. cross_consume_count_last_1_month 0.012232\n",
      "32. trans_fail_top_count_enum_last_1_month 0.011984\n",
      "33. trans_fail_top_count_enum_last_6_month 0.011981\n",
      "34. trans_fail_top_count_enum_last_12_month 0.011925\n",
      "35. consume_mini_time_last_1_month 0.011606\n",
      "36. max_cumulative_consume_later_1_month 0.011569\n",
      "37. max_consume_count_later_6_month 0.011269\n",
      "38. railway_consume_count_last_12_month 0.011247\n",
      "39. pawns_auctions_trusts_consume_last_1_month 0.011120\n",
      "40. pawns_auctions_trusts_consume_last_6_month 0.010950\n",
      "41. jewelry_consume_count_last_6_month 0.010922\n",
      "42. first_transaction_day          0.010860\n",
      "43. trans_day_last_12_month        0.010828\n",
      "44. apply_score                    0.010771\n",
      "45. apply_credibility              0.010467\n",
      "46. query_org_count                0.010426\n",
      "47. query_finance_count            0.010284\n",
      "48. query_cash_count               0.010272\n",
      "49. query_sum_count                0.009971\n",
      "50. latest_query_time              0.009660\n",
      "51. latest_one_month_apply         0.009591\n",
      "52. latest_three_month_apply       0.009530\n",
      "53. latest_six_month_apply         0.009528\n",
      "54. loans_score                    0.009520\n",
      "55. loans_credibility_behavior     0.009282\n",
      "56. loans_count                    0.008979\n",
      "57. loans_settle_count             0.008928\n",
      "58. loans_overdue_count            0.008869\n",
      "59. loans_org_count_behavior       0.008689\n",
      "60. consfin_org_count_behavior     0.008519\n",
      "61. loans_cash_count               0.008482\n",
      "62. latest_one_month_loan          0.008259\n",
      "63. latest_three_month_loan        0.008133\n",
      "64. latest_six_month_loan          0.008113\n",
      "65. history_suc_fee                0.007647\n",
      "66. history_fail_fee               0.007561\n",
      "67. latest_one_month_suc           0.007338\n",
      "68. latest_one_month_fail          0.007304\n",
      "69. loans_long_time                0.007232\n",
      "70. loans_latest_time              0.007229\n",
      "71. loans_credit_limit             0.007116\n",
      "72. loans_credibility_limit        0.007067\n",
      "73. loans_org_count_current        0.006922\n",
      "74. loans_product_count            0.006658\n",
      "75. loans_max_limit                0.006319\n",
      "76. loans_avg_limit                0.006318\n",
      "77. consfin_credit_limit           0.004595\n",
      "78. consfin_credibility            0.003460\n",
      "79. consfin_org_count_current      0.003366\n",
      "80. consfin_product_count          0.002705\n",
      "81. consfin_max_limit              0.001902\n",
      "82. consfin_avg_limit              0.000669\n",
      "83. latest_query_day               0.000249\n",
      "84. loans_latest_day               0.000226\n"
     ]
    }
   ],
   "source": [
    "X_train, Y_train = df_data.iloc[:, :-1], df_data.iloc[:, -1]\n",
    "feat_labels = X_train.columns\n",
    "forest = RandomForestClassifier(n_estimators=10000, random_state=0, n_jobs=1)\n",
    "forest.fit(X_train, Y_train)\n",
    "importance = forest.feature_importances_\n",
    "imp_result = np.argsort(importance)[::-1]\n",
    "\n",
    "for i in range(X_train.shape[1]):\n",
    "   print(\"%2d. %-*s %f\" % (i+1, 30, feat_labels[i], importance[imp_result[i]]))"
   ]
  },
  {
   "cell_type": "code",
   "execution_count": 29,
   "metadata": {},
   "outputs": [],
   "source": [
    "result_output = pd.DataFrame([feat_labels, importance[imp_result]]).T\n",
    "result_output.columns = ['Var', 'importance']\n",
    "result_output.to_csv('RandomForestResult.csv', index=0)"
   ]
  },
  {
   "cell_type": "code",
   "execution_count": null,
   "metadata": {},
   "outputs": [],
   "source": []
  },
  {
   "cell_type": "code",
   "execution_count": null,
   "metadata": {},
   "outputs": [],
   "source": []
  }
 ],
 "metadata": {
  "kernelspec": {
   "display_name": "Python 3",
   "language": "python",
   "name": "python3"
  },
  "language_info": {
   "codemirror_mode": {
    "name": "ipython",
    "version": 3
   },
   "file_extension": ".py",
   "mimetype": "text/x-python",
   "name": "python",
   "nbconvert_exporter": "python",
   "pygments_lexer": "ipython3",
   "version": "3.7.6"
  }
 },
 "nbformat": 4,
 "nbformat_minor": 4
}
