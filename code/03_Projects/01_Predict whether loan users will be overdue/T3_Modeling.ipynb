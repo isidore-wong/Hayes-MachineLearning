{
 "cells": [
  {
   "cell_type": "markdown",
   "metadata": {},
   "source": [
    "### 建模\n",
    "使用逻辑回归、SVM等建模，并对建模结果进行评估"
   ]
  },
  {
   "cell_type": "code",
   "execution_count": 4,
   "metadata": {},
   "outputs": [],
   "source": [
    "import pandas as pd\n",
    "import warnings\n",
    "from sklearn.preprocessing import scale\n",
    "from sklearn.model_selection import cross_val_score\n",
    "from sklearn.linear_model import LogisticRegression\n",
    "from sklearn.tree import DecisionTreeClassifier\n",
    "from sklearn.svm import SVC\n",
    "from sklearn.ensemble import RandomForestClassifier\n",
    "from sklearn.ensemble import GradientBoostingClassifier\n",
    "from xgboost.sklearn import XGBClassifier\n",
    "import lightgbm as lgb"
   ]
  },
  {
   "cell_type": "code",
   "execution_count": 11,
   "metadata": {},
   "outputs": [
    {
     "name": "stdout",
     "output_type": "stream",
     "text": [
      "lr ***********************\n",
      "准确率: 0.7907023078200233\n",
      "精确率: 0.6597681244053806\n",
      "召回率: 0.3419992264688302\n",
      "F1_score: 0.4502701345606394\n",
      "AUC: 0.7853808761943115\n",
      "tree ***********************\n",
      "准确率: 0.6943574077148709\n",
      "精确率: 0.39828773280249674\n",
      "召回率: 0.4232692240075947\n",
      "F1_score: 0.4102257755448431\n",
      "AUC: 0.604222112200781\n",
      "svm ***********************\n",
      "准确率: 0.7875492833028945\n",
      "精确率: 0.7370820052361344\n",
      "召回率: 0.2380858619598467\n",
      "F1_score: 0.3593066123144071\n",
      "AUC: 0.7674199401633397\n",
      "forest ***********************\n",
      "准确率: 0.7936479052520892\n",
      "精确率: 0.7277588403294589\n",
      "召回率: 0.28418831967933617\n",
      "F1_score: 0.40763908598429166\n",
      "AUC: 0.7728215123178991\n",
      "gbdt ***********************\n",
      "准确率: 0.796383197741989\n",
      "精确率: 0.6770379543158507\n",
      "召回率: 0.3612917970535495\n",
      "F1_score: 0.47057671672373036\n",
      "AUC: 0.7914299470722849\n",
      "xgbc ***********************\n",
      "准确率: 0.7961702363163429\n",
      "精确率: 0.6786619912276542\n",
      "召回率: 0.35710066453359585\n",
      "F1_score: 0.4677177584603506\n",
      "AUC: 0.7907598381586493\n",
      "gbm ***********************\n",
      "准确率: 0.7915415352260778\n",
      "精确率: 0.6407122220759334\n",
      "召回率: 0.387275412256953\n",
      "F1_score: 0.48205810741826616\n",
      "AUC: 0.7825050414564616\n"
     ]
    }
   ],
   "source": [
    "data_raw = pd.read_csv('data_cleaned.csv', encoding='gbk')\n",
    "df_y = data_raw['status']\n",
    "df_X = data_raw.drop(columns=['status'])\n",
    "df_X = scale(df_X, axis=0)    # 将数据转化为标准数据\n",
    "\n",
    "# 建模\n",
    "lr = LogisticRegression(random_state=2018, tol=1e-6)\n",
    "tree = DecisionTreeClassifier(random_state=2018)\n",
    "svm = SVC(probability=True, random_state=2018, tol=1e-6)\n",
    "forest = RandomForestClassifier(n_estimators=100, random_state=2018)\n",
    "gbdt = GradientBoostingClassifier(random_state=2018)  \n",
    "xgbc = XGBClassifier(random_state=2018)\n",
    "gbm = lgb.LGBMClassifier(random_state=2018)\n",
    "\n",
    "def muti_score(model):\n",
    "    warnings.filterwarnings('ignore')\n",
    "    accuracy = cross_val_score(model, df_X, df_y, scoring='accuracy', cv=5)\n",
    "    precision = cross_val_score(model, df_X, df_y, scoring='precision', cv=5)\n",
    "    recall = cross_val_score(model, df_X, df_y, scoring='recall', cv=5)\n",
    "    f1_score = cross_val_score(model, df_X, df_y, scoring='f1', cv=5)\n",
    "    auc=cross_val_score(model, df_X, df_y, scoring='roc_auc', cv=5)\n",
    "    \n",
    "    print(\"准确率:\",accuracy.mean())\n",
    "    print(\"精确率:\",precision.mean())\n",
    "    print(\"召回率:\",recall.mean())\n",
    "    print(\"F1_score:\",f1_score.mean())\n",
    "    print(\"AUC:\",auc.mean())\n",
    "    \n",
    "model_name = [\"lr\", \"tree\", \"svm\", \"forest\", \"gbdt\", \"xgbc\", \"gbm\"]\n",
    "for name in model_name:\n",
    "    model = eval(name)\n",
    "    print(name, \"***********************\")\n",
    "    muti_score(model)"
   ]
  }
 ],
 "metadata": {
  "kernelspec": {
   "display_name": "Python 3",
   "language": "python",
   "name": "python3"
  },
  "language_info": {
   "codemirror_mode": {
    "name": "ipython",
    "version": 3
   },
   "file_extension": ".py",
   "mimetype": "text/x-python",
   "name": "python",
   "nbconvert_exporter": "python",
   "pygments_lexer": "ipython3",
   "version": "3.7.4"
  }
 },
 "nbformat": 4,
 "nbformat_minor": 4
}
