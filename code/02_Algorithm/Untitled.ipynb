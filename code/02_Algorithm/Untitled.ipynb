{
 "cells": [
  {
   "cell_type": "code",
   "execution_count": 5,
   "metadata": {},
   "outputs": [],
   "source": [
    "from math import exp\n",
    "import numpy as np \n",
    "import pandas as pd\n",
    "import matplotlib.pyplot as plt\n",
    "%matplotlib inline\n",
    "\n",
    "from sklearn.datasets import load_iris\n",
    "from sklearn.model_selection import train_test_split"
   ]
  },
  {
   "cell_type": "code",
   "execution_count": 6,
   "metadata": {},
   "outputs": [
    {
     "data": {
      "text/plain": [
       "matrix([[ 1.,  0.,  1.,  2.],\n",
       "        [ 1.,  3.,  4.,  5.],\n",
       "        [ 1.,  6.,  7.,  8.],\n",
       "        [ 1.,  9., 10., 11.],\n",
       "        [ 1., 12., 13., 14.]])"
      ]
     },
     "execution_count": 6,
     "metadata": {},
     "output_type": "execute_result"
    }
   ],
   "source": [
    "x = np.arange(15).reshape(5, 3)\n",
    "data_mat = []\n",
    "for d in x:\n",
    "    data_mat.append([1.0, *d])\n",
    "\n",
    "weights = np.zeros((len(data_mat[0]), 1), dtype=np.float32)\n",
    "\n",
    "np.mat(data_mat)"
   ]
  },
  {
   "cell_type": "code",
   "execution_count": 7,
   "metadata": {
    "scrolled": true
   },
   "outputs": [
    {
     "data": {
      "text/plain": [
       "array([[0.],\n",
       "       [0.],\n",
       "       [0.],\n",
       "       [0.]])"
      ]
     },
     "execution_count": 7,
     "metadata": {},
     "output_type": "execute_result"
    }
   ],
   "source": [
    "np.zeros((4, 1))"
   ]
  },
  {
   "cell_type": "code",
   "execution_count": 8,
   "metadata": {},
   "outputs": [],
   "source": [
    "import numpy as np"
   ]
  },
  {
   "cell_type": "code",
   "execution_count": 9,
   "metadata": {},
   "outputs": [
    {
     "data": {
      "text/plain": [
       "(6, 2)"
      ]
     },
     "execution_count": 9,
     "metadata": {},
     "output_type": "execute_result"
    }
   ],
   "source": [
    "X = np.array([[-1, 1], [-2, -1], [-3, -2], [1, 1], [2, 1], [3, 2]])\n",
    "X.shape"
   ]
  },
  {
   "cell_type": "code",
   "execution_count": 10,
   "metadata": {
    "scrolled": true
   },
   "outputs": [
    {
     "name": "stdout",
     "output_type": "stream",
     "text": [
      "x_samples = 6, x_features = 2\n"
     ]
    }
   ],
   "source": [
    "x_samples, x_features = X.shape\n",
    "print(\"x_samples = {}, x_features = {}\".format(x_samples,x_features))"
   ]
  },
  {
   "cell_type": "code",
   "execution_count": 11,
   "metadata": {
    "scrolled": true
   },
   "outputs": [
    {
     "data": {
      "text/plain": [
       "[(37.70674550364642,\n",
       "  array([-0.08292   +0.j, -0.39108846+0.j, -0.61478874+0.j,  0.19554423+0.j,\n",
       "          0.33477634+0.j,  0.55847663+0.j])),\n",
       " (1.6265878296869234,\n",
       "  array([-0.85359916+0.j,  0.08043698+0.j,  0.34410988+0.j, -0.04021849+0.j,\n",
       "          0.36647184+0.j,  0.10279894+0.j]))]"
      ]
     },
     "execution_count": 11,
     "metadata": {},
     "output_type": "execute_result"
    }
   ],
   "source": [
    "mean = np.array([np.mean(X[:, i]) for i in range(x_features)])\n",
    "norm_x = X - mean\n",
    "k = 1\n",
    "#scatter matrix\n",
    "scatter_matrix = np.dot(norm_x, np.transpose(norm_x))\n",
    "\n",
    "#Calculate the eigenvectors and eigenvalues\n",
    "eig_val, eig_vec = np.linalg.eig(scatter_matrix)\n",
    "eig_pairs = [(np.abs(eig_val[i]), eig_vec[:, i]) for i in range(x_features)]\n",
    "\n",
    "# sort eig_vec based on eig_val from highest to lowest, and select the top k eig_val\n",
    "eig_pairs.sort(reverse = True)\n",
    "eig_pairs"
   ]
  },
  {
   "cell_type": "code",
   "execution_count": null,
   "metadata": {},
   "outputs": [],
   "source": []
  },
  {
   "cell_type": "code",
   "execution_count": null,
   "metadata": {},
   "outputs": [],
   "source": [
    "# 读取zip压缩文件中的数据\n",
    "file = ZipFile('./data_sets/Mnist/mnist_test.zip')\n",
    "fr = file.open('mnist_test.csv')\n",
    "train_data = pd.read_csv(fr, sep=\",\", header=None)\n",
    "train_data.head()"
   ]
  },
  {
   "cell_type": "code",
   "execution_count": null,
   "metadata": {},
   "outputs": [],
   "source": []
  },
  {
   "cell_type": "code",
   "execution_count": null,
   "metadata": {},
   "outputs": [],
   "source": []
  }
 ],
 "metadata": {
  "kernelspec": {
   "display_name": "Python 3",
   "language": "python",
   "name": "python3"
  },
  "language_info": {
   "codemirror_mode": {
    "name": "ipython",
    "version": 3
   },
   "file_extension": ".py",
   "mimetype": "text/x-python",
   "name": "python",
   "nbconvert_exporter": "python",
   "pygments_lexer": "ipython3",
   "version": "3.6.4"
  }
 },
 "nbformat": 4,
 "nbformat_minor": 2
}
