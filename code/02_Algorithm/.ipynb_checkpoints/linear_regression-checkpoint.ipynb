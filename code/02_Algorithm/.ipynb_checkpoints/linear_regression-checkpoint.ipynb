{
 "cells": [
  {
   "cell_type": "markdown",
   "metadata": {},
   "source": [
    "# 梯度下降法及其实现\n",
    "\n",
    "预测函数：$$h_\\theta(x^i) = \\theta_0 + \\theta_1 x_1^i $$\n",
    "\n",
    "损失函数：$$J(\\theta) = \\frac{1}{2m}\\sum_{i=1}^m (h_\\theta(x^i)-y^i )^2$$ \n",
    "\n",
    "将损失函数转化为矩阵形式，方便后续计算：\n",
    "$$J(\\theta) = \\frac{1}{2}{(X\\theta - y)^\\top(X\\theta - y) }$$ \n",
    "\n",
    "求偏导：$$\\nabla J(\\theta) = \\frac{1}{m}{X^\\top(X\\theta - y)}$$"
   ]
  },
  {
   "cell_type": "markdown",
   "metadata": {},
   "source": [
    "对损失函数进行求偏导，以便求出最优的$\\theta$\n",
    "$$\\frac{\\partial J(\\theta)}{\\partial \\theta_y} = - \\frac{1}{m}\\sum_{i=1}^m (y^i -h_\\theta(x^i))x^i_j$$\n",
    "\n",
    "批量梯度下降：$$\\theta^` = \\theta_j + \\frac{1}{m}\\sum_{i=1}^m (y^i -h_\\theta(x^i))x^i_j $$\n",
    "\n",
    "随机梯度下降：$$\\theta^` = \\theta_j + (y^i -h_\\theta(x^i))x^i_j $$\n",
    "\n",
    "小批量梯度下降：$$\\theta^` = \\theta_j - \\alpha \\frac{1}{10}\\sum_{k=i}^{i+9} (h_\\theta(x^k) - y^k )x^k_j $$"
   ]
  },
  {
   "cell_type": "code",
   "execution_count": 6,
   "metadata": {},
   "outputs": [],
   "source": [
    "import numpy as np\n",
    "import matplotlib.pyplot as plt"
   ]
  },
  {
   "cell_type": "code",
   "execution_count": 7,
   "metadata": {},
   "outputs": [],
   "source": [
    "# define the size of points dataset\n",
    "m = 20\n",
    "\n",
    "# the x-coordinate and dummy value(x0, x1) of the points\n",
    "X0 = np.ones((m, 1))\n",
    "X1 = np.arange(1, m+1).reshape(m, 1)\n",
    "X = np.hstack((X0, X1))\n",
    "\n",
    "# the y-coordinate of the points\n",
    "y = np.array([\n",
    "    3, 4, 5, 5, 2, 4, 7, 8, 11, 8, 12,\n",
    "    11, 13, 13, 16, 17, 18, 17, 19, 21\n",
    "]).reshape(m, 1)"
   ]
  },
  {
   "cell_type": "code",
   "execution_count": 10,
   "metadata": {},
   "outputs": [
    {
     "data": {
      "image/png": "[encoded data removed]",
      "text/plain": [
       "<Figure size 432x288 with 1 Axes>"
      ]
     },
     "metadata": {},
     "output_type": "display_data"
    }
   ],
   "source": [
    "# plot the points\n",
    "plt.plot(X1, y, \"o\")\n",
    "plt.show()"
   ]
  },
  {
   "cell_type": "code",
   "execution_count": 18,
   "metadata": {},
   "outputs": [
    {
     "name": "stdout",
     "output_type": "stream",
     "text": [
      "the optimal value of theta: [[0.51583286]\n",
      " [0.96992163]]\n",
      "the value of cost function: 405.98496249324046\n"
     ]
    }
   ],
   "source": [
    "# the learning rate alpha\n",
    "alpha = 0.01\n",
    "\n",
    "# the cost function J definition\n",
    "def cost_funciton(theta, X, y):\n",
    "    diff = np.dot(X, theta) - y\n",
    "    return (1.0/2*m) * np.dot(np.transpose(diff), diff)\n",
    "\n",
    "# the gradient of cost function J definition\n",
    "def gradient_function(theta, X, y):\n",
    "    diff = np.dot(X, theta) - y\n",
    "    return (1./m) * np.dot(np.transpose(X), diff)\n",
    "\n",
    "# perform gradient descent\n",
    "def gradient_descent(X, y, alpha):\n",
    "    theta = np.array([1, 1]).reshape(2, 1)\n",
    "    gradient = gradient_function(theta, X, y)\n",
    "    while not np.all(np.absolute(gradient) <= 1e-5):\n",
    "        theta = theta - alpha * gradient\n",
    "        gradient = gradient_function(theta, X, y)\n",
    "    return theta\n",
    "\n",
    "optimal_theta = gradient_descent(X, y, alpha)\n",
    "\n",
    "print(\"the optimal value of theta:\", optimal_theta)\n",
    "print(\"the value of cost function:\", cost_funciton(optimal_theta, X, y)[0, 0])"
   ]
  },
  {
   "cell_type": "code",
   "execution_count": 19,
   "metadata": {},
   "outputs": [
    {
     "data": {
      "image/png": "[encoded data removed]",
      "text/plain": [
       "<Figure size 432x288 with 2 Axes>"
      ]
     },
     "metadata": {},
     "output_type": "display_data"
    }
   ],
   "source": [
    "predict_y = np.dot(X, optimal_theta)\n",
    "\n",
    "# plot scatter and fitting\n",
    "plt.figure(1)\n",
    "plt.subplot(221)\n",
    "plt.plot(X1, y, \"o\")\n",
    "plt.legend([\"scatter\"], loc='upper left', frameon=False)\n",
    "\n",
    "plt.subplot(222)\n",
    "plt.plot(X1, y, \"bo\",\n",
    "         X1, predict_y, \"r-\")\n",
    "plt.legend([\"fitting\"], loc='upper left', frameon=False)\n",
    "plt.show()"
   ]
  }
 ],
 "metadata": {
  "kernelspec": {
   "display_name": "Python 3",
   "language": "python",
   "name": "python3"
  },
  "language_info": {
   "codemirror_mode": {
    "name": "ipython",
    "version": 3
   },
   "file_extension": ".py",
   "mimetype": "text/x-python",
   "name": "python",
   "nbconvert_exporter": "python",
   "pygments_lexer": "ipython3",
   "version": "3.7.4"
  }
 },
 "nbformat": 4,
 "nbformat_minor": 2
}
