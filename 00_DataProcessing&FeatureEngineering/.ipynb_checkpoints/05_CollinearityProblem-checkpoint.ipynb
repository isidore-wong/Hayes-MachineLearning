{
 "cells": [
  {
   "cell_type": "markdown",
   "metadata": {},
   "source": [
    "### 处理共线性问题"
   ]
  },
  {
   "cell_type": "code",
   "execution_count": 1,
   "metadata": {},
   "outputs": [
    {
     "name": "stderr",
     "output_type": "stream",
     "text": [
      "D:\\Anaconda\\lib\\importlib\\_bootstrap.py:219: RuntimeWarning: numpy.ufunc size changed, may indicate binary incompatibility. Expected 192 from C header, got 216 from PyObject\n",
      "  return f(*args, **kwds)\n",
      "D:\\Anaconda\\lib\\importlib\\_bootstrap.py:219: RuntimeWarning: numpy.ufunc size changed, may indicate binary incompatibility. Expected 192 from C header, got 216 from PyObject\n",
      "  return f(*args, **kwds)\n",
      "D:\\Anaconda\\lib\\importlib\\_bootstrap.py:219: RuntimeWarning: numpy.ufunc size changed, may indicate binary incompatibility. Expected 192 from C header, got 216 from PyObject\n",
      "  return f(*args, **kwds)\n"
     ]
    }
   ],
   "source": [
    "import pandas as pd\n",
    "import numpy as np\n",
    "from sklearn.linear_model import Ridge    # 岭回归\n",
    "from sklearn.decomposition import PCA    # 主成分分析\n",
    "from sklearn.linear_model import LinearRegression    # 线性回归"
   ]
  },
  {
   "cell_type": "code",
   "execution_count": 3,
   "metadata": {},
   "outputs": [
    {
     "data": {
      "text/plain": [
       "(1000, 10)"
      ]
     },
     "execution_count": 3,
     "metadata": {},
     "output_type": "execute_result"
    }
   ],
   "source": [
    "data = np.loadtxt('../dataset/data5.txt', delimiter='\\t')\n",
    "x, y = data[:, :-1], data[:, -1]\n",
    "data.shape"
   ]
  },
  {
   "cell_type": "code",
   "execution_count": 5,
   "metadata": {},
   "outputs": [
    {
     "name": "stdout",
     "output_type": "stream",
     "text": [
      "[ 8.50164360e+01 -1.18330186e-03  9.80792921e-04 -8.54201056e-04\n",
      "  2.10489064e-05  2.20180449e-04 -3.00990875e-06 -9.30084240e-06\n",
      " -2.84498824e-08]\n",
      "-7443.986528680879\n"
     ]
    }
   ],
   "source": [
    "# 采用岭回归进行回归分析\n",
    "model_ridge = Ridge(alpha=1.0)\n",
    "model_ridge.fit(x, y)\n",
    "print(model_ridge.coef_)    # 获取线性回归中自变量的系统\n",
    "print(model_ridge.intercept_)    # 获取线性回归中的截距"
   ]
  },
  {
   "cell_type": "code",
   "execution_count": 7,
   "metadata": {},
   "outputs": [
    {
     "name": "stdout",
     "output_type": "stream",
     "text": [
      "[0.9028     0.98570494 0.99957412 0.99995908 0.99999562 0.99999939\n",
      " 0.99999999 1.         1.        ]\n",
      "[1.26262171e-05]\n",
      "1058.52726\n"
     ]
    }
   ],
   "source": [
    "# 采用主成分回归进行回归分析\n",
    "model_pca = PCA()\n",
    "data_pca = model_pca.fit_transform(x)    # 对x进行主成分分析\n",
    "ratio_cumsum = np.cumsum(model_pca.explained_variance_ratio_)    # 得到所有主成分方差占比的累计数据\n",
    "print(ratio_cumsum)\n",
    "\n",
    "rule_index = np.where(ratio_cumsum > 0.8)    # 获取方差占比超过0.8的所有索引值\n",
    "min_index = rule_index[0][0]    # 获取最小索引值\n",
    "data_pca_result = data_pca[:, :min_index+1]    # 根据最小索引值提取主成分\n",
    "model_linear = LinearRegression()\n",
    "model_linear.fit(data_pca_result, y)    # 输入主成分数据和预测变量y并训练模型\n",
    "print(model_linear.coef_)\n",
    "print(model_linear.intercept_)"
   ]
  },
  {
   "cell_type": "code",
   "execution_count": 9,
   "metadata": {},
   "outputs": [
    {
     "name": "stdout",
     "output_type": "stream",
     "text": [
      "(array([0, 1, 2, 3, 4, 5, 6, 7, 8], dtype=int64),)\n"
     ]
    }
   ],
   "source": [
    "print(rule_index)"
   ]
  }
 ],
 "metadata": {
  "kernelspec": {
   "display_name": "Python 3",
   "language": "python",
   "name": "python3"
  },
  "language_info": {
   "codemirror_mode": {
    "name": "ipython",
    "version": 3
   },
   "file_extension": ".py",
   "mimetype": "text/x-python",
   "name": "python",
   "nbconvert_exporter": "python",
   "pygments_lexer": "ipython3",
   "version": "3.7.4"
  }
 },
 "nbformat": 4,
 "nbformat_minor": 2
}
