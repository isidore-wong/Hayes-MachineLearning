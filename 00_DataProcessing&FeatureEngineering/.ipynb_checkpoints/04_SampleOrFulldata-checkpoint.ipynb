{
 "cells": [
  {
   "cell_type": "markdown",
   "metadata": {},
   "source": [
    "### 数据抽样"
   ]
  },
  {
   "cell_type": "code",
   "execution_count": 2,
   "metadata": {},
   "outputs": [],
   "source": [
    "# 使用random实现抽样处理\n",
    "import random\n",
    "import numpy as np"
   ]
  },
  {
   "cell_type": "code",
   "execution_count": 5,
   "metadata": {},
   "outputs": [
    {
     "name": "stdout",
     "output_type": "stream",
     "text": [
      "2000\n"
     ]
    }
   ],
   "source": [
    "# 采用random的sample方法进行简单随机抽样\n",
    "data = np.loadtxt('../dataset/data3.txt')\n",
    "simple_randpm_resampled = data[random.sample([i for i in range(len(data))], 2000)]    # 样本大小\n",
    "print(len(simple_randpm_resampled))\n",
    "# simple_randpm_resampled[:5]"
   ]
  },
  {
   "cell_type": "code",
   "execution_count": 6,
   "metadata": {},
   "outputs": [
    {
     "name": "stdout",
     "output_type": "stream",
     "text": [
      "2000\n"
     ]
    },
    {
     "data": {
      "text/plain": [
       "[array([-3.08057779,  8.09020329,  2.02732982,  2.92353937, -6.06318211]),\n",
       " array([-2.11984871,  7.74916701,  5.7318711 ,  4.75148273, -5.68598747]),\n",
       " array([-1.32948128,  8.11607819,  5.47467426,  2.26973107, -7.91745707]),\n",
       " array([-1.35101097,  9.271403  ,  4.95439173,  3.34503182, -6.7040739 ]),\n",
       " array([-2.40684994,  8.58167685,  3.98069653,  1.97710699, -6.40187309])]"
      ]
     },
     "execution_count": 6,
     "metadata": {},
     "output_type": "execute_result"
    }
   ],
   "source": [
    "# 等距抽样\n",
    "sample_count = 2000\n",
    "record_count = data.shape[0]\n",
    "width = record_count / sample_count\n",
    "equidistant_resampled = []\n",
    "i = 0    # 自增计数以得到对应索引值\n",
    "while len(equidistant_resampled) <= sample_count and i*width <= record_count-1:    # 当样本量<=指定抽样数量，且矩阵索引在有效范围内时\n",
    "    equidistant_resampled.append(data[int(i * width)])\n",
    "    i += 1\n",
    "print(len(equidistant_resampled))\n",
    "equidistant_resampled[:5]"
   ]
  },
  {
   "cell_type": "code",
   "execution_count": 19,
   "metadata": {},
   "outputs": [
    {
     "name": "stdout",
     "output_type": "stream",
     "text": [
      "{0.0: 50, 1.0: 50}\n"
     ]
    }
   ],
   "source": [
    "# 分层抽样\n",
    "data_stratified = np.loadtxt('../dataset/data2.txt')\n",
    "each_sample_count = 50    # 定义每个分层的抽样数量\n",
    "label_data_unique = np.unique(data_stratified[:, -1])    # 定义分层值域\n",
    "stratified_resampled = []\n",
    "stratified_dict = {}\n",
    "for label_data in label_data_unique:\n",
    "    sample_list = []\n",
    "    for data_tmp in data_stratified:\n",
    "        if data_tmp[-1] == label_data:\n",
    "            sample_list.append(data_tmp)\n",
    "    each_sample_data = random.sample(sample_list,\n",
    "                                     each_sample_count)\n",
    "    stratified_resampled.extend(each_sample_data)\n",
    "    stratified_dict[label_data] = len(each_sample_data)\n",
    "\n",
    "print(stratified_dict)"
   ]
  },
  {
   "cell_type": "code",
   "execution_count": 26,
   "metadata": {},
   "outputs": [
    {
     "name": "stdout",
     "output_type": "stream",
     "text": [
      "[0. 1. 2. 3.]\n",
      "[1.0, 0.0]\n",
      "500\n"
     ]
    }
   ],
   "source": [
    "# 整群抽样\n",
    "data_cluster = np.loadtxt('../dataset/data4.txt')\n",
    "label_data_unique = np.unique(data_cluster[:, -1])    # 统计数据中有几个整群\n",
    "print(label_data_unique)    \n",
    "sample_label = random.sample(set(label_data_unique), 2)    # 随机抽取两个整群\n",
    "cluster_resampled = []\n",
    "for each_label in sample_label:\n",
    "    for data_tep in data_cluster:\n",
    "        if data_tep[-1] == each_label:\n",
    "            cluster_resampled.append(data_tep)\n",
    "print(sample_label)\n",
    "print(len(cluster_resampled))"
   ]
  }
 ],
 "metadata": {
  "kernelspec": {
   "display_name": "Python 3",
   "language": "python",
   "name": "python3"
  },
  "language_info": {
   "codemirror_mode": {
    "name": "ipython",
    "version": 3
   },
   "file_extension": ".py",
   "mimetype": "text/x-python",
   "name": "python",
   "nbconvert_exporter": "python",
   "pygments_lexer": "ipython3",
   "version": "3.7.4"
  }
 },
 "nbformat": 4,
 "nbformat_minor": 2
}
