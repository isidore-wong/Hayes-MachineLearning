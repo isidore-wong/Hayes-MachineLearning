{
 "cells": [
  {
   "cell_type": "markdown",
   "metadata": {},
   "source": [
    "### 样本类别分类不均衡问题\n",
    "采用Python的imbalanced-learn包处理不平衡数据，采用sklearn的SVM调整类别权重处理样本不均衡问题"
   ]
  },
  {
   "cell_type": "code",
   "execution_count": 9,
   "metadata": {},
   "outputs": [],
   "source": [
    "import pandas as pd\n",
    "from imblearn.over_sampling import SMOTE    # 过抽样处理库SMOTE\n",
    "from imblearn.under_sampling import RandomUnderSampler    # 欠抽样处理库\n",
    "from sklearn.svm import SVC    # 调整算法中的分类权重"
   ]
  },
  {
   "cell_type": "code",
   "execution_count": 7,
   "metadata": {},
   "outputs": [
    {
     "name": "stdout",
     "output_type": "stream",
     "text": [
      "       col1  col2  col3  col4  col5\n",
      "label                              \n",
      "0.0     942   942   942   942   942\n",
      "1.0      58    58    58    58    58\n"
     ]
    }
   ],
   "source": [
    "df = pd.read_table('..\\dataset\\data2.txt', sep=' ', names=['col1', 'col2', 'col3', 'col4', 'col5', 'label'])\n",
    "x, y = df.iloc[:, :-1], df.iloc[:, -1]\n",
    "groupby_data_original = df.groupby('label').count()    # 对label做分类汇总，查看分类数据是否均衡\n",
    "print(groupby_data_original)    # 正样本数量较少，占总样本量的5.8%，属于严重不均衡分布"
   ]
  },
  {
   "cell_type": "code",
   "execution_count": 13,
   "metadata": {},
   "outputs": [
    {
     "name": "stdout",
     "output_type": "stream",
     "text": [
      "       col1  col2  col3  col4  col5\n",
      "label                              \n",
      "0.0     942   942   942   942   942\n",
      "1.0     942   942   942   942   942\n"
     ]
    }
   ],
   "source": [
    "# 采用SMOTE方法进行过抽样处理\n",
    "model_smote = SMOTE()\n",
    "# 输入数据并做过抽样处理\n",
    "x_smote_resampled, y_smote_resampled = model_smote.fit_sample(x, y)\n",
    "x_smote_resampled = pd.DataFrame(x_smote_resampled, columns=['col1', 'col2', 'col3', 'col4', 'col5'])\n",
    "y_smote_resampled = pd.DataFrame(y_smote_resampled, columns=['label'])\n",
    "smote_resampled = pd.concat([x_smote_resampled, y_smote_resampled], axis=1)\n",
    "groupby_data_smote = smote_resampled.groupby('label').count()\n",
    "print(groupby_data_smote)\n",
    "# smote_resampled"
   ]
  },
  {
   "cell_type": "code",
   "execution_count": 15,
   "metadata": {},
   "outputs": [
    {
     "name": "stdout",
     "output_type": "stream",
     "text": [
      "       col1  col2  col3  col4  col5\n",
      "label                              \n",
      "0.0      58    58    58    58    58\n",
      "1.0      58    58    58    58    58\n"
     ]
    }
   ],
   "source": [
    "# 采用RandomUnderSample方法进行欠抽样处理\n",
    "model_rus = RandomUnderSampler()\n",
    "x_rus_resampled, y_rus_resampled = model_rus.fit_sample(x, y)\n",
    "x_rus_resampled = pd.DataFrame(x_rus_resampled, columns=['col1', 'col2', 'col3', 'col4', 'col5'])\n",
    "y_rus_resampled = pd.DataFrame(y_rus_resampled,columns=['label'])\n",
    "rus_resampled = pd.concat([x_rus_resampled, y_rus_resampled], axis=1)\n",
    "groupby_data_rus = rus_resampled.groupby('label').count()\n",
    "print(groupby_data_rus)\n",
    "# rus_resampled"
   ]
  },
  {
   "cell_type": "code",
   "execution_count": 17,
   "metadata": {},
   "outputs": [
    {
     "data": {
      "text/plain": [
       "SVC(C=1.0, break_ties=False, cache_size=200, class_weight='balanced', coef0=0.0,\n",
       "    decision_function_shape='ovr', degree=3, gamma='scale', kernel='rbf',\n",
       "    max_iter=-1, probability=False, random_state=None, shrinking=True,\n",
       "    tol=0.001, verbose=False)"
      ]
     },
     "execution_count": 17,
     "metadata": {},
     "output_type": "execute_result"
    }
   ],
   "source": [
    "# 采用SVM的权重调节处理不均衡样本\n",
    "model_svm = SVC(class_weight='balanced', gamma='scale')\n",
    "model_svm.fit(x, y)\n",
    "\n",
    "model_svm"
   ]
  }
 ],
 "metadata": {
  "kernelspec": {
   "display_name": "Python 3",
   "language": "python",
   "name": "python3"
  },
  "language_info": {
   "codemirror_mode": {
    "name": "ipython",
    "version": 3
   },
   "file_extension": ".py",
   "mimetype": "text/x-python",
   "name": "python",
   "nbconvert_exporter": "python",
   "pygments_lexer": "ipython3",
   "version": "3.7.4"
  }
 },
 "nbformat": 4,
 "nbformat_minor": 2
}
