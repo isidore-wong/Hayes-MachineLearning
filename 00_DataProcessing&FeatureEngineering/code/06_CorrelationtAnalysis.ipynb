{
 "cells": [
  {
   "cell_type": "code",
   "execution_count": 2,
   "metadata": {},
   "outputs": [],
   "source": [
    "# 相关性分析\n",
    "import pandas as pd\n",
    "import numpy as np"
   ]
  },
  {
   "cell_type": "code",
   "execution_count": 4,
   "metadata": {},
   "outputs": [
    {
     "name": "stdout",
     "output_type": "stream",
     "text": [
      "[[ 1.   -0.04  0.27 -0.05  0.21 -0.05  0.19 -0.03 -0.02]\n",
      " [-0.04  1.   -0.01  0.73 -0.01  0.62  0.    0.48  0.51]\n",
      " [ 0.27 -0.01  1.   -0.01  0.72 -0.    0.65  0.01  0.02]\n",
      " [-0.05  0.73 -0.01  1.    0.01  0.88  0.01  0.7   0.72]\n",
      " [ 0.21 -0.01  0.72  0.01  1.    0.02  0.91  0.03  0.03]\n",
      " [-0.05  0.62 -0.    0.88  0.02  1.    0.03  0.83  0.82]\n",
      " [ 0.19  0.    0.65  0.01  0.91  0.03  1.    0.03  0.03]\n",
      " [-0.03  0.48  0.01  0.7   0.03  0.83  0.03  1.    0.71]\n",
      " [-0.02  0.51  0.02  0.72  0.03  0.82  0.03  0.71  1.  ]]\n"
     ]
    }
   ],
   "source": [
    "data = np.loadtxt('../dataset/data5.txt', delimiter='\\t')\n",
    "x = data[:, :-1]\n",
    "correlation_matrix = np.corrcoef(x, rowvar=0)    # 相关性分析，通过参数rowvar=0控制对列做分析\n",
    "print(correlation_matrix.round(2))"
   ]
  },
  {
   "cell_type": "code",
   "execution_count": 6,
   "metadata": {},
   "outputs": [
    {
     "data": {
      "text/plain": [
       "[Text(0, 0, 'x0'),\n",
       " Text(0, 0, 'x1'),\n",
       " Text(0, 0, 'x2'),\n",
       " Text(0, 0, 'x3'),\n",
       " Text(0, 0, 'x4'),\n",
       " Text(0, 0, 'x5'),\n",
       " Text(0, 0, 'x6'),\n",
       " Text(0, 0, 'x7'),\n",
       " Text(0, 0, 'x8')]"
      ]
     },
     "execution_count": 6,
     "metadata": {},
     "output_type": "execute_result"
    },
    {
     "data": {
      "image/png": "[encoded data removed]",
      "text/plain": [
       "<Figure size 432x288 with 2 Axes>"
      ]
     },
     "metadata": {
      "needs_background": "light"
     },
     "output_type": "display_data"
    }
   ],
   "source": [
    "import matplotlib.pyplot as plt\n",
    "\n",
    "fig = plt.figure()    # 调用figure创建一个绘图对象\n",
    "ax = fig.add_subplot(111)    # 设置1个子网格并添加子网格对象\n",
    "hot_img = ax.matshow(np.abs(correlation_matrix), vmin=0, vmax=1)    # 绘制热力图\n",
    "fig.colorbar(hot_img)    # 为热力图生成衍生渐变条\n",
    "ticks = np.arange(0, 9, 1)    # 生成0-9，步长为1\n",
    "ax.set_xticks(ticks)    # 生成x轴刻度\n",
    "ax.set_yticks(ticks)\n",
    "names = ['x' + str(i) for i in range(x.shape[1])]    # 生成坐标轴标签文字\n",
    "ax.set_xticklabels(names)    # 生成x轴标签\n",
    "ax.set_yticklabels(names)"
   ]
  }
 ],
 "metadata": {
  "kernelspec": {
   "display_name": "Python 3",
   "language": "python",
   "name": "python3"
  },
  "language_info": {
   "codemirror_mode": {
    "name": "ipython",
    "version": 3
   },
   "file_extension": ".py",
   "mimetype": "text/x-python",
   "name": "python",
   "nbconvert_exporter": "python",
   "pygments_lexer": "ipython3",
   "version": "3.7.4"
  }
 },
 "nbformat": 4,
 "nbformat_minor": 2
}
